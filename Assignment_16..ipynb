{
 "cells": [
  {
   "cell_type": "code",
   "execution_count": null,
   "metadata": {},
   "outputs": [],
   "source": [
    "Q1. What is the benefit of regular expressions?"
   ]
  },
  {
   "cell_type": "code",
   "execution_count": null,
   "metadata": {},
   "outputs": [],
   "source": [
    "A RegEx, or Regular Expression, is a sequence of characters that forms a search pattern. RegEx can be used to check if a \n",
    "string contains the specified search pattern."
   ]
  },
  {
   "cell_type": "code",
   "execution_count": null,
   "metadata": {},
   "outputs": [],
   "source": [
    "Q2. Describe the difference between the effects of \"(ab)c+\" and \"a(bc)+\" Which of these, if any, is the unqualified pattern\n",
    "\"abc+\"?"
   ]
  },
  {
   "cell_type": "code",
   "execution_count": null,
   "metadata": {},
   "outputs": [],
   "source": [
    "The regular expression \"(ab)c+\" matches strings that start with \"ab\" followed by one or more occurrences of \"c\".For example\n",
    ",it would match \"abc\",\"abccc\",but not \"ab\" or \"ac\".\n",
    "On the other hand,the regular expression \"a(bc)+\" matches strings that start with \"a\",followed by one or more occurrences \n",
    "of \"bc\".For example,it would match \"abc\",\"abcbc\", and \"abcbcbc\" but not \"ab\" or \"ac\".\n",
    "The unqualified pattern \"abc+\"in Python matches strigs that contain one or more occurrences of \"a\" followed by one \n",
    "occurrence of the character \"b\" followed by one or more occurrences of the character \"c\".For example,it would match \"abc\",\n",
    "\"abcc\",\"abccc\",but not \"ab\" or \"ac\".\n",
    "So,while \"(ab)c+\" and \"a(bc)+\" have similar atructures to \"abc+\",they match slightly different patterns."
   ]
  },
  {
   "cell_type": "code",
   "execution_count": null,
   "metadata": {},
   "outputs": [],
   "source": [
    "Q3. How much do you need to use the following sentence while using regular expressions?\n",
    "import re"
   ]
  },
  {
   "cell_type": "code",
   "execution_count": null,
   "metadata": {},
   "outputs": [],
   "source": [
    " Python provides a re module that supports the use of regex in Python. Its primary function is to offer a search, where it \n",
    "takes a regular expression and a string."
   ]
  },
  {
   "cell_type": "code",
   "execution_count": null,
   "metadata": {},
   "outputs": [],
   "source": [
    "Q4. Which characters have special significance in square brackets when expressing a range, and under what circumstances?"
   ]
  },
  {
   "cell_type": "code",
   "execution_count": null,
   "metadata": {},
   "outputs": [],
   "source": [
    "regex characters have special significance in square brackets when expressing a range, and to check if a string contains\n",
    "the specific search pattern."
   ]
  },
  {
   "cell_type": "code",
   "execution_count": null,
   "metadata": {},
   "outputs": [],
   "source": [
    "Q5. How does compiling a regular-expression object benefit you?"
   ]
  },
  {
   "cell_type": "code",
   "execution_count": null,
   "metadata": {},
   "outputs": [],
   "source": [
    "Another advantage of compiling a regular expression is that, when you compile a regular expression, you can specify a \n",
    "number of options modifying the way that Python will treat the regular expression. Each option is defined as a constant in \n",
    "the re module in two forms; a long form and a single letter abbreviation."
   ]
  },
  {
   "cell_type": "code",
   "execution_count": null,
   "metadata": {},
   "outputs": [],
   "source": [
    "Q6. What are some examples of how to use the match object returned by re.match and re.search?"
   ]
  },
  {
   "cell_type": "code",
   "execution_count": 1,
   "metadata": {},
   "outputs": [
    {
     "name": "stdout",
     "output_type": "stream",
     "text": [
      "<re.Match object; span=(66, 72), match='string'>\n",
      "None\n",
      "<re.Match object; span=(0, 6), match='string'>\n",
      "<re.Match object; span=(0, 6), match='string'>\n"
     ]
    }
   ],
   "source": [
    "import re\n",
    "\n",
    "Substring ='string'\n",
    "String1 ='''We are learning regex with geeksforgeeks regex is very useful for string matching.It is fast too.'''\n",
    "String2 ='''string We are learning regex with geeksforgeeks regex is very useful for string matching.It is fast too.'''\n",
    " \n",
    "print(re.search(Substring, String1, re.IGNORECASE))\n",
    "print(re.match(Substring, String1, re.IGNORECASE))\n",
    " \n",
    "print(re.search(Substring, String2, re.IGNORECASE))\n",
    "print(re.match(Substring, String2, re.IGNORECASE))"
   ]
  },
  {
   "cell_type": "code",
   "execution_count": null,
   "metadata": {},
   "outputs": [],
   "source": [
    "Q7. What is the difference between using a vertical bar (|) as an alteration and using square brackets as a character set?"
   ]
  },
  {
   "cell_type": "code",
   "execution_count": null,
   "metadata": {},
   "outputs": [],
   "source": [
    "The alternation or vertical bar (|) is used as an or operator. It means either one of the characters or multiple \n",
    "characters, or all the characters specified can match.\n",
    "\n",
    "The square brackets are used to defines a set of characters we wish to match. Not every character specified inside the \n",
    "square brackets needs to match."
   ]
  },
  {
   "cell_type": "code",
   "execution_count": null,
   "metadata": {},
   "outputs": [],
   "source": [
    "Q8. In regular-expression search patterns, why is it necessary to use the raw-string indicator (r)? In replacement strings?"
   ]
  },
  {
   "cell_type": "code",
   "execution_count": null,
   "metadata": {},
   "outputs": [],
   "source": [
    "For regular expression patterns, the answer is to utilize Python's raw string notation; backslashes are not treated \n",
    "differently in a string literal prefixed with \"r.\" Therefore, r\"\\n\" is a two-character string made up of the letters \"\" \n",
    "and \"n,\" whereas \"\\n\" is a one-character string made up of the letter \"n.\""
   ]
  },
  {
   "cell_type": "code",
   "execution_count": null,
   "metadata": {},
   "outputs": [],
   "source": []
  }
 ],
 "metadata": {
  "kernelspec": {
   "display_name": "Python 3",
   "language": "python",
   "name": "python3"
  },
  "language_info": {
   "codemirror_mode": {
    "name": "ipython",
    "version": 3
   },
   "file_extension": ".py",
   "mimetype": "text/x-python",
   "name": "python",
   "nbconvert_exporter": "python",
   "pygments_lexer": "ipython3",
   "version": "3.8.3"
  }
 },
 "nbformat": 4,
 "nbformat_minor": 4
}
