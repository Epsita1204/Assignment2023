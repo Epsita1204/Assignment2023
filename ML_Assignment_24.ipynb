{
 "cells": [
  {
   "cell_type": "code",
   "execution_count": null,
   "metadata": {},
   "outputs": [],
   "source": [
    "1. What is your definition of clustering? What are a few clustering algorithms you might think of?"
   ]
  },
  {
   "cell_type": "code",
   "execution_count": null,
   "metadata": {},
   "outputs": [],
   "source": [
    "Clustering is the task of dividing the population or data points into a number of groups such that points in the same\n",
    "groups are more similar to other data points in the same group and dissimilar to the points in other groups."
   ]
  },
  {
   "cell_type": "code",
   "execution_count": null,
   "metadata": {},
   "outputs": [],
   "source": [
    "2. What are some of the most popular clustering algorithm applications?"
   ]
  },
  {
   "cell_type": "code",
   "execution_count": null,
   "metadata": {},
   "outputs": [],
   "source": [
    "K-means clustering is the most commonly used clustering algorithm.It's a centroid-based algorithm and the simplest\n",
    "unsupervised learning algorithm.This algorithm tries to minimize the variance of data points within a cluster.It's also\n",
    "how most people are introduced to supervised machine learning."
   ]
  },
  {
   "cell_type": "code",
   "execution_count": null,
   "metadata": {},
   "outputs": [],
   "source": [
    "3. When using K-Means, describe two strategies for selecting the appropriate number of clusters."
   ]
  },
  {
   "cell_type": "code",
   "execution_count": null,
   "metadata": {},
   "outputs": [],
   "source": [
    "K-means clustering algorithm can be significantly improved by using a better initialization techniqyue,and by repeating\n",
    "(restarting) the algorithm.When the data has overlappping clusters,k-means can imrove the results of the initialization\n",
    "technique."
   ]
  },
  {
   "cell_type": "code",
   "execution_count": null,
   "metadata": {},
   "outputs": [],
   "source": [
    "4. What is mark propagation and how does it work? Why would you do it, and how would you do it?"
   ]
  },
  {
   "cell_type": "code",
   "execution_count": null,
   "metadata": {},
   "outputs": [],
   "source": [
    "Backpropagation, or backward propagation of errors, is an algorithm that is designed to test for errors working back from\n",
    "output nodes to input nodes. It is an important mathematical tool for improving the accuracy of predictions in data mining \n",
    "and machine learning.\n",
    "The backpropagation algorithm works by computing the gradient of the loss function with respect to each weight by the chain\n",
    "rule,computing the gradient one layer at a time,iterating backward from the last layer to avoid redundant calculations of\n",
    "intermediate terms in the chain rule."
   ]
  },
  {
   "cell_type": "code",
   "execution_count": null,
   "metadata": {},
   "outputs": [],
   "source": [
    "5. Provide two examples of clustering algorithms that can handle large datasets. And two that look for high-density areas?"
   ]
  },
  {
   "cell_type": "code",
   "execution_count": null,
   "metadata": {},
   "outputs": [],
   "source": [
    "The most commonly used algorithm in clustering are partioning,hierarchical,grid based,density and model based algorithms.A\n",
    "review of clustering and its different techniques in data mining is done considering the criteria's for big data."
   ]
  },
  {
   "cell_type": "code",
   "execution_count": null,
   "metadata": {},
   "outputs": [],
   "source": [
    "6. Can you think of a scenario in which constructive learning will be advantageous? How can you go about putting it into \n",
    "action?"
   ]
  },
  {
   "cell_type": "code",
   "execution_count": null,
   "metadata": {},
   "outputs": [],
   "source": [
    "In Constructive learning,the traditional classroom learning procedure is flipped.Instead of a teacher informing a child \n",
    "about a subject and constructing a meaning for them ,in constructivist learning,children construct their own meanings.Now,\n",
    "this may not be the best approach for every learning environment,but it can be tremendously helpful at home.\n",
    "The home environment is where childern primarily develop a sense of self and is the perfect setting for children to \n",
    "practice taking initiative in their learning via a Constructivist approach."
   ]
  },
  {
   "cell_type": "code",
   "execution_count": null,
   "metadata": {},
   "outputs": [],
   "source": [
    "7. How do you tell the difference between anomaly and novelty detection?"
   ]
  },
  {
   "cell_type": "code",
   "execution_count": null,
   "metadata": {},
   "outputs": [],
   "source": [
    "In \"novelty detection\",you have a dataset that contains only good data ,and you're trying to determine whether new \n",
    "observations fit within the existing data set.In \"outlier detection\",the data may contain outliers,which you want to \n",
    "identity."
   ]
  },
  {
   "cell_type": "code",
   "execution_count": null,
   "metadata": {},
   "outputs": [],
   "source": [
    "8. What is a Gaussian mixture, and how does it work? What are some of the things you can do about it?"
   ]
  },
  {
   "cell_type": "code",
   "execution_count": null,
   "metadata": {},
   "outputs": [],
   "source": [
    "A Gaussian Mixture is a function that is comprised of several Gaussians, each identified by k ∈ {1,…, K}, where K is the\n",
    "number of clusters of our dataset. Each Gaussian k in the mixture is comprised of the following parameters:A mean μ that \n",
    "defines its centre.A covariance Σ that defines its width."
   ]
  },
  {
   "cell_type": "code",
   "execution_count": null,
   "metadata": {},
   "outputs": [],
   "source": [
    "9. When using a Gaussian mixture model, can you name two techniques for determining the correct number of clusters?"
   ]
  },
  {
   "cell_type": "code",
   "execution_count": null,
   "metadata": {},
   "outputs": [],
   "source": [
    "An approach is to find the clusters using soft clustering methods and then see if they are gaussian.If they are then you\n",
    "can apply a GMM model which represents the whole dataset."
   ]
  },
  {
   "cell_type": "code",
   "execution_count": null,
   "metadata": {},
   "outputs": [],
   "source": []
  }
 ],
 "metadata": {
  "kernelspec": {
   "display_name": "Python 3",
   "language": "python",
   "name": "python3"
  },
  "language_info": {
   "codemirror_mode": {
    "name": "ipython",
    "version": 3
   },
   "file_extension": ".py",
   "mimetype": "text/x-python",
   "name": "python",
   "nbconvert_exporter": "python",
   "pygments_lexer": "ipython3",
   "version": "3.8.3"
  }
 },
 "nbformat": 4,
 "nbformat_minor": 4
}
