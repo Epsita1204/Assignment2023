{
 "cells": [
  {
   "cell_type": "code",
   "execution_count": null,
   "metadata": {},
   "outputs": [],
   "source": [
    "Q1. If you have any, what are your choices for increasing the comparison between different figures on the same graph?"
   ]
  },
  {
   "cell_type": "code",
   "execution_count": null,
   "metadata": {},
   "outputs": [],
   "source": [
    "Bar graph,Line graph are my choices for increasing the comparison between different figures on the same graph."
   ]
  },
  {
   "cell_type": "code",
   "execution_count": null,
   "metadata": {},
   "outputs": [],
   "source": [
    "Q2. Can you explain the benefit of compound interest over a higher rate of interest that does not compound after reading \n",
    "this chapter?"
   ]
  },
  {
   "cell_type": "code",
   "execution_count": null,
   "metadata": {},
   "outputs": [],
   "source": [
    "Compound interest makes your money grow faster because interest is calculated on the accumulated interest over time as \n",
    "well as on your original principal. Compounding can create a snowball effect, as the original investments plus the income \n",
    "earned from those investments grow together."
   ]
  },
  {
   "cell_type": "code",
   "execution_count": null,
   "metadata": {},
   "outputs": [],
   "source": [
    "Q3. What is a histogram, exactly? Name a numpy method for creating such a graph."
   ]
  },
  {
   "cell_type": "code",
   "execution_count": null,
   "metadata": {},
   "outputs": [],
   "source": [
    "A histogram is a graph showing frequency distributions. It is a graph showing the number of observations within each given\n",
    "interval."
   ]
  },
  {
   "cell_type": "code",
   "execution_count": 4,
   "metadata": {},
   "outputs": [
    {
     "data": {
      "image/png": "[encoded data removed]",
      "text/plain": [
       "<Figure size 720x504 with 1 Axes>"
      ]
     },
     "metadata": {
      "needs_background": "light"
     },
     "output_type": "display_data"
    }
   ],
   "source": [
    "import matplotlib.pyplot as plt\n",
    "import numpy as np \n",
    "\n",
    "a=np.random.randint(100, size =(50))\n",
    "fig = plt.figure(figsize =(10, 7))\n",
    "plt.hist(a, bins = [0, 10, 20, 30,\n",
    "                    40, 50, 60, 70,\n",
    "                    80, 90, 100])\n",
    "plt.title(\"Numpy Histogram\")\n",
    " \n",
    "plt.show()"
   ]
  },
  {
   "cell_type": "code",
   "execution_count": null,
   "metadata": {},
   "outputs": [],
   "source": [
    "Q4. If necessary, how do you change the aspect ratios between the X and Y axes?"
   ]
  },
  {
   "cell_type": "code",
   "execution_count": null,
   "metadata": {},
   "outputs": [],
   "source": [
    "To change its matplotlib aspect ratio, we will use the set_aspect() function. We will also use the ptp() function in NumPy\n",
    "to get the peak-to-peak value range from the minimum to the maximum."
   ]
  },
  {
   "cell_type": "code",
   "execution_count": null,
   "metadata": {},
   "outputs": [],
   "source": [
    "Q5. Compare and contrast the three types of array multiplication between two numpy arrays: dot product, outer product, and \n",
    "regular multiplication of two numpy arrays."
   ]
  },
  {
   "cell_type": "code",
   "execution_count": 9,
   "metadata": {},
   "outputs": [
    {
     "name": "stdout",
     "output_type": "stream",
     "text": [
      "[1 4 5 6]\n",
      "[[1 4]\n",
      " [5 6]]\n",
      "[[2 4]\n",
      " [5 2]]\n",
      "dot product\n",
      "[[22 12]\n",
      " [40 32]]\n",
      "-------------\n",
      "Outer product\n",
      "[[ 2  4  5  2]\n",
      " [ 8 16 20  8]\n",
      " [10 20 25 10]\n",
      " [12 24 30 12]]\n",
      "-----------------\n",
      "Regular Multiplication\n",
      "[[ 2 16]\n",
      " [25 12]]\n"
     ]
    }
   ],
   "source": [
    "import numpy as np\n",
    "import random\n",
    "\n",
    "a=np.array([1,4,5,6])\n",
    "b=np.array([2,4,5,2])\n",
    "print(a)\n",
    "c=a.reshape(2,2)\n",
    "print(c)\n",
    "d=b.reshape(2,2)\n",
    "print(d)\n",
    "print('dot product')\n",
    "e=np.dot(c,d)\n",
    "print(e)\n",
    "print('-------------')\n",
    "print('Outer product')\n",
    "f=np.outer(c,d)\n",
    "print(f)\n",
    "print('-----------------')\n",
    "print('Regular Multiplication')\n",
    "g=c*d\n",
    "print(g)"
   ]
  },
  {
   "cell_type": "code",
   "execution_count": null,
   "metadata": {},
   "outputs": [],
   "source": [
    "Q6. Before you buy a home, which numpy function will you use to measure your monthly mortgage payment?"
   ]
  },
  {
   "cell_type": "code",
   "execution_count": null,
   "metadata": {},
   "outputs": [],
   "source": [
    "In order to calculate the monthly mortgage payment, you will use the numpy function . pmt(rate, nper, pv) where:\n",
    "rate = The periodic (monthly) interest rate."
   ]
  },
  {
   "cell_type": "code",
   "execution_count": null,
   "metadata": {},
   "outputs": [],
   "source": [
    "Q7. Can string data be stored in numpy arrays? If so, list at least one restriction that applies to this data."
   ]
  },
  {
   "cell_type": "code",
   "execution_count": null,
   "metadata": {},
   "outputs": [],
   "source": [
    "Yes,The elements of a NumPy array, or simply an array, are usually numbers, but can also be boolians, strings, or other\n",
    "objects.\n"
   ]
  },
  {
   "cell_type": "code",
   "execution_count": null,
   "metadata": {},
   "outputs": [],
   "source": []
  }
 ],
 "metadata": {
  "kernelspec": {
   "display_name": "Python 3",
   "language": "python",
   "name": "python3"
  },
  "language_info": {
   "codemirror_mode": {
    "name": "ipython",
    "version": 3
   },
   "file_extension": ".py",
   "mimetype": "text/x-python",
   "name": "python",
   "nbconvert_exporter": "python",
   "pygments_lexer": "ipython3",
   "version": "3.8.3"
  }
 },
 "nbformat": 4,
 "nbformat_minor": 4
}
