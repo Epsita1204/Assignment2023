{
 "cells": [
  {
   "cell_type": "code",
   "execution_count": null,
   "metadata": {},
   "outputs": [],
   "source": [
    "1. Write a Python Program to Add Two Matrices?"
   ]
  },
  {
   "cell_type": "code",
   "execution_count": 1,
   "metadata": {},
   "outputs": [
    {
     "name": "stdout",
     "output_type": "stream",
     "text": [
      "No of rows in first matrix :2\n",
      "No of cols in first matrix:2\n",
      "Enter value in first matrix\n",
      "Enter a value:4\n",
      "Enter a value:5\n",
      "Enter a value:7\n",
      "Enter a value:8\n",
      "Enter value in second matrix\n",
      "Enter a value:45\n",
      "Enter a value:6\n",
      "Enter a value:3\n",
      "Enter a value:2\n",
      "MATRIX\n",
      "49 11 \n",
      "10 10 \n"
     ]
    }
   ],
   "source": [
    "def take(L,m1,n1):\n",
    "    for i in range(m1):\n",
    "        x=[]\n",
    "        for j in range(n1):\n",
    "            a=int(input('Enter a value:'))\n",
    "            x.append(a)\n",
    "        L.append(x)\n",
    "def show(L):\n",
    "    for i in range(len(L)):\n",
    "        for j in range(len(L[0])):\n",
    "            print(L[i][j],end=' ')\n",
    "        print()\n",
    "def sum(x,y,z,m,n):\n",
    "    for i in range(m):\n",
    "        a=[]\n",
    "        for j in range(n):\n",
    "            a.append(x[i][j]+y[i][j])\n",
    "        z.append(a)\n",
    "x=[]\n",
    "y=[]\n",
    "z=[]\n",
    "m=int(input('No of rows in first matrix :'))\n",
    "n=int(input('No of cols in first matrix:'))\n",
    "print('Enter value in first matrix')\n",
    "take(x,m,n)\n",
    "print('Enter value in second matrix')\n",
    "take(y,m,n)\n",
    "sum(x,y,z,m,n)\n",
    "print('MATRIX')\n",
    "show(z)\n"
   ]
  },
  {
   "cell_type": "code",
   "execution_count": null,
   "metadata": {},
   "outputs": [],
   "source": [
    "2. Write a Python Program to Multiply Two Matrices?"
   ]
  },
  {
   "cell_type": "code",
   "execution_count": 2,
   "metadata": {},
   "outputs": [
    {
     "name": "stdout",
     "output_type": "stream",
     "text": [
      "No of rows in first matrix 2\n",
      "No of cols in first matrix2\n",
      "Enter value in first matrix\n",
      "Enter a value :4\n",
      "Enter a value :5\n",
      "Enter a value :7\n",
      "Enter a value :8\n",
      "Enter value in second matrix\n",
      "Enter a value :6\n",
      "Enter a value :9\n",
      "Enter a value :8\n",
      "Enter a value :5\n",
      "MATRIX\n",
      "64 61 \n",
      "106 103 \n"
     ]
    }
   ],
   "source": [
    "def take(L,m1,n1):\n",
    "    for i in range(m1):\n",
    "        x=[]\n",
    "        for j in range(n1):\n",
    "            a=int(input('Enter a value :'))\n",
    "            x.append(a)\n",
    "        L.append(x)\n",
    "def show(L):\n",
    "    for i in range(len(L)):\n",
    "        for j in range(len(L[0])):\n",
    "            print(L[i][j],end=' ')\n",
    "        print()\n",
    "def mul(x,y,z,m,n):\n",
    "    for i in range(m):\n",
    "        a=[]\n",
    "        for j in range(n):\n",
    "            s=0\n",
    "            for k in range(n):\n",
    "                s+=x[i][k]*y[k][j]\n",
    "            a.append(s)\n",
    "        z.append(a)\n",
    "x=[]\n",
    "y=[]\n",
    "s=[]\n",
    "z=[]\n",
    "m=int(input('No of rows in first matrix '))\n",
    "n=int(input('No of cols in first matrix'))\n",
    "print('Enter value in first matrix')\n",
    "take(x,m,n)\n",
    "print('Enter value in second matrix')\n",
    "take(y,m,n)\n",
    "mul(x,y,z,m,n)\n",
    "print('MATRIX')\n",
    "show(z)       "
   ]
  },
  {
   "cell_type": "code",
   "execution_count": null,
   "metadata": {},
   "outputs": [],
   "source": [
    "3. Write a Python Program to Transpose a Matrix?"
   ]
  },
  {
   "cell_type": "code",
   "execution_count": 3,
   "metadata": {},
   "outputs": [
    {
     "name": "stdout",
     "output_type": "stream",
     "text": [
      "[12, 4, 78]\n",
      "[4, 8, 3]\n"
     ]
    }
   ],
   "source": [
    "x=[[12,4],[4,8],[78,3]]\n",
    "result=[[0,0,0],[0,0,0]]\n",
    "for i in range(len(x)):\n",
    "    for j in range(len(x[0])):\n",
    "        result[j][i]=x[i][j]\n",
    "for r in result:\n",
    "    print(r)"
   ]
  },
  {
   "cell_type": "code",
   "execution_count": null,
   "metadata": {},
   "outputs": [],
   "source": [
    "4. Write a Python Program to Sort Words in Alphabetic Order?"
   ]
  },
  {
   "cell_type": "code",
   "execution_count": 4,
   "metadata": {},
   "outputs": [
    {
     "name": "stdout",
     "output_type": "stream",
     "text": [
      "Enter a string :Write a Python Program to Sort Words in Alphabetic Order\n",
      "The sorted words are :\n",
      "a\n",
      "alphabetic\n",
      "in\n",
      "order\n",
      "program\n",
      "python\n",
      "sort\n",
      "to\n",
      "words\n",
      "write\n"
     ]
    }
   ],
   "source": [
    "string=input(\"Enter a string :\")\n",
    "words=[word.lower() for word in string.split()]\n",
    "words.sort()\n",
    "print(\"The sorted words are :\")\n",
    "for word in words:\n",
    "    print(word)"
   ]
  },
  {
   "cell_type": "code",
   "execution_count": null,
   "metadata": {},
   "outputs": [],
   "source": [
    "5. Write a Python Program to Remove Punctuation From a String?"
   ]
  },
  {
   "cell_type": "code",
   "execution_count": 5,
   "metadata": {},
   "outputs": [
    {
     "name": "stdout",
     "output_type": "stream",
     "text": [
      "Hello he said and went\n"
     ]
    }
   ],
   "source": [
    "punctuations = '''!()-[]{};:'\"\\,<>./?@#$%^&*_~'''\n",
    "my_str = \"Hello!!!, he said ---and went.\"\n",
    "no_punct = \"\"\n",
    "for char in my_str:\n",
    "    if char not in punctuations:\n",
    "        no_punct = no_punct + char\n",
    "\n",
    "print(no_punct)\n"
   ]
  },
  {
   "cell_type": "code",
   "execution_count": null,
   "metadata": {},
   "outputs": [],
   "source": []
  }
 ],
 "metadata": {
  "kernelspec": {
   "display_name": "Python 3",
   "language": "python",
   "name": "python3"
  },
  "language_info": {
   "codemirror_mode": {
    "name": "ipython",
    "version": 3
   },
   "file_extension": ".py",
   "mimetype": "text/x-python",
   "name": "python",
   "nbconvert_exporter": "python",
   "pygments_lexer": "ipython3",
   "version": "3.8.3"
  }
 },
 "nbformat": 4,
 "nbformat_minor": 4
}
