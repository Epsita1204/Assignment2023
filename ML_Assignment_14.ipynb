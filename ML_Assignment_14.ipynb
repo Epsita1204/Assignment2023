{
 "cells": [
  {
   "cell_type": "code",
   "execution_count": null,
   "metadata": {},
   "outputs": [],
   "source": [
    "1. What is the concept of supervised learning? What is the significance of the name?"
   ]
  },
  {
   "cell_type": "code",
   "execution_count": null,
   "metadata": {},
   "outputs": [],
   "source": [
    "Supervised learning, also known as supervised machine learning, is a subcategory of machine learning and artificial \n",
    "intelligence. It is defined by its use of labeled datasets to train algorithms that to classify data or predict outcomes\n",
    "accurately."
   ]
  },
  {
   "cell_type": "code",
   "execution_count": null,
   "metadata": {},
   "outputs": [],
   "source": [
    "2. In the hospital sector, offer an example of supervised learning."
   ]
  },
  {
   "cell_type": "code",
   "execution_count": null,
   "metadata": {},
   "outputs": [],
   "source": [
    "Supervised learning uses a training set to teach models to yield the desired output.This training dataset includes inputs\n",
    "and correct outputs,which allow the model to learn over time.The algorithm measures its accuracy through the loss function,\n",
    "adjusting until the error has been sufficiently minimized."
   ]
  },
  {
   "cell_type": "code",
   "execution_count": null,
   "metadata": {},
   "outputs": [],
   "source": [
    "3. Give three supervised learning examples."
   ]
  },
  {
   "cell_type": "code",
   "execution_count": null,
   "metadata": {},
   "outputs": [],
   "source": [
    "Example of Supervised Learning Algoriths are:\n",
    "->Linear Regression \n",
    "->Nearest Neighbour\n",
    "->Gaussian Naive Bayes\n",
    "->Decision Trees\n",
    "->Support Vector Machine(SVM)\n",
    "->Random Forest"
   ]
  },
  {
   "cell_type": "code",
   "execution_count": null,
   "metadata": {},
   "outputs": [],
   "source": [
    "4. In supervised learning, what are classification and regression?"
   ]
  },
  {
   "cell_type": "code",
   "execution_count": null,
   "metadata": {},
   "outputs": [],
   "source": [
    "Fundamentally,classification is about predicting a label and regression is about predicting a quantity.That classification \n",
    "is the problem of predicting a discrete class label output for an example .That regression is the problem of predicting a\n",
    "continuous quantity output for an example."
   ]
  },
  {
   "cell_type": "code",
   "execution_count": null,
   "metadata": {},
   "outputs": [],
   "source": [
    "5. Give some popular classification algorithms as examples."
   ]
  },
  {
   "cell_type": "code",
   "execution_count": null,
   "metadata": {},
   "outputs": [],
   "source": [
    "Popular algorithms that can be used for multi-class classification include:\n",
    "\n",
    "->Logistic Regression.\n",
    "->Naive Bayes.\n",
    "->K-Nearest Neighbors.\n",
    "->Decision Tree.\n",
    "->Support Vector Machines."
   ]
  },
  {
   "cell_type": "code",
   "execution_count": null,
   "metadata": {},
   "outputs": [],
   "source": [
    "6. Briefly describe the SVM model."
   ]
  },
  {
   "cell_type": "code",
   "execution_count": null,
   "metadata": {},
   "outputs": [],
   "source": [
    "A support vector machine(SVM) is a supervised machine learning model that uses classification algorithms for two-group\n",
    "classification problems.After giving an SVM model sets of labeled training data for each category ,they're able to\n",
    "categorized new text."
   ]
  },
  {
   "cell_type": "code",
   "execution_count": null,
   "metadata": {},
   "outputs": [],
   "source": [
    "7. In SVM, what is the cost of misclassification?"
   ]
  },
  {
   "cell_type": "code",
   "execution_count": null,
   "metadata": {},
   "outputs": [],
   "source": [
    "In cost-sensitive learning instead of each instance being either correctly or incorrectly classified ,each class \n",
    "(or instance) is given a misclassification cost.Thus,instead of trying to optimize the accuracy,the problem is then to\n",
    "minimize the total misclassification cost."
   ]
  },
  {
   "cell_type": "code",
   "execution_count": null,
   "metadata": {},
   "outputs": [],
   "source": [
    "8. In the SVM model, define Support Vectors."
   ]
  },
  {
   "cell_type": "code",
   "execution_count": null,
   "metadata": {},
   "outputs": [],
   "source": [
    "Support vectors are data points that are closer to the hyperplane and influence the position and orientation of the\n",
    "hyperplane.Using these support vectors,we maximize the margin of the classifier.Deleting the support vectors will change \n",
    "the position of the hyperplane.These are the points that help us build our SVM."
   ]
  },
  {
   "cell_type": "code",
   "execution_count": null,
   "metadata": {},
   "outputs": [],
   "source": [
    "9. In the SVM model, define the kernel."
   ]
  },
  {
   "cell_type": "code",
   "execution_count": null,
   "metadata": {},
   "outputs": [],
   "source": [
    "SVM algorithms use a set of mathematical functions that are defined as the kernel. The function of kernel is to take data \n",
    "as input and transform it into the required form. Different SVM algorithms use different types of kernel functions. These \n",
    "functions can be different types. For example linear, nonlinear, polynomial, radial basis function (RBF), and sigmoid."
   ]
  },
  {
   "cell_type": "code",
   "execution_count": null,
   "metadata": {},
   "outputs": [],
   "source": [
    "10. What are the factors that influence SVM's effectiveness?"
   ]
  },
  {
   "cell_type": "code",
   "execution_count": null,
   "metadata": {},
   "outputs": [],
   "source": [
    "SVM or Support Vector Machine is a linear model for classification and regression problems.It can solve linear and \n",
    "non-linear problems and work well for many practical problems.The idea of SVM is simple:The algorithm creates a line or a \n",
    "hyperplane which separates the data into classes."
   ]
  },
  {
   "cell_type": "code",
   "execution_count": null,
   "metadata": {},
   "outputs": [],
   "source": [
    "11. What are the benefits of using the SVM model?"
   ]
  },
  {
   "cell_type": "code",
   "execution_count": null,
   "metadata": {},
   "outputs": [],
   "source": [
    "The benefits of using the SVM model are:\n",
    "    \n",
    "->SVM works relatively well when there is a clear margin of separation between classes.\n",
    "->SVM is more effective in high dimensional spaces and is relatively memory efficient.\n",
    "->SVM is effective in cases where the dimensions are greater than the number of samples."
   ]
  },
  {
   "cell_type": "code",
   "execution_count": null,
   "metadata": {},
   "outputs": [],
   "source": [
    "12. What are the drawbacks of using the SVM model?"
   ]
  },
  {
   "cell_type": "code",
   "execution_count": null,
   "metadata": {},
   "outputs": [],
   "source": [
    "SVM algorithm is not suitable for large data sets.SVM does not perform very well when the data set has more noise i.e \n",
    "target classes are overlapping.In cases where the number of features for each data point exceeds the number of training \n",
    "data samples,the SVM will underperform."
   ]
  },
  {
   "cell_type": "code",
   "execution_count": null,
   "metadata": {},
   "outputs": [],
   "source": [
    "13. Notes should be written on\n",
    "\n",
    "1. The kNN algorithm has a validation flaw.\n",
    "\n",
    "2. In the kNN algorithm, the k value is chosen.\n",
    "\n",
    "3. A decision tree with inductive bias"
   ]
  },
  {
   "cell_type": "code",
   "execution_count": null,
   "metadata": {},
   "outputs": [],
   "source": [
    "1.The kNN algorithm has a validation flaw:\n",
    "\n",
    "The relatively low accuracy of kNN is caused by several factors.One of them is that every characteristic of the method has\n",
    "the same result on calculating distance.The solution of this problem is to give weight to each data characteristic.\n",
    "\n",
    "2. In the kNN algorithm, the k value is chosen:\n",
    "\n",
    "The optimal K value usually found is the square root of N ,where N is the total number of samples.Use an error plot r \n",
    "accuracy plot to find the most favorable K value.KNN performs well with multi-label classes,but you must be aware of the \n",
    "outliers.\n",
    "\n",
    "3. A decision tree with inductive bias:\n",
    "    \n",
    "Shorter trees are perferred over longer ones.Trees that place hign information gain attributes close to the root are \n",
    "preferred over those that do not.\n"
   ]
  },
  {
   "cell_type": "code",
   "execution_count": null,
   "metadata": {},
   "outputs": [],
   "source": [
    "14. What are some of the benefits of the kNN algorithm?"
   ]
  },
  {
   "cell_type": "code",
   "execution_count": null,
   "metadata": {},
   "outputs": [],
   "source": [
    "Some Advantages of KNN are: \n",
    "    \n",
    "->Quick calculation time.\n",
    "->Simple algorithm – to interpret.\n",
    "->Versatile – useful for regression and classification.\n",
    "->High accuracy – you do not need to compare with better-supervised learning models."
   ]
  },
  {
   "cell_type": "code",
   "execution_count": null,
   "metadata": {},
   "outputs": [],
   "source": [
    "15. What are some of the kNN algorithm's drawbacks?"
   ]
  },
  {
   "cell_type": "code",
   "execution_count": null,
   "metadata": {},
   "outputs": [],
   "source": [
    "Some Disadvantages of KNN are:\n",
    "    \n",
    "->Accuracy depends on the quality of the data.\n",
    "->With large data, the prediction stage might be slow.\n",
    "->Sensitive to the scale of the data and irrelevant features.\n",
    "->Require high memory -need to store all of the training data.\n",
    "->Given that it stores all of the training,it can be computationally expensive."
   ]
  },
  {
   "cell_type": "code",
   "execution_count": null,
   "metadata": {},
   "outputs": [],
   "source": [
    "16. Explain the decision tree algorithm in a few words."
   ]
  },
  {
   "cell_type": "code",
   "execution_count": null,
   "metadata": {},
   "outputs": [],
   "source": [
    "A decision tree is a graphical representation of all the possible solutions to a decision based on certain conditions.Tree\n",
    "models where the target variable can take a finite set of values are called classification trees and target variable can \n",
    "take continuous values (numbers) are called regression trees."
   ]
  },
  {
   "cell_type": "code",
   "execution_count": null,
   "metadata": {},
   "outputs": [],
   "source": [
    "17. What is the difference between a node and a leaf in a decision tree?"
   ]
  },
  {
   "cell_type": "code",
   "execution_count": null,
   "metadata": {},
   "outputs": [],
   "source": [
    "A decision tree is a flowchart-like structure in which each internal node represents a \"test\" on an attribute (e.g. whether\n",
    "a coin flip comes up heads or tails),each branch represents the outcome of the test and each leaf node represents a class \n",
    "label (decision taken after computing all attributes)."
   ]
  },
  {
   "cell_type": "code",
   "execution_count": null,
   "metadata": {},
   "outputs": [],
   "source": [
    "18. What is a decision tree's entropy?"
   ]
  },
  {
   "cell_type": "code",
   "execution_count": null,
   "metadata": {},
   "outputs": [],
   "source": [
    "Entropy helps us to build an appropriate decision tree for selecting the best splitter.Entropy can be defined as a measure \n",
    "of the purity of the sub split.Entropy always lies between 0 to 1.The entropy of any split can be calculate by this \n",
    "formula."
   ]
  },
  {
   "cell_type": "code",
   "execution_count": null,
   "metadata": {},
   "outputs": [],
   "source": [
    "19. In a decision tree, define knowledge gain."
   ]
  },
  {
   "cell_type": "code",
   "execution_count": null,
   "metadata": {},
   "outputs": [],
   "source": [
    "Information gain is the reduction in entropy or surprise by transforming a dataset and is often used in training decision \n",
    "trees.Information gain is calculated by comparing the entropy of the dataset before and after a transformation."
   ]
  },
  {
   "cell_type": "code",
   "execution_count": null,
   "metadata": {},
   "outputs": [],
   "source": [
    "20. Choose three advantages of the decision tree approach and write them down."
   ]
  },
  {
   "cell_type": "code",
   "execution_count": null,
   "metadata": {},
   "outputs": [],
   "source": [
    "Advantages of Decision Trees:\n",
    "    \n",
    "->Easy to read and interpret .One of the advantages of decision trees is that their outputs are easy to read and interpret\n",
    "without requiring statistical knowledge.\n",
    "->Easy to prepare.\n",
    "->Less data cleaning required.\n"
   ]
  },
  {
   "cell_type": "code",
   "execution_count": null,
   "metadata": {},
   "outputs": [],
   "source": [
    "21. Make a list of three flaws in the decision tree process."
   ]
  },
  {
   "cell_type": "code",
   "execution_count": null,
   "metadata": {},
   "outputs": [],
   "source": [
    "Issues in Decision Tree Learning:\n",
    "    \n",
    "->Overfitting the data.\n",
    "->Guarding against bad attribute choices.\n",
    "->Handling continuous valued attributes.\n",
    "->Handling missing attribute values.\n",
    "->Handling attributes with differing costs."
   ]
  },
  {
   "cell_type": "code",
   "execution_count": null,
   "metadata": {},
   "outputs": [],
   "source": [
    "22. Briefly describe the random forest model."
   ]
  },
  {
   "cell_type": "code",
   "execution_count": null,
   "metadata": {},
   "outputs": [],
   "source": [
    "Random forest is a Supervised Machine Learning Algorithm that is used widely in Classification and Regression problems. It\n",
    "builds decision trees on different samples and takes their majority vote for classification and average in case of\n",
    "regression."
   ]
  },
  {
   "cell_type": "code",
   "execution_count": null,
   "metadata": {},
   "outputs": [],
   "source": []
  }
 ],
 "metadata": {
  "kernelspec": {
   "display_name": "Python 3",
   "language": "python",
   "name": "python3"
  },
  "language_info": {
   "codemirror_mode": {
    "name": "ipython",
    "version": 3
   },
   "file_extension": ".py",
   "mimetype": "text/x-python",
   "name": "python",
   "nbconvert_exporter": "python",
   "pygments_lexer": "ipython3",
   "version": "3.8.3"
  }
 },
 "nbformat": 4,
 "nbformat_minor": 4
}
