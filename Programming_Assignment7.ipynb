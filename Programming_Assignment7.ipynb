{
 "cells": [
  {
   "cell_type": "code",
   "execution_count": null,
   "metadata": {},
   "outputs": [],
   "source": [
    "1. Write a Python Program to find sum of array?"
   ]
  },
  {
   "cell_type": "code",
   "execution_count": 3,
   "metadata": {},
   "outputs": [
    {
     "name": "stdout",
     "output_type": "stream",
     "text": [
      "Sum= 30\n"
     ]
    }
   ],
   "source": [
    "array=[4,2,3,4,5,6,4,2]\n",
    "sum=0\n",
    "for i in array:\n",
    "    sum=sum+i\n",
    "print(\"Sum=\",sum)"
   ]
  },
  {
   "cell_type": "code",
   "execution_count": null,
   "metadata": {},
   "outputs": [],
   "source": [
    "2. Write a Python Program to find largest element in an array?"
   ]
  },
  {
   "cell_type": "code",
   "execution_count": 4,
   "metadata": {},
   "outputs": [
    {
     "name": "stdout",
     "output_type": "stream",
     "text": [
      "Largest element= 85\n"
     ]
    }
   ],
   "source": [
    "array=[45,6,3,4,78,85,9,4,2,5]\n",
    "max=0\n",
    "for i in array:\n",
    "    if i>max:\n",
    "        max=i\n",
    "print('Largest element=',max)"
   ]
  },
  {
   "cell_type": "code",
   "execution_count": null,
   "metadata": {},
   "outputs": [],
   "source": [
    "3. Write a Python Program for array rotation?"
   ]
  },
  {
   "cell_type": "code",
   "execution_count": 9,
   "metadata": {},
   "outputs": [
    {
     "name": "stdout",
     "output_type": "stream",
     "text": [
      "Rotated Array is\n",
      "[7, 8, 96, 7, 5, 40, 4, 5]\n"
     ]
    }
   ],
   "source": [
    "def rotateArray(a,d):\n",
    "    n=len(a)\n",
    "    a[:]=a[d:n]+a[0:d]\n",
    "    return a\n",
    "array=[4,5,7,8,96,7,5,40]\n",
    "print(\"Rotated Array is\")\n",
    "print(rotateArray(array,2))"
   ]
  },
  {
   "cell_type": "code",
   "execution_count": null,
   "metadata": {},
   "outputs": [],
   "source": [
    "4. Write a Python Program to Split the array and add the first part to the end?"
   ]
  },
  {
   "cell_type": "code",
   "execution_count": 10,
   "metadata": {},
   "outputs": [
    {
     "name": "stdout",
     "output_type": "stream",
     "text": [
      "18 2 64 55 27 82 66 15 40 "
     ]
    }
   ],
   "source": [
    "def SplitArray(arr,n,k):\n",
    "    for i in range(0,k):\n",
    "        x=arr[0]\n",
    "        for j in range(0,n-1):\n",
    "            arr[j]=arr[j+1]\n",
    "        arr[n-1]=x\n",
    "arr=[15,40,18,2,64,55,27,82,66]\n",
    "n=len(arr)\n",
    "position=2\n",
    "SplitArray(arr,n,position)\n",
    "for i in range(0,n):\n",
    "    print(arr[i],end=' ')"
   ]
  },
  {
   "cell_type": "code",
   "execution_count": null,
   "metadata": {},
   "outputs": [],
   "source": [
    "5. Write a Python Program to check if given array is Monotonic?"
   ]
  },
  {
   "cell_type": "code",
   "execution_count": 11,
   "metadata": {},
   "outputs": [
    {
     "name": "stdout",
     "output_type": "stream",
     "text": [
      "False\n"
     ]
    }
   ],
   "source": [
    "def isMonotonic(A):\n",
    "    x,y=[],[]\n",
    "    x.extend(A)\n",
    "    y.extend(A)\n",
    "    x.sort()\n",
    "    y.sort(reverse=True)\n",
    "    if (x==A or y==A):\n",
    "        return True\n",
    "    return False\n",
    "A=[7,8,5,6]\n",
    "print(isMonotonic(A))"
   ]
  },
  {
   "cell_type": "code",
   "execution_count": null,
   "metadata": {},
   "outputs": [],
   "source": []
  }
 ],
 "metadata": {
  "kernelspec": {
   "display_name": "Python 3",
   "language": "python",
   "name": "python3"
  },
  "language_info": {
   "codemirror_mode": {
    "name": "ipython",
    "version": 3
   },
   "file_extension": ".py",
   "mimetype": "text/x-python",
   "name": "python",
   "nbconvert_exporter": "python",
   "pygments_lexer": "ipython3",
   "version": "3.8.3"
  }
 },
 "nbformat": 4,
 "nbformat_minor": 4
}
