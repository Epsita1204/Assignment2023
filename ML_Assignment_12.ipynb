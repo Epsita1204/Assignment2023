{
 "cells": [
  {
   "cell_type": "code",
   "execution_count": null,
   "metadata": {},
   "outputs": [],
   "source": [
    "1. What is prior probability? Give an example."
   ]
  },
  {
   "cell_type": "code",
   "execution_count": null,
   "metadata": {},
   "outputs": [],
   "source": [
    "Prior probability shows the likelihood of an outcome in a given dataset. For example, in the mortgage case, P(Y) is the \n",
    "default rate on a home mortgage, which is 2%. P(Y|X) is called the conditional probability, which provides the probability\n",
    "of an outcome given the evidence, that is, when the value of X is known."
   ]
  },
  {
   "cell_type": "code",
   "execution_count": null,
   "metadata": {},
   "outputs": [],
   "source": [
    "2. What is posterior probability? Give an example."
   ]
  },
  {
   "cell_type": "code",
   "execution_count": null,
   "metadata": {},
   "outputs": [],
   "source": [
    "Posterior probability is a revised probability that takes into account new available information. For example, let there be\n",
    "two urns, urn A having 5 black balls and 10 red balls and urn B having 10 black balls and 5 red balls."
   ]
  },
  {
   "cell_type": "code",
   "execution_count": null,
   "metadata": {},
   "outputs": [],
   "source": [
    "3. What is likelihood probability? Give an example."
   ]
  },
  {
   "cell_type": "code",
   "execution_count": null,
   "metadata": {},
   "outputs": [],
   "source": [
    "Likelihood Function in Machine Learning and Data Science is the joint probability distribution(jpd) of the dataset given as\n",
    "a function of the parameter.Think of it as the probability of obtaining the observed data given the parameter values."
   ]
  },
  {
   "cell_type": "code",
   "execution_count": null,
   "metadata": {},
   "outputs": [],
   "source": [
    "4. What is Naïve Bayes classifier? Why is it named so?"
   ]
  },
  {
   "cell_type": "code",
   "execution_count": null,
   "metadata": {},
   "outputs": [],
   "source": [
    "Naive Bayes is a simple and powerful algorithm for predictive modeling.Naive Bayes is called naive because it assumes that\n",
    "each input variable is independent.This is a strong assumption and unrealistic for real data;however ,the technique is\n",
    "very effective on a large range of complex problems."
   ]
  },
  {
   "cell_type": "code",
   "execution_count": null,
   "metadata": {},
   "outputs": [],
   "source": [
    "5. What is optimal Bayes classifier?"
   ]
  },
  {
   "cell_type": "code",
   "execution_count": null,
   "metadata": {},
   "outputs": [],
   "source": [
    "The Bayes Optimal Classifier is a probabilistic model that makes probable prediction foe a new example.Bayes Optimal \n",
    "Classifier is a probabilistic model that finds the most probable prediction using the training data and space of hypotheses\n",
    "to make a prediction foe a new data science."
   ]
  },
  {
   "cell_type": "code",
   "execution_count": null,
   "metadata": {},
   "outputs": [],
   "source": [
    "6. Write any two features of Bayesian learning methods."
   ]
  },
  {
   "cell_type": "code",
   "execution_count": null,
   "metadata": {},
   "outputs": [],
   "source": [
    "A probability distribution over observed data for each possible hypothesis.New instances can be classifies by combining the\n",
    "predictions of multiple hypotheses ,weighted by their probabilities."
   ]
  },
  {
   "cell_type": "code",
   "execution_count": null,
   "metadata": {},
   "outputs": [],
   "source": [
    "7. Define the concept of consistent learners."
   ]
  },
  {
   "cell_type": "code",
   "execution_count": null,
   "metadata": {},
   "outputs": [],
   "source": [
    "A learner L using a hypothesis H and training data D is said to be a consistent learner if it always outputs a hypothesis \n",
    "with zero error on D whenever H contains such a hypothesis.By definition,a consistent learner must produce a hypothesis in\n",
    "the version space for H given D."
   ]
  },
  {
   "cell_type": "code",
   "execution_count": null,
   "metadata": {},
   "outputs": [],
   "source": [
    "8. Write any two strengths of Bayes classifier."
   ]
  },
  {
   "cell_type": "code",
   "execution_count": null,
   "metadata": {},
   "outputs": [],
   "source": [
    "i. It handles both continuous and discrete data.\n",
    "ii. It is highly scalable with the number of predictors and data points."
   ]
  },
  {
   "cell_type": "code",
   "execution_count": null,
   "metadata": {},
   "outputs": [],
   "source": [
    "9. Write any two weaknesses of Bayes classifier."
   ]
  },
  {
   "cell_type": "code",
   "execution_count": null,
   "metadata": {},
   "outputs": [],
   "source": [
    "The greatest weakness of the naive Bayes classifier is that it relies on an often-faulty assumption of equally important\n",
    "and independent features which results in biased posterior probabilities."
   ]
  },
  {
   "cell_type": "code",
   "execution_count": null,
   "metadata": {},
   "outputs": [],
   "source": [
    "10. Explain how Naïve Bayes classifier is used for\n",
    "\n",
    "1. Text classification\n",
    "\n",
    "2. Spam filtering\n",
    "\n",
    "3. Market sentiment analysis"
   ]
  },
  {
   "cell_type": "code",
   "execution_count": null,
   "metadata": {},
   "outputs": [],
   "source": [
    "Naive Bayes Classifier is used for:\n",
    "    \n",
    "Text classifier:\n",
    "The Naive Bayes classifier is a simple classifier that classifies based on probabilitiesof events.It is the applied \n",
    "commonly to text classification.With the training set,we can train a Naive Bayes classifier which we can use to automatical\n",
    "categorize a new sentence.\n",
    "\n",
    "Spam filtering:\n",
    "Naive Bayes classifiers work by corealting the use of tokens (typically words,or sometimes other things),with spam and \n",
    "non-spam a=e-mails and then using Bayes' theorem to calculate a probability that an email is or is not spam.it is one of \n",
    "the oldest ways of doing spam filtering,with roots in the 1990s.\n",
    "\n",
    "Market sentiment analysis:\n",
    "Market Sentiment analysis is a field dedicated to extracting subjective emotions and feelings rom text.One common use of \n",
    "sentiment analysis is to figure out if a text expresses negative or positive feelings.Naive bayes is a popular algorithm\n",
    "for classifying text."
   ]
  },
  {
   "cell_type": "code",
   "execution_count": null,
   "metadata": {},
   "outputs": [],
   "source": []
  }
 ],
 "metadata": {
  "kernelspec": {
   "display_name": "Python 3",
   "language": "python",
   "name": "python3"
  },
  "language_info": {
   "codemirror_mode": {
    "name": "ipython",
    "version": 3
   },
   "file_extension": ".py",
   "mimetype": "text/x-python",
   "name": "python",
   "nbconvert_exporter": "python",
   "pygments_lexer": "ipython3",
   "version": "3.8.3"
  }
 },
 "nbformat": 4,
 "nbformat_minor": 4
}
