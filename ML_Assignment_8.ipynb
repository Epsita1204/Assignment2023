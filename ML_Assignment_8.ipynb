{
 "cells": [
  {
   "cell_type": "code",
   "execution_count": null,
   "metadata": {},
   "outputs": [],
   "source": [
    "1. What exactly is a feature? Give an example to illustrate your point."
   ]
  },
  {
   "cell_type": "code",
   "execution_count": null,
   "metadata": {},
   "outputs": [],
   "source": [
    "Features are the basic building blocks of datasets. The quality of the features in your dataset has a major impact on the \n",
    "quality of the insights you will gain when you use that dataset for machine learning.\n",
    "\n",
    "Additionally, different business problems within the same industry do not necessarily require the same features, which is \n",
    "why it is important to have a strong understanding of the business goals of your data science project."
   ]
  },
  {
   "cell_type": "code",
   "execution_count": null,
   "metadata": {},
   "outputs": [],
   "source": [
    "2. What are the various circumstances in which feature construction is required?"
   ]
  },
  {
   "cell_type": "code",
   "execution_count": null,
   "metadata": {},
   "outputs": [],
   "source": [
    "The features in your data will directly influence the predictive models you use and the results you can achieve. Your \n",
    "results are dependent on many inter-dependent properties. You need great features that describe the structures inherent in \n",
    "your data. Better features means flexibility."
   ]
  },
  {
   "cell_type": "code",
   "execution_count": null,
   "metadata": {},
   "outputs": [],
   "source": [
    "3. Describe how nominal variables are encoded."
   ]
  },
  {
   "cell_type": "code",
   "execution_count": null,
   "metadata": {},
   "outputs": [],
   "source": [
    "Nominal data is made of discrete values with no numerical relationship between the different categories — mean and median \n",
    "are meaningless. Animal species is one example. For example, pig is not higher than bird and lower than fish."
   ]
  },
  {
   "cell_type": "code",
   "execution_count": null,
   "metadata": {},
   "outputs": [],
   "source": [
    "4. Describe how numeric features are converted to categorical features."
   ]
  },
  {
   "cell_type": "code",
   "execution_count": null,
   "metadata": {},
   "outputs": [],
   "source": [
    "Converting categorical features into numeric features using domain knowledge. For example, we are given a list of countries\n",
    "and say we know the distance to these countries from India then we can replace it with distance from India. So, every \n",
    "country can be represented as its distance from India."
   ]
  },
  {
   "cell_type": "code",
   "execution_count": null,
   "metadata": {},
   "outputs": [],
   "source": [
    "5. Describe the feature selection wrapper approach. State the advantages and disadvantages of this approach?"
   ]
  },
  {
   "cell_type": "code",
   "execution_count": null,
   "metadata": {},
   "outputs": [],
   "source": [
    "Wrapper methods measure the “usefulness” of features based on the classifier performance. In contrast, the filter methods \n",
    "pick up the intrinsic properties of the features (i.e., the “relevance” of the features) measured via univariate statistics\n",
    "instead of cross-validation performance.\n",
    "\n",
    "The wrapper classification algorithms with joint dimensionality reduction and classification can also be used but these \n",
    "methods have high computation cost, lower discriminative power. Moreover, these methods depend on the efficient selection\n",
    "of classifiers for obtaining high accuracy."
   ]
  },
  {
   "cell_type": "code",
   "execution_count": null,
   "metadata": {},
   "outputs": [],
   "source": [
    "6. When is a feature considered irrelevant? What can be said to quantify it?"
   ]
  },
  {
   "cell_type": "code",
   "execution_count": null,
   "metadata": {},
   "outputs": [],
   "source": [
    "Features are considered relevant if they are either strongly or weakly relevant, and are considered irrelevant otherwise.\n",
    "\n",
    "Irrelevant features can never contribute to prediction accuracy, by definition. Also to quantify it we need to first check \n",
    "the list of features, There are three types of feature selection:\n",
    "\n",
    "->Wrapper methods (forward, backward, and stepwise selection)\n",
    "->Filter methods (ANOVA, Pearson correlation, variance thresholding)\n",
    "->Embedded methods (Lasso, Ridge, Decision Tree)."
   ]
  },
  {
   "cell_type": "code",
   "execution_count": null,
   "metadata": {},
   "outputs": [],
   "source": [
    "7. When is a function considered redundant? What criteria are used to identify features that could be redundant?"
   ]
  },
  {
   "cell_type": "code",
   "execution_count": null,
   "metadata": {},
   "outputs": [],
   "source": [
    "If two features {X1, X2} are highly correlated, then the two features become redundant features since they have same \n",
    "information in terms of correlation measure. In other words, the correlation measure provides statistical association \n",
    "between any given a pair of features.\n",
    "\n",
    "Minimum redundancy feature selection is an algorithm frequently used in a method to accurately identify characteristics of \n",
    "genes and phenotypes."
   ]
  },
  {
   "cell_type": "code",
   "execution_count": null,
   "metadata": {},
   "outputs": [],
   "source": [
    "8. What are the various distance measurements used to determine feature similarity?"
   ]
  },
  {
   "cell_type": "code",
   "execution_count": null,
   "metadata": {},
   "outputs": [],
   "source": [
    "Four of the most commonly used distance measures in machine learning are as follows:\n",
    "\n",
    "Hamming Distance.\n",
    "Euclidean Distance\n",
    "Manhattan Distance."
   ]
  },
  {
   "cell_type": "code",
   "execution_count": null,
   "metadata": {},
   "outputs": [],
   "source": [
    "9. State difference between Euclidean and Manhattan distances?"
   ]
  },
  {
   "cell_type": "code",
   "execution_count": null,
   "metadata": {},
   "outputs": [],
   "source": [
    "Euclidean & Hamming distances are used to measure similarity or dissimilarity between two sequences. Euclidean distance is \n",
    "extensively applied in analysis of convolutional codes and Trellis codes.\n",
    "\n",
    "Hamming distance is frequently encountered in the analysis of block codes."
   ]
  },
  {
   "cell_type": "code",
   "execution_count": null,
   "metadata": {},
   "outputs": [],
   "source": [
    "10. Distinguish between feature transformation and feature selection."
   ]
  },
  {
   "cell_type": "code",
   "execution_count": null,
   "metadata": {},
   "outputs": [],
   "source": [
    "Feature selection is for filtering irrelevant or redundant features from your dataset. The key difference between feature \n",
    "selection and extraction is that feature selection keeps a subset of the original features while feature extraction creates\n",
    "brand new ones."
   ]
  },
  {
   "cell_type": "code",
   "execution_count": null,
   "metadata": {},
   "outputs": [],
   "source": [
    "11. Make brief notes on any two of the following:\n",
    "\n",
    "1.SVD (Standard Variable Diameter Diameter)\n",
    "\n",
    "2. Collection of features using a hybrid approach\n",
    "\n",
    "3. The width of the silhouette\n",
    "\n",
    "4. Receiver operating characteristic curve"
   ]
  },
  {
   "cell_type": "code",
   "execution_count": null,
   "metadata": {},
   "outputs": [],
   "source": [
    "3. The width of the silhouette-\n",
    "Silhouette analysis can be used to study the separation distance between the resulting clusters. The silhouette plot\n",
    "displays a measure of how close each point in one cluster is to points in the neighboring clusters and thus provides a way\n",
    "to assess parameters like number of clusters visually.\n",
    "\n",
    "1.SVD-\n",
    "SVD is basically a matrix factorization technique, which decomposes any matrix into 3 generic and familiar matrices. It \n",
    "has some cool applications in Machine Learning and Image Processing. To understand the concept of Singular Value \n",
    "Decomposition the knowledge on eigenvalues and eigenvectors is essential."
   ]
  },
  {
   "cell_type": "code",
   "execution_count": null,
   "metadata": {},
   "outputs": [],
   "source": []
  }
 ],
 "metadata": {
  "kernelspec": {
   "display_name": "Python 3",
   "language": "python",
   "name": "python3"
  },
  "language_info": {
   "codemirror_mode": {
    "name": "ipython",
    "version": 3
   },
   "file_extension": ".py",
   "mimetype": "text/x-python",
   "name": "python",
   "nbconvert_exporter": "python",
   "pygments_lexer": "ipython3",
   "version": "3.8.3"
  }
 },
 "nbformat": 4,
 "nbformat_minor": 4
}
