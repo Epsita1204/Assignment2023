{
 "cells": [
  {
   "cell_type": "code",
   "execution_count": null,
   "metadata": {},
   "outputs": [],
   "source": [
    "1. Write a Python program to reverse a string without using any built-in string reversal functions."
   ]
  },
  {
   "cell_type": "code",
   "execution_count": 7,
   "metadata": {},
   "outputs": [
    {
     "name": "stdout",
     "output_type": "stream",
     "text": [
      "The reversed string(using loops) is : dlrow olleH\n"
     ]
    }
   ],
   "source": [
    "def reverse(s):\n",
    "    str = \"\"\n",
    "    for i in s:\n",
    "        str = i + str\n",
    "    return str\n",
    " \n",
    "s=\"Hello world\"\n",
    "print(\"The reversed string(using loops) is : \", end=\"\")\n",
    "print(reverse(s))"
   ]
  },
  {
   "cell_type": "code",
   "execution_count": null,
   "metadata": {},
   "outputs": [],
   "source": [
    "2. Implement a function to check if a given string is a palindrome."
   ]
  },
  {
   "cell_type": "code",
   "execution_count": 6,
   "metadata": {},
   "outputs": [
    {
     "name": "stdout",
     "output_type": "stream",
     "text": [
      "String is palingrome\n"
     ]
    }
   ],
   "source": [
    "string='madam'\n",
    "if string==string[::-1]:\n",
    "    print('String is palingrome')\n",
    "else:\n",
    "    print('Given string is not palindrome')"
   ]
  },
  {
   "cell_type": "code",
   "execution_count": null,
   "metadata": {},
   "outputs": [],
   "source": [
    "3. Write a program to find the largest element in a given list."
   ]
  },
  {
   "cell_type": "code",
   "execution_count": 10,
   "metadata": {},
   "outputs": [
    {
     "name": "stdout",
     "output_type": "stream",
     "text": [
      "Largest element in a given list is : 612\n"
     ]
    }
   ],
   "source": [
    "L=[45,25,3,6,41,2,4,612,4,74,5,85]\n",
    "max=0\n",
    "for i in L:\n",
    "    if i>max:\n",
    "        max=i\n",
    "    i+=1\n",
    "print('Largest element in a given list is :',max)"
   ]
  },
  {
   "cell_type": "code",
   "execution_count": null,
   "metadata": {},
   "outputs": [],
   "source": [
    "4. Implement a function to count the occurrence of each element in a list."
   ]
  },
  {
   "cell_type": "code",
   "execution_count": 2,
   "metadata": {},
   "outputs": [
    {
     "data": {
      "text/plain": [
       "{0: 1, 1: 6, 2: 2, 3: 1, 4: 3, 5: 1, 6: 1, 10: 1, 11: 1, 25: 1, 44: 1, 64: 1}"
      ]
     },
     "execution_count": 2,
     "metadata": {},
     "output_type": "execute_result"
    }
   ],
   "source": [
    "def count(l):\n",
    "    l.sort()\n",
    "    c={}\n",
    "    for i in l:\n",
    "        if i in c:\n",
    "            c[i]+=1\n",
    "        else:\n",
    "            c[i]=1\n",
    "    return c\n",
    "l=[2,4,5,6,3,2,1,64,11,4,4,10,1,0,1,1,1,1,44,25]\n",
    "count(l)"
   ]
  },
  {
   "cell_type": "code",
   "execution_count": null,
   "metadata": {},
   "outputs": [],
   "source": [
    "5. Write a Python program to find the second largest number in a list."
   ]
  },
  {
   "cell_type": "code",
   "execution_count": 19,
   "metadata": {},
   "outputs": [
    {
     "name": "stdout",
     "output_type": "stream",
     "text": [
      "Second largest number in a list is : 44\n"
     ]
    }
   ],
   "source": [
    "l=[2,4,5,6,3,2,1,64,11,4,4,10,1,0,1,1,1,1,44,25]\n",
    "l.sort()\n",
    "print('Second largest number in a list is :',l[-2])"
   ]
  },
  {
   "cell_type": "code",
   "execution_count": null,
   "metadata": {},
   "outputs": [],
   "source": [
    "6. Implement a function to remove duplicate elements from a list."
   ]
  },
  {
   "cell_type": "code",
   "execution_count": 5,
   "metadata": {},
   "outputs": [
    {
     "data": {
      "text/plain": [
       "[22, 4, 5, 6, 3, 2, 1, 64, 11, 10, 0, 44, 25]"
      ]
     },
     "execution_count": 5,
     "metadata": {},
     "output_type": "execute_result"
    }
   ],
   "source": [
    "def remove_duplicate(l):\n",
    "    m=[]\n",
    "    for i in l:\n",
    "        if i not in m:\n",
    "            m.append(i)\n",
    "    return m\n",
    "l=[22,22,4,5,6,3,2,1,64,11,4,4,10,1,0,1,1,1,1,44,25]\n",
    "remove_duplicate(l)   "
   ]
  },
  {
   "cell_type": "code",
   "execution_count": null,
   "metadata": {},
   "outputs": [],
   "source": [
    "7. Write a program to calculate the factorial of a given number."
   ]
  },
  {
   "cell_type": "code",
   "execution_count": 3,
   "metadata": {},
   "outputs": [
    {
     "name": "stdout",
     "output_type": "stream",
     "text": [
      "Enter a no6\n",
      "Factorial= 720\n"
     ]
    }
   ],
   "source": [
    "def fact(n):\n",
    "    i=1\n",
    "    f=1\n",
    "    while i<=n:\n",
    "        f=f*i\n",
    "        i=i+1\n",
    "    return f\n",
    "a=int(input('Enter a no'))\n",
    "f=fact(a)\n",
    "print(\"Factorial=\",f)"
   ]
  },
  {
   "cell_type": "code",
   "execution_count": null,
   "metadata": {},
   "outputs": [],
   "source": [
    "8. Implement a function to check if a given number is prime."
   ]
  },
  {
   "cell_type": "code",
   "execution_count": 6,
   "metadata": {},
   "outputs": [
    {
     "name": "stdout",
     "output_type": "stream",
     "text": [
      "Enter a no:14\n",
      "Not a Prime No\n"
     ]
    }
   ],
   "source": [
    "def prime(n):\n",
    "    for i in range(2,n//2+1):\n",
    "        if n%i==0:\n",
    "            return False\n",
    "    return True\n",
    "n=int(input('Enter a no:'))\n",
    "c=prime(n)\n",
    "if c==True:\n",
    "    print(\"Prime No\")\n",
    "else:\n",
    "    print(\"Not a Prime No\")"
   ]
  },
  {
   "cell_type": "code",
   "execution_count": null,
   "metadata": {},
   "outputs": [],
   "source": [
    "9. Write a Python program to sort a list of integers in ascending order."
   ]
  },
  {
   "cell_type": "code",
   "execution_count": 9,
   "metadata": {},
   "outputs": [
    {
     "name": "stdout",
     "output_type": "stream",
     "text": [
      "Sort a list of integers in ascending order is : [1, 1, 1, 2, 2, 4, 5, 5, 7, 8, 12, 12, 14, 15, 25, 25, 32, 41, 45, 52, 63]\n"
     ]
    }
   ],
   "source": [
    "l=[1,2,41,25,32,14,52,63,12,25,45,7,8,5,1,2,15,4,5,12,1]\n",
    "l.sort()\n",
    "print(\"Sort a list of integers in ascending order is :\",l)"
   ]
  },
  {
   "cell_type": "code",
   "execution_count": null,
   "metadata": {},
   "outputs": [],
   "source": [
    "10. Implement a function to find the sum of all numbers in a list."
   ]
  },
  {
   "cell_type": "code",
   "execution_count": 13,
   "metadata": {},
   "outputs": [
    {
     "data": {
      "text/plain": [
       "633"
      ]
     },
     "execution_count": 13,
     "metadata": {},
     "output_type": "execute_result"
    }
   ],
   "source": [
    "def sum(lst):\n",
    "    sum=0\n",
    "    for i in lst:\n",
    "        sum+=i\n",
    "    return sum\n",
    "lst=[4,5,6,3,2,4,45,415,145,4]\n",
    "sum(lst)"
   ]
  },
  {
   "cell_type": "code",
   "execution_count": null,
   "metadata": {},
   "outputs": [],
   "source": [
    "11. Write a program to find the common elements between two lists."
   ]
  },
  {
   "cell_type": "code",
   "execution_count": 3,
   "metadata": {},
   "outputs": [
    {
     "name": "stdout",
     "output_type": "stream",
     "text": [
      "4 5 6 3 45 5 54 "
     ]
    }
   ],
   "source": [
    "l=[4,5,6,3,1,1,45,7,8,9,5,63,54]\n",
    "m=[25,45,65,3,6,4,45,15,4,5,2,54]\n",
    "for i in l:\n",
    "    if i in m:\n",
    "        print(i,end=' ')"
   ]
  },
  {
   "cell_type": "code",
   "execution_count": null,
   "metadata": {},
   "outputs": [],
   "source": [
    "12. Implement a function to check if a given string is an anagram of another string."
   ]
  },
  {
   "cell_type": "code",
   "execution_count": 5,
   "metadata": {},
   "outputs": [
    {
     "name": "stdout",
     "output_type": "stream",
     "text": [
      "Enter the first string s1 :teacher\n",
      "Enter the first string s2 :madam\n",
      "The strings are not anagrams\n"
     ]
    }
   ],
   "source": [
    "def check(s1,s2):\n",
    "    if (sorted(s1)==sorted(s2)):\n",
    "        print(\"The strings are anagrams\")\n",
    "    else:\n",
    "        print(\"The strings are not anagrams\")\n",
    "s1=input(\"Enter the first string s1 :\")\n",
    "s2=input(\"Enter the first string s2 :\")\n",
    "check(s1,s2)"
   ]
  },
  {
   "cell_type": "code",
   "execution_count": null,
   "metadata": {},
   "outputs": [],
   "source": [
    "13. Write a Python program to generate all permutations of a given string."
   ]
  },
  {
   "cell_type": "code",
   "execution_count": 1,
   "metadata": {},
   "outputs": [
    {
     "name": "stdout",
     "output_type": "stream",
     "text": [
      "ABC\n",
      "ACB\n",
      "BAC\n",
      "BCA\n",
      "CBA\n",
      "CAB\n"
     ]
    }
   ],
   "source": [
    "def toString(List):\n",
    "    return ''.join(List)\n",
    "def permute(a, l, r):\n",
    "    if l == r:\n",
    "        print (toString(a))\n",
    "    else:\n",
    "        for i in range(l, r + 1):\n",
    "            a[l], a[i] = a[i], a[l]\n",
    "            permute(a, l + 1, r)\n",
    "            a[l], a[i] = a[i], a[l]\n",
    "\n",
    "string = \"ABC\"\n",
    "n = len(string)\n",
    "a = list(string)\n",
    "permute(a, 0, n-1)"
   ]
  },
  {
   "cell_type": "code",
   "execution_count": null,
   "metadata": {},
   "outputs": [],
   "source": [
    "14. Implement a function to calculate the Fibonacci sequence up to a given number of terms."
   ]
  },
  {
   "cell_type": "code",
   "execution_count": 1,
   "metadata": {},
   "outputs": [
    {
     "name": "stdout",
     "output_type": "stream",
     "text": [
      "How many terms? 5\n",
      "Fibonacci sequence:\n",
      "0\n",
      "1\n",
      "1\n",
      "2\n",
      "3\n"
     ]
    }
   ],
   "source": [
    "nterms=int(input(\"How many terms? \"))\n",
    "n1, n2= 0, 1\n",
    "count= 0\n",
    "if nterms <= 0:\n",
    "    print(\"Please enter a positive integer\")\n",
    "elif nterms == 1:\n",
    "    print(\"Fibonacci sequence upto\",nterms,\":\")\n",
    "    print(n1)\n",
    "else:\n",
    "    print(\"Fibonacci sequence:\")\n",
    "    while count < nterms:\n",
    "        print(n1)\n",
    "        nth = n1 + n2\n",
    "        n1 = n2\n",
    "        n2 = nth\n",
    "        count += 1"
   ]
  },
  {
   "cell_type": "code",
   "execution_count": null,
   "metadata": {},
   "outputs": [],
   "source": [
    "15. Write a program to find the median of a list of numbers."
   ]
  },
  {
   "cell_type": "code",
   "execution_count": 3,
   "metadata": {},
   "outputs": [
    {
     "name": "stdout",
     "output_type": "stream",
     "text": [
      "The original list : [4, 5, 6, 3, 12, 4, 5]\n",
      "Median of list is :  5\n"
     ]
    }
   ],
   "source": [
    "import statistics\n",
    "list=[4,5,6,3,12,4,5]\n",
    "print(\"The original list : \"+str(list))\n",
    "res=statistics.median(list)\n",
    "print(\"Median of list is : \",str(res))"
   ]
  },
  {
   "cell_type": "code",
   "execution_count": null,
   "metadata": {},
   "outputs": [],
   "source": [
    "16. Implement a function to check if a given list is sorted in non-decreasing order."
   ]
  },
  {
   "cell_type": "code",
   "execution_count": 4,
   "metadata": {},
   "outputs": [
    {
     "data": {
      "text/plain": [
       "False"
      ]
     },
     "execution_count": 4,
     "metadata": {},
     "output_type": "execute_result"
    }
   ],
   "source": [
    "def is_sorted(lst):\n",
    "    n=len(lst)\n",
    "    for i in range(1,n):\n",
    "        if lst[i]<lst[i-1]:\n",
    "            return False\n",
    "    return True\n",
    "lst=[4,5,6,3,4,5]\n",
    "is_sorted(lst)"
   ]
  },
  {
   "cell_type": "code",
   "execution_count": null,
   "metadata": {},
   "outputs": [],
   "source": [
    "17. Write a Python program to find the intersection of two lists."
   ]
  },
  {
   "cell_type": "code",
   "execution_count": 8,
   "metadata": {},
   "outputs": [
    {
     "name": "stdout",
     "output_type": "stream",
     "text": [
      "[9, 11, 26, 28]\n"
     ]
    }
   ],
   "source": [
    "def intersection(lst1, lst2):\n",
    "    lst3 = [value for value in lst1 if value in lst2]\n",
    "    return lst3\n",
    "lst1 = [4, 9, 1, 17, 11, 26, 28, 54, 69]\n",
    "lst2 = [9, 9, 74, 21, 45, 11, 63, 28, 26]\n",
    "print(intersection(lst1, lst2))"
   ]
  },
  {
   "cell_type": "code",
   "execution_count": null,
   "metadata": {},
   "outputs": [],
   "source": [
    "18. Implement a function to find the maximum subarray sum in a given list."
   ]
  },
  {
   "cell_type": "code",
   "execution_count": 2,
   "metadata": {},
   "outputs": [
    {
     "name": "stdout",
     "output_type": "stream",
     "text": [
      "8\n"
     ]
    }
   ],
   "source": [
    "class Solution(object):\n",
    "    def maxSubArray(self, nums):\n",
    "        dp = [0 for i in range(len(nums))]\n",
    "        dp[0] = nums[0]\n",
    "        for i in range(1,len(nums)):\n",
    "            dp[i] = max(dp[i-1]+nums[i],nums[i])\n",
    "\n",
    "        return max(dp)\n",
    "nums = [-2,1,-3,7,-2,2,1,-5,4]\n",
    "ob1 = Solution()\n",
    "print(ob1.maxSubArray(nums))"
   ]
  },
  {
   "cell_type": "code",
   "execution_count": null,
   "metadata": {},
   "outputs": [],
   "source": [
    "19. Write a program to remove all vowels from a given string."
   ]
  },
  {
   "cell_type": "code",
   "execution_count": 10,
   "metadata": {},
   "outputs": [
    {
     "name": "stdout",
     "output_type": "stream",
     "text": [
      "Enter the string :function\n",
      "After removing vowels:  fnctn\n"
     ]
    }
   ],
   "source": [
    "string=input('Enter the string :')\n",
    "vowels=['a','e','i','o','u','A','E','I','O','U']\n",
    "result=\"\"\n",
    "for i in string:\n",
    "    if i not in vowels:\n",
    "        result=result+i\n",
    "print(\"After removing vowels: \",result)"
   ]
  },
  {
   "cell_type": "code",
   "execution_count": null,
   "metadata": {},
   "outputs": [],
   "source": [
    "20. Implement a function to reverse the order of words in a given sentence."
   ]
  },
  {
   "cell_type": "code",
   "execution_count": 13,
   "metadata": {},
   "outputs": [
    {
     "name": "stdout",
     "output_type": "stream",
     "text": [
      "i am a girl\n",
      "girl a am i\n"
     ]
    }
   ],
   "source": [
    "sentence=input()\n",
    "s=sentence.split()[::-1]\n",
    "l=[]\n",
    "for i in s:\n",
    "    l.append(i)\n",
    "print(\" \".join(l))"
   ]
  },
  {
   "cell_type": "code",
   "execution_count": null,
   "metadata": {},
   "outputs": [],
   "source": [
    "21. Write a Python program to check if two strings are anagrams of each other."
   ]
  },
  {
   "cell_type": "code",
   "execution_count": 3,
   "metadata": {},
   "outputs": [
    {
     "name": "stdout",
     "output_type": "stream",
     "text": [
      "Enter  first string:cat\n",
      "Enter second string:act\n",
      "The strings are Anagram\n"
     ]
    }
   ],
   "source": [
    "s1=input('Enter  first string:')\n",
    "s2=input('Enter second string:')\n",
    "x=list(s1)\n",
    "y=list(s2)\n",
    "x.sort()\n",
    "y.sort()\n",
    "if x==y:\n",
    "    print('The strings are Anagram')\n",
    "else:\n",
    "    print('The strings are not Anagram')"
   ]
  },
  {
   "cell_type": "code",
   "execution_count": null,
   "metadata": {},
   "outputs": [],
   "source": [
    "22. Implement a function to find the first non-repeating character in a string."
   ]
  },
  {
   "cell_type": "code",
   "execution_count": 4,
   "metadata": {},
   "outputs": [
    {
     "name": "stdout",
     "output_type": "stream",
     "text": [
      "First non-repeating character is : A\n"
     ]
    }
   ],
   "source": [
    "str=\"AUTHENTICITY\"\n",
    "l=len(str)\n",
    "flag=0\n",
    "for i in range(l):\n",
    "    flag=0\n",
    "    for j in range(l):\n",
    "        if str[i]==str[j] and i!=j:\n",
    "            flag=1\n",
    "            break\n",
    "    if flag == 0:\n",
    "        print(\"First non-repeating character is :\", str[i])\n",
    "        break\n",
    "\n",
    "if flag == 1:\n",
    "    print(\"No non-repeating character\")  "
   ]
  },
  {
   "cell_type": "code",
   "execution_count": null,
   "metadata": {},
   "outputs": [],
   "source": [
    "23. Write a program to find the prime factors of a given number."
   ]
  },
  {
   "cell_type": "code",
   "execution_count": 6,
   "metadata": {},
   "outputs": [
    {
     "name": "stdout",
     "output_type": "stream",
     "text": [
      "Enter a no :630\n"
     ]
    },
    {
     "data": {
      "text/plain": [
       "[2, 3, 3, 5, 7]"
      ]
     },
     "execution_count": 6,
     "metadata": {},
     "output_type": "execute_result"
    }
   ],
   "source": [
    "def prime_fact(n):\n",
    "    prime_factors=[]\n",
    "    divisor=2\n",
    "    while divisor<=n:\n",
    "        if n%divisor==0:\n",
    "            prime_factors.append(divisor)\n",
    "            n=n/divisor\n",
    "        else:\n",
    "            divisor+=1\n",
    "    return prime_factors\n",
    "n=int(input(\"Enter a no :\"))\n",
    "prime_fact(n)"
   ]
  },
  {
   "cell_type": "code",
   "execution_count": null,
   "metadata": {},
   "outputs": [],
   "source": [
    "24. Implement a function to check if a given number is a power of two."
   ]
  },
  {
   "cell_type": "code",
   "execution_count": 10,
   "metadata": {},
   "outputs": [
    {
     "name": "stdout",
     "output_type": "stream",
     "text": [
      "Enter a no: 32\n",
      "Yes\n"
     ]
    }
   ],
   "source": [
    "def find(n):\n",
    "    if n==0:\n",
    "        return False\n",
    "    while n!=1:\n",
    "        if n%2!=0:\n",
    "            return False\n",
    "        n=n//2\n",
    "    return True\n",
    "n=int(input(\"Enter a no: \"))\n",
    "if find(n):\n",
    "    print('Yes')\n",
    "else:\n",
    "    print('No')"
   ]
  },
  {
   "cell_type": "code",
   "execution_count": null,
   "metadata": {},
   "outputs": [],
   "source": [
    "25. Write a Python program to merge two sorted lists into a single sorted list."
   ]
  },
  {
   "cell_type": "code",
   "execution_count": 11,
   "metadata": {},
   "outputs": [
    {
     "name": "stdout",
     "output_type": "stream",
     "text": [
      "The original list 1 is :[1, 5, 6, 9, 11]\n",
      "The original list 2 is :[3, 4, 7, 8, 10]\n",
      "The combined sorted list is :[1, 3, 4, 5, 6, 7, 8, 9, 10, 11]\n"
     ]
    }
   ],
   "source": [
    "test_list1 = [1, 5, 6, 9, 11]\n",
    "test_list2 = [3, 4, 7, 8, 10]\n",
    "print(\"The original list 1 is :\"+str(test_list1))\n",
    "print(\"The original list 2 is :\"+str(test_list2))\n",
    "res=sorted(test_list1+test_list2)\n",
    "print(\"The combined sorted list is :\"+str(res))"
   ]
  },
  {
   "cell_type": "code",
   "execution_count": null,
   "metadata": {},
   "outputs": [],
   "source": [
    "26. Implement a function to find the mode of a list of numbers."
   ]
  },
  {
   "cell_type": "code",
   "execution_count": 12,
   "metadata": {},
   "outputs": [
    {
     "name": "stdout",
     "output_type": "stream",
     "text": [
      "The original list :[4, 5, 6, 3, 12, 4, 5, 5, 4, 2, 3, 4, 5, 6, 4, 1, 2, 1, 4, 4, 4, 4, 4]\n",
      "Mode of list is :4\n"
     ]
    }
   ],
   "source": [
    "import statistics\n",
    "list=[4,5,6,3,12,4,5,5,4,2,3,4,5,6,4,1,2,1,4,4,4,4,4]\n",
    "print(\"The original list :\"+str(list))\n",
    "res=statistics.mode(list)\n",
    "print(\"Mode of list is :\"+str(res))"
   ]
  },
  {
   "cell_type": "code",
   "execution_count": null,
   "metadata": {},
   "outputs": [],
   "source": [
    "27. Write a program to find the greatest common divisor (GCD) of two numbers."
   ]
  },
  {
   "cell_type": "code",
   "execution_count": 4,
   "metadata": {},
   "outputs": [
    {
     "name": "stdout",
     "output_type": "stream",
     "text": [
      "Enter the first no : 48\n",
      "Enter the second no :60\n",
      "The greatest common divisor (GCD) of two numbers is 48 and 60: 12\n"
     ]
    }
   ],
   "source": [
    "import math\n",
    "x=int(input('Enter the first no : '))\n",
    "y=int(input(\"Enter the second no :\"))\n",
    "print(f\"The greatest common divisor (GCD) of two numbers is {x} and {y}:\" ,math.gcd(x,y))"
   ]
  },
  {
   "cell_type": "code",
   "execution_count": null,
   "metadata": {},
   "outputs": [],
   "source": [
    "28. Implement a function to calculate the square root of a given number."
   ]
  },
  {
   "cell_type": "code",
   "execution_count": 9,
   "metadata": {},
   "outputs": [
    {
     "name": "stdout",
     "output_type": "stream",
     "text": [
      "Enter a no :81\n",
      "The square root of the no 81 is : 9.0\n"
     ]
    }
   ],
   "source": [
    "import math\n",
    "n=int(input(\"Enter a no :\"))\n",
    "print(f\"The square root of the no {n} is :\" ,math.sqrt(n))"
   ]
  },
  {
   "cell_type": "code",
   "execution_count": null,
   "metadata": {},
   "outputs": [],
   "source": [
    "29. Write a Python program to check if a given string is a valid palindrome ignoring non-alphanumeric characters."
   ]
  },
  {
   "cell_type": "code",
   "execution_count": null,
   "metadata": {},
   "outputs": [],
   "source": []
  },
  {
   "cell_type": "code",
   "execution_count": null,
   "metadata": {},
   "outputs": [],
   "source": [
    "30. Implement a function to find the minimum element in a rotated sorted list."
   ]
  },
  {
   "cell_type": "code",
   "execution_count": null,
   "metadata": {},
   "outputs": [],
   "source": []
  },
  {
   "cell_type": "code",
   "execution_count": null,
   "metadata": {},
   "outputs": [],
   "source": [
    "31. Write a program to find the sum of all even numbers in a list."
   ]
  },
  {
   "cell_type": "code",
   "execution_count": 1,
   "metadata": {},
   "outputs": [
    {
     "name": "stdout",
     "output_type": "stream",
     "text": [
      "sum of all even numbers in a list is : 32\n"
     ]
    }
   ],
   "source": [
    "l=[25,55,4,5,1,4,1,7,8,6,9,5,2,4,1,145,4]\n",
    "sum=0\n",
    "for i in l:\n",
    "    if i%2==0:\n",
    "        sum=sum+i\n",
    "print(\"sum of all even numbers in a list is :\",sum)\n",
    "        "
   ]
  },
  {
   "cell_type": "code",
   "execution_count": null,
   "metadata": {},
   "outputs": [],
   "source": [
    "32. Implement a function to calculate the power of a number using recursion."
   ]
  },
  {
   "cell_type": "code",
   "execution_count": 8,
   "metadata": {},
   "outputs": [
    {
     "name": "stdout",
     "output_type": "stream",
     "text": [
      "36\n"
     ]
    }
   ],
   "source": [
    "def power(N, P):\n",
    "    if P == 0:\n",
    "        return 1\n",
    "    return (N*power(N, P-1))\n",
    "if __name__ == '__main__':\n",
    "    N = 6\n",
    "    P = 2\n",
    "    print(power(N, P))"
   ]
  },
  {
   "cell_type": "code",
   "execution_count": null,
   "metadata": {},
   "outputs": [],
   "source": [
    "33. Write a Python program to remove duplicates from a list while preserving the order."
   ]
  },
  {
   "cell_type": "code",
   "execution_count": 2,
   "metadata": {},
   "outputs": [
    {
     "name": "stdout",
     "output_type": "stream",
     "text": [
      "[2, 5, 4, 1, 7, 8, 6, 9]\n"
     ]
    }
   ],
   "source": [
    "l=[2,5,5,5,4,5,1,4,1,7,8,6,9,5,2,4,1,1,4,5,4]\n",
    "m=[]\n",
    "for i in l:\n",
    "    if i not in m:\n",
    "        m.append(i)\n",
    "print(m)\n",
    "    "
   ]
  },
  {
   "cell_type": "code",
   "execution_count": null,
   "metadata": {},
   "outputs": [],
   "source": [
    "34. Implement a function to find the longest common prefix among a list of strings."
   ]
  },
  {
   "cell_type": "code",
   "execution_count": null,
   "metadata": {},
   "outputs": [],
   "source": []
  },
  {
   "cell_type": "code",
   "execution_count": null,
   "metadata": {},
   "outputs": [],
   "source": [
    "35. Write a program to check if a given number is a perfect square."
   ]
  },
  {
   "cell_type": "code",
   "execution_count": 4,
   "metadata": {},
   "outputs": [
    {
     "name": "stdout",
     "output_type": "stream",
     "text": [
      "Enter a no:36\n",
      "6\n",
      "Perfect square\n"
     ]
    }
   ],
   "source": [
    "import math\n",
    "a=int(input(\"Enter a no:\"))\n",
    "b=int(math.sqrt(a))\n",
    "print(b)\n",
    "if a==b*b:\n",
    "    print(\"Perfect square\")\n",
    "else:\n",
    "    print(\"Not a perfect square\")"
   ]
  },
  {
   "cell_type": "code",
   "execution_count": null,
   "metadata": {},
   "outputs": [],
   "source": [
    "36. Implement a function to calculate the product of all elements in a list."
   ]
  },
  {
   "cell_type": "code",
   "execution_count": 10,
   "metadata": {},
   "outputs": [
    {
     "name": "stdout",
     "output_type": "stream",
     "text": [
      "14000\n"
     ]
    }
   ],
   "source": [
    "import numpy as np\n",
    "list=[4,5,5,4,5,7,1]\n",
    "result=np.prod(list)\n",
    "print(result)"
   ]
  },
  {
   "cell_type": "code",
   "execution_count": null,
   "metadata": {},
   "outputs": [],
   "source": [
    "37. Write a Python program to reverse the order of words in a sentence while preserving the word order."
   ]
  },
  {
   "cell_type": "code",
   "execution_count": 11,
   "metadata": {},
   "outputs": [
    {
     "name": "stdout",
     "output_type": "stream",
     "text": [
      "I go to college everyday\n",
      "everyday college to go I\n"
     ]
    }
   ],
   "source": [
    "sentence=input()\n",
    "s=sentence.split()[::-1]\n",
    "l=[]\n",
    "for i in s:\n",
    "    l.append(i)\n",
    "print(\" \".join(l))"
   ]
  },
  {
   "cell_type": "code",
   "execution_count": null,
   "metadata": {},
   "outputs": [],
   "source": [
    "38. Implement a function to find the missing number in a given list of consecutive numbers."
   ]
  },
  {
   "cell_type": "code",
   "execution_count": null,
   "metadata": {},
   "outputs": [],
   "source": []
  },
  {
   "cell_type": "code",
   "execution_count": null,
   "metadata": {},
   "outputs": [],
   "source": [
    "39. Write a program to find the sum of digits of a given number."
   ]
  },
  {
   "cell_type": "code",
   "execution_count": 6,
   "metadata": {},
   "outputs": [
    {
     "name": "stdout",
     "output_type": "stream",
     "text": [
      "Enter a no : 456\n",
      "Sum of digits of a given number is : 15\n"
     ]
    }
   ],
   "source": [
    "n=int(input(\"Enter a no : \"))\n",
    "sum=0\n",
    "while n>0:\n",
    "    sum=sum+(n%10)\n",
    "    n=n//10\n",
    "print(\"Sum of digits of a given number is :\",sum)"
   ]
  },
  {
   "cell_type": "code",
   "execution_count": null,
   "metadata": {},
   "outputs": [],
   "source": [
    "40. Implement a function to check if a given string is a valid palindrome considering case sensitivity."
   ]
  },
  {
   "cell_type": "code",
   "execution_count": 4,
   "metadata": {},
   "outputs": [
    {
     "name": "stdout",
     "output_type": "stream",
     "text": [
      "Enter the string : Radar\n",
      "String is not palindrome\n"
     ]
    }
   ],
   "source": [
    "def palindrome(s):\n",
    "    if s==s[::-1]:\n",
    "        print(\"String is palindrome\")\n",
    "    else:\n",
    "        print(\"String is not palindrome\")\n",
    "s=input(\"Enter the string : \")\n",
    "palindrome(s)"
   ]
  },
  {
   "cell_type": "code",
   "execution_count": null,
   "metadata": {},
   "outputs": [],
   "source": [
    "41. Write a Python program to find the smallest missing positive integer in a list."
   ]
  },
  {
   "cell_type": "code",
   "execution_count": null,
   "metadata": {},
   "outputs": [],
   "source": []
  },
  {
   "cell_type": "code",
   "execution_count": null,
   "metadata": {},
   "outputs": [],
   "source": [
    "42. Implement a function to find the longest palindrome substring in a given string."
   ]
  },
  {
   "cell_type": "code",
   "execution_count": null,
   "metadata": {},
   "outputs": [],
   "source": []
  },
  {
   "cell_type": "code",
   "execution_count": null,
   "metadata": {},
   "outputs": [],
   "source": [
    "43. Write a program to find the number of occurrences of a given element in a list."
   ]
  },
  {
   "cell_type": "code",
   "execution_count": 7,
   "metadata": {},
   "outputs": [
    {
     "name": "stdout",
     "output_type": "stream",
     "text": [
      "Enter size of list 5\n",
      "Enter element of list 6\n",
      "Enter element of list 7\n",
      "Enter element of list 8\n",
      "Enter element of list 5\n",
      "Enter element of list 2\n",
      "Original list:  [6, 7, 8, 5, 2]\n",
      "Enter element to be checked list: 8\n",
      "8  has occurred  1 times\n"
     ]
    }
   ],
   "source": [
    "def count_occurrence(list, n):\n",
    "    count=0\n",
    "    for i in list:\n",
    "        if(i==n):\n",
    "            count=count+1\n",
    "    return count\n",
    "li=[]\n",
    "n=int(input(\"Enter size of list \"))\n",
    "for i in range(0,n):\n",
    "    e=int(input(\"Enter element of list \"))\n",
    "    li.append(e)\n",
    "print(\"Original list: \",li)\n",
    "x=int(input(\"Enter element to be checked list: \"))\n",
    "print(x,\" has occurred \",count_occurrence(li, x),\"times\")"
   ]
  },
  {
   "cell_type": "code",
   "execution_count": null,
   "metadata": {},
   "outputs": [],
   "source": [
    "44. Implement a function to check if a given number is a perfect number."
   ]
  },
  {
   "cell_type": "code",
   "execution_count": 1,
   "metadata": {},
   "outputs": [
    {
     "name": "stdout",
     "output_type": "stream",
     "text": [
      "True\n"
     ]
    }
   ],
   "source": [
    "def perfect_number(n):\n",
    "    sum = 0\n",
    "    for x in range(1, n):\n",
    "        if n % x == 0:\n",
    "            sum += x\n",
    "    return sum == n\n",
    "print(perfect_number(6))"
   ]
  },
  {
   "cell_type": "code",
   "execution_count": null,
   "metadata": {},
   "outputs": [],
   "source": [
    "45. Write a Python program to remove all duplicates from a string."
   ]
  },
  {
   "cell_type": "code",
   "execution_count": 9,
   "metadata": {},
   "outputs": [
    {
     "name": "stdout",
     "output_type": "stream",
     "text": [
      "geksfor"
     ]
    }
   ],
   "source": [
    "string=\"geeksforgeeks\"\n",
    "k2=[]\n",
    "for ele in string:\n",
    "    if ele not in k2:\n",
    "        k2.append(ele)\n",
    "for i in range(0,len(k2)):\n",
    "    print(k2[i],end=\"\")"
   ]
  },
  {
   "cell_type": "code",
   "execution_count": null,
   "metadata": {},
   "outputs": [],
   "source": [
    "46. Implement a function to find the first missing positive"
   ]
  },
  {
   "cell_type": "code",
   "execution_count": null,
   "metadata": {},
   "outputs": [],
   "source": []
  }
 ],
 "metadata": {
  "kernelspec": {
   "display_name": "Python 3",
   "language": "python",
   "name": "python3"
  },
  "language_info": {
   "codemirror_mode": {
    "name": "ipython",
    "version": 3
   },
   "file_extension": ".py",
   "mimetype": "text/x-python",
   "name": "python",
   "nbconvert_exporter": "python",
   "pygments_lexer": "ipython3",
   "version": "3.8.3"
  }
 },
 "nbformat": 4,
 "nbformat_minor": 4
}
