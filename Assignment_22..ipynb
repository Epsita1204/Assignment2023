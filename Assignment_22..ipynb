{
 "cells": [
  {
   "cell_type": "code",
   "execution_count": null,
   "metadata": {},
   "outputs": [],
   "source": [
    "Q1. What are the benefits of the built-in array package, if any?"
   ]
  },
  {
   "cell_type": "code",
   "execution_count": null,
   "metadata": {},
   "outputs": [],
   "source": [
    "Advantages of Arrays\n",
    "1.Arrays are similar to lists. ...\n",
    "2.The size of the array is not fixed in Python. ...\n",
    "3.Arrays can grow or shrink in memory dynamically (during runtime).\n",
    "4.Arrays are useful to handle a collection of elements like a group of numbers or characters."
   ]
  },
  {
   "cell_type": "code",
   "execution_count": null,
   "metadata": {},
   "outputs": [],
   "source": [
    "Q2. What are some of the array package's limitations?"
   ]
  },
  {
   "cell_type": "code",
   "execution_count": null,
   "metadata": {},
   "outputs": [],
   "source": [
    "1.An array which is formed will be homogeneous. ...\n",
    "2.While declaring an array, passing size of an array is compulsory, and the size must be a constant. ...\n",
    "Shifting is required for insertion or deletion of elements in an array."
   ]
  },
  {
   "cell_type": "code",
   "execution_count": null,
   "metadata": {},
   "outputs": [],
   "source": [
    "Q3. Describe the main differences between the array and numpy packages."
   ]
  },
  {
   "cell_type": "code",
   "execution_count": null,
   "metadata": {},
   "outputs": [],
   "source": [
    "An array consumes less memory and is convenient to use. NumPy uses much less memory to store data and it provides a\n",
    "mechanism of specifying the data types."
   ]
  },
  {
   "cell_type": "code",
   "execution_count": null,
   "metadata": {},
   "outputs": [],
   "source": [
    "Q4. Explain the distinctions between the empty, ones, and zeros functions."
   ]
  },
  {
   "cell_type": "code",
   "execution_count": null,
   "metadata": {},
   "outputs": [],
   "source": [
    "empty, unlike zeros, does not set the array values to zero, and may therefore be marginally faster. On the other hand, \n",
    "it requires the user to manually set all the values in the array, and should be used with caution. Return a new array \n",
    "setting values to zero."
   ]
  },
  {
   "cell_type": "code",
   "execution_count": null,
   "metadata": {},
   "outputs": [],
   "source": [
    "Q5. In the fromfunction function, which is used to construct new arrays, what is the role of the callable argument?"
   ]
  },
  {
   "cell_type": "code",
   "execution_count": null,
   "metadata": {},
   "outputs": [],
   "source": [
    "In the 'numpy.fromfunction' function ,the 'callable' argument is used to specify a function that will be called for every\n",
    "element in the output array.The function should take as arguments a set of indices that correspond to the position of each \n",
    "element in the array, and return a value that will be placed at that position.\n",
    "The 'callable' argument can be any Python callable object ,such as a function ,a lambda ,or even a class with a '__call__'\n",
    "method.It can also take additional arguments ,which can be passed to the callable using the 'args' argument of the 'args'\n",
    "argument of the 'fromfunction' function.The 'callable' argument provides a powerful way to generate new arrays with custom \n",
    "values based on a specified function of the array indices."
   ]
  },
  {
   "cell_type": "code",
   "execution_count": null,
   "metadata": {},
   "outputs": [],
   "source": [
    "Q6. What happens when a numpy array is combined with a single-value operand (a scalar, such as an int or a floating-point\n",
    "value) through addition, as in the expression A + n?"
   ]
  },
  {
   "cell_type": "code",
   "execution_count": null,
   "metadata": {},
   "outputs": [],
   "source": [
    "In Python, when a NumPy array is combined with a single value operand through addition, as in the expression 'A+n', where\n",
    "'A' is a NumPy array and 'n' is a scalar (e.g. an int or a floating-point value), NumPy applies the addition operation \n",
    "element-wise between the array and the scalar value.\n"
   ]
  },
  {
   "cell_type": "code",
   "execution_count": 2,
   "metadata": {},
   "outputs": [
    {
     "name": "stdout",
     "output_type": "stream",
     "text": [
      "[[ 5  6]\n",
      " [ 6  9]\n",
      " [ 8 10]]\n"
     ]
    }
   ],
   "source": [
    "import numpy as np\n",
    "A=np.array([[1,2],[2,5],[4,6]])\n",
    "n=4\n",
    "A_plus_n=A+n\n",
    "print(A_plus_n)"
   ]
  },
  {
   "cell_type": "code",
   "execution_count": null,
   "metadata": {},
   "outputs": [],
   "source": [
    "Q7. Can array-to-scalar operations use combined operation-assign operators (such as += or *=)? What is the outcome?"
   ]
  },
  {
   "cell_type": "code",
   "execution_count": null,
   "metadata": {},
   "outputs": [],
   "source": [
    "Yes, NumPy allows array-to-scalar operations to use combined operation-assign operations,such as '+=' or '*='.These \n",
    "operators modify the original array in place by applying the corresponding operation to each element of the array and the \n",
    "scalar value."
   ]
  },
  {
   "cell_type": "code",
   "execution_count": 6,
   "metadata": {},
   "outputs": [
    {
     "name": "stdout",
     "output_type": "stream",
     "text": [
      "[3 4 7 8 5]\n"
     ]
    }
   ],
   "source": [
    "import numpy as np\n",
    "A=np.array([1,2,5,6,3])\n",
    "A+=2\n",
    "print(A)"
   ]
  },
  {
   "cell_type": "code",
   "execution_count": 7,
   "metadata": {},
   "outputs": [
    {
     "name": "stdout",
     "output_type": "stream",
     "text": [
      "[ 2  4 10 12  6]\n"
     ]
    }
   ],
   "source": [
    "import numpy as np\n",
    "A=np.array([1,2,5,6,3])\n",
    "A*=2\n",
    "print(A)"
   ]
  },
  {
   "cell_type": "code",
   "execution_count": null,
   "metadata": {},
   "outputs": [],
   "source": [
    "Q8. Does a numpy array contain fixed-length strings? What happens if you allocate a longer string to one of these arrays?"
   ]
  },
  {
   "cell_type": "code",
   "execution_count": null,
   "metadata": {},
   "outputs": [],
   "source": [
    "NumPy arrays have a fixed size at creation, unlike Python lists (which can grow dynamically). Changing the size of an \n",
    "ndarray will create a new array and delete the original. The elements in a NumPy array are all required to be of the same \n",
    "data type, and thus will be the same size in memory.\n",
    "Buffer overflow occurs when data is input or written beyond the allocated bounds of a buffer, array, or other object \n",
    "causing a program crash or a vulnerability that hackers might exploit."
   ]
  },
  {
   "cell_type": "code",
   "execution_count": null,
   "metadata": {},
   "outputs": [],
   "source": [
    "Q9. What happens when you combine two numpy arrays using an operation like addition (+) or\n",
    "multiplication (*)? What are the conditions for combining two numpy arrays?"
   ]
  },
  {
   "cell_type": "code",
   "execution_count": null,
   "metadata": {},
   "outputs": [],
   "source": [
    "Add is a new Numpy array that contains the element-wise sum of the values of the input arrays. Also note that the output \n",
    "is slightly different for scalars: If the both inputs to np. add are scalar values, then the output will be a scalar.\n",
    "\n",
    "You can use np. multiply to multiply two same-sized arrays together. This computes something called the Hadamard product. \n",
    "In the Hadamard product, the two inputs have the same shape, and the output contains the element-wise product of each of \n",
    "the input values."
   ]
  },
  {
   "cell_type": "code",
   "execution_count": null,
   "metadata": {},
   "outputs": [],
   "source": [
    "Q10. What is the best way to use a Boolean array to mask another array?"
   ]
  },
  {
   "cell_type": "code",
   "execution_count": null,
   "metadata": {},
   "outputs": [],
   "source": [
    "To create a boolean mask from an array, use the ma. make_mask() method in Python Numpy. The function can accept any \n",
    "sequence that is convertible to integers, or nomask. Does not require that contents must be 0s and 1s, values of 0 are \n",
    "interpreted as False, everything else as True."
   ]
  },
  {
   "cell_type": "code",
   "execution_count": null,
   "metadata": {},
   "outputs": [],
   "source": [
    "Q11. What are three different ways to get the standard deviation of a wide collection of data using both standard Python \n",
    "and its packages? Sort the three of them by how quickly they execute."
   ]
  },
  {
   "cell_type": "code",
   "execution_count": null,
   "metadata": {},
   "outputs": [],
   "source": [
    "There are several ways to get the standard deviation of a data set in Python both using standard Python and its packages \n",
    "Here are three different ways ,sorted by execution speed:\n",
    "1.NumPy packges-'numpy.std()' function: NumPy is a popular numerical computing library for Python that provides many useful\n",
    "functions for data analysis.\n",
    "2.Pandas package-'Pandas.DataFrame.std()' method:Pandas is another popular library for data manipulation and analysis in \n",
    "Python.It provides a convenient 'DataFrame' class that allows you to workwith tabular data.\n",
    "3.Standard Python:'statistics.stdev()' function:If you don't want to use any external libraries ,you can use the built-in \n",
    "'statistics' module of Python to calculate the standard deviation of a data set."
   ]
  },
  {
   "cell_type": "code",
   "execution_count": null,
   "metadata": {},
   "outputs": [],
   "source": [
    "12. What is the dimensionality of a Boolean mask-generated array?"
   ]
  },
  {
   "cell_type": "code",
   "execution_count": null,
   "metadata": {},
   "outputs": [],
   "source": [
    "What is returned is a one-dimensional array filled with all the values that meet this condition; in other words, all the\n",
    "values in positions at which the mask array is True ."
   ]
  }
 ],
 "metadata": {
  "kernelspec": {
   "display_name": "Python 3",
   "language": "python",
   "name": "python3"
  },
  "language_info": {
   "codemirror_mode": {
    "name": "ipython",
    "version": 3
   },
   "file_extension": ".py",
   "mimetype": "text/x-python",
   "name": "python",
   "nbconvert_exporter": "python",
   "pygments_lexer": "ipython3",
   "version": "3.8.3"
  }
 },
 "nbformat": 4,
 "nbformat_minor": 4
}
