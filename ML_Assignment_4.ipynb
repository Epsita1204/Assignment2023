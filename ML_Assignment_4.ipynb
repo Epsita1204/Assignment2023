{
 "cells": [
  {
   "cell_type": "code",
   "execution_count": null,
   "metadata": {},
   "outputs": [],
   "source": [
    "1. What are the key tasks involved in getting ready to work with machine learning modeling?"
   ]
  },
  {
   "cell_type": "code",
   "execution_count": null,
   "metadata": {},
   "outputs": [],
   "source": [
    "The Key Tasks involved in getting ready to work with Machine learning Modelling are:\n",
    "\n",
    "1.Data collection: Defining the problem and assembling a dataset.\n",
    "2.Data preparation: Preparing your data.\n",
    "3.Choosing a Model\n",
    "4.Training the Model: Developing a model that does better than a baseline.\n",
    "5.Evaluating the Model: Choosing a measure of success. Deciding on an evaluation protocol.\n",
    "6.Parameter tuning: Scaling up: developing a model that overfits.Regularizing your model and tuning your parameters.\n",
    "7.Prediction or Inference."
   ]
  },
  {
   "cell_type": "code",
   "execution_count": null,
   "metadata": {},
   "outputs": [],
   "source": [
    "2. What are the different forms of data used in machine learning? Give a specific example for each of them."
   ]
  },
  {
   "cell_type": "code",
   "execution_count": null,
   "metadata": {},
   "outputs": [],
   "source": [
    "Most data can be categorized into 4 basic types from a Machine Learning perspective: Numerical Data, Categorical Data, \n",
    "Time-Series Data, and Text data.\n",
    "\n",
    "1.Numerical Data:\n",
    "Numerical data is any data where data points are exact numbers. Statisticians also might call numerical data, quantitative \n",
    "data. This data has meaning as a measurement such as house prices or as a count, such as a number of residential properties\n",
    "in Los Angeles or how many houses sold in the past year.\n",
    "Numerical data can be characterized by continuous or discrete data. Continuous data can assume any value within a range \n",
    "whereas discrete data has distinct values.\n",
    "\n",
    "1.Numerical Data-\n",
    "a.Continuous-height,weight,salary,temperature,interest rates\n",
    " 23.45,45.76,89.26\n",
    "b.Discrete-units sold,number of languages spoken,number of students\n",
    " 33,56,45\n",
    "\n",
    "2.Categorical Data:\n",
    "Categorical data represents characteristics, such as a hockey player’s position, team, hometown. Categorical data can take \n",
    "numerical values. For example, maybe we would use 1 for the colour red and 2 for blue. But these numbers don’t have a \n",
    "mathematical meaning. That is, we can’t add them together or take the average.\n",
    "\n",
    "3.Time Series Data:\n",
    "Time series data is a sequence of numbers collected at regular intervals over some period of time. It is very important, \n",
    "especially in particular fields like finance. Time series data has a temporal value attached to it, so this would be \n",
    "something like a date or a timestamp that you can look for trends in time.\n",
    "\n",
    "4.Text:\n",
    "Text data is basically just words. A lot of the time the first thing that you do with text is you turn it into numbers \n",
    "using some interesting functions like the bag of words formulation.\n"
   ]
  },
  {
   "cell_type": "code",
   "execution_count": null,
   "metadata": {},
   "outputs": [],
   "source": [
    "3. Distinguish:\n",
    "\n",
    "1. Numeric vs. categorical attributes\n",
    "2. Feature selection vs. dimensionality reduction"
   ]
  },
  {
   "cell_type": "code",
   "execution_count": null,
   "metadata": {},
   "outputs": [],
   "source": [
    "1.Numeric vs. categorical attributes:\n",
    "    \n",
    "->Numerical data are values obtained for quantitative variable, and carries a sense of magnitude related to the context of \n",
    "the variable (hence, they are always numbers or symbols carrying a numerical value).\n",
    "->Categorical data are values obtained for a qualitative variable. categorical data numbers do not carry a sense of magnitude.\n",
    "Numerical data always belong to either ordinal, ratio, or interval type, whereas categorical data belong to nominal type. \n",
    "- - Methods used to analyse quantitative data are different from the methods used for categorical data, even if the \n",
    "principles are the same at least the application has significant differences.\n",
    "->Numerical data are analysed using statistical methods in descriptive statistics, regression, time series and many more.For \n",
    "categorical data usually descriptive methods and graphical methods are employed. Some non-parametric tests are also used.\n",
    "2.Feature selection vs. dimensionality reduction\n",
    "\n",
    "->Feature selection you just select a subset of the original feature set, without any manipulation of the data on the other \n",
    "hand.\n",
    "->Dimensionality reduction is typically choosing a new representation within which you can describe most but not all of the\n",
    "variance within your data, thereby retaining the relevant information, while reducing theamount of information necessary\n",
    "to represent it."
   ]
  },
  {
   "cell_type": "code",
   "execution_count": null,
   "metadata": {},
   "outputs": [],
   "source": [
    "4. Make quick notes on any two of the following:\n",
    "\n",
    "1. The histogram\n",
    "\n",
    "2. Use a scatter plot\n",
    "\n",
    "3.PCA (Personal Computer Aid)"
   ]
  },
  {
   "cell_type": "code",
   "execution_count": null,
   "metadata": {},
   "outputs": [],
   "source": [
    " The Quick notes on the following three topics is:\n",
    "\n",
    "The histogram: A Histogram is a graphical representation that organizes a group of data points into user-specified ranges. \n",
    "Similar in appearance to a bar graph, the histogram condenses a data series into an easily interpreted visual by taking \n",
    "many data points and grouping them into logical ranges or bins.\n",
    "\n",
    "Use a scatter plot: A scatter plot (aka scatter chart, scatter graph) uses dots to represent values for two different \n",
    "numeric variables. The position of each dot on the horizontal and vertical axis indicates values for an individual data \n",
    "point. Scatter plots are used to observe relationships between variables.\n",
    "\n",
    "PCA (Personal Computer Aid): Principal Component Analysis or PCA is a widely used technique for dimensionality reduction \n",
    "of the large data set. Reducing the number of components or features costs some accuracy and on the other hand, it makes \n",
    "the large data set simpler, easy to explore and visualize."
   ]
  },
  {
   "cell_type": "code",
   "execution_count": null,
   "metadata": {},
   "outputs": [],
   "source": [
    "5. Why is it necessary to investigate data? Is there a discrepancy in how qualitative and quantitative data are explored?"
   ]
  },
  {
   "cell_type": "code",
   "execution_count": null,
   "metadata": {},
   "outputs": [],
   "source": [
    "If your data set is messy, building models will not help you to solve your problem. What will happen is Garbage In, Garbage\n",
    "Out.In order to build a powerful machine learning algorithm. We need to explore and understand our data set before we \n",
    "define a predictive task and solve it."
   ]
  },
  {
   "cell_type": "code",
   "execution_count": null,
   "metadata": {},
   "outputs": [],
   "source": [
    "6. What are the various histogram shapes? What exactly are 'bins'?"
   ]
  },
  {
   "cell_type": "code",
   "execution_count": null,
   "metadata": {},
   "outputs": [],
   "source": [
    "The different types of a Histogram are:\n",
    "\n",
    "Uniform Histogram\n",
    "Symmetric Histogram\n",
    "Bimodal Histogram\n",
    "Probability Histogram.\n",
    "The bin in a histogram is the choice of unit and spacing on the X-axis. All the data in a probability distribution \n",
    "represented visually by a histogram is filled into the corresponding bins. The height of each bin is a measurement of the\n",
    "frequency with which data appears inside the range of that bin in the distribution.\n"
   ]
  },
  {
   "cell_type": "code",
   "execution_count": null,
   "metadata": {},
   "outputs": [],
   "source": [
    "7. How do we deal with data outliers?"
   ]
  },
  {
   "cell_type": "code",
   "execution_count": null,
   "metadata": {},
   "outputs": [],
   "source": [
    "We can use Z-Score or any of below methods to deal with data outliers:\n",
    "\n",
    "1.Univariate Method: This method looks for data points with extreme values on one variable.\n",
    "2.Multivariate Method: Here, we look for unusual combinations of all the variables.\n",
    "3.Minkowski Error: This method reduces the contribution of potential outliers in the training process.\n",
    "4.Z-Score: This can be done with just one line code as we have already calculated the Z-score.\n",
    "5.IQR Score: Calculate IQR score to filter out the outliers by keeping only valid values.\n",
    "6.Quantile function: Use quantile() to remove amount of data."
   ]
  },
  {
   "cell_type": "code",
   "execution_count": null,
   "metadata": {},
   "outputs": [],
   "source": [
    "8. What are the various central inclination measures? Why does mean vary too much from median in certain data sets?"
   ]
  },
  {
   "cell_type": "code",
   "execution_count": null,
   "metadata": {},
   "outputs": [],
   "source": [
    "Mean, Median and Mode are Central Inclination Measures. Mean varies more than Median due to presence of outliers, as mean \n",
    "is averaging all points while median in like finding a middle number."
   ]
  },
  {
   "cell_type": "code",
   "execution_count": null,
   "metadata": {},
   "outputs": [],
   "source": [
    "9. Describe how a scatter plot can be used to investigate bivariate relationships. Is it possible to find outliers using a \n",
    "scatter plot?"
   ]
  },
  {
   "cell_type": "code",
   "execution_count": null,
   "metadata": {},
   "outputs": [],
   "source": [
    "A Scatter Plot (aka scatter chart, scatter graph) uses dots to represent values for two different numeric variables. The \n",
    "position of each dot on the horizontal and vertical axis indicates values for an individual data point. So this \n",
    "visualization gives us the idea of bivariate relationship.\n",
    "\n",
    "Scatter plot can also help finding outliers as outliers can be visualized at farther distance than regular data.\n"
   ]
  },
  {
   "cell_type": "code",
   "execution_count": null,
   "metadata": {},
   "outputs": [],
   "source": [
    "10. Describe how cross-tabs can be used to figure out how two variables are related."
   ]
  },
  {
   "cell_type": "code",
   "execution_count": null,
   "metadata": {},
   "outputs": [],
   "source": [
    "Cross tabulation is a method to quantitatively analyze the relationship between multiple variables. Also known as \n",
    "contingency tables or cross tabs, cross tabulation groups variables to understand the correlation between different \n",
    "variables. It also shows how correlations change from one variable grouping to another."
   ]
  },
  {
   "cell_type": "code",
   "execution_count": null,
   "metadata": {},
   "outputs": [],
   "source": []
  }
 ],
 "metadata": {
  "kernelspec": {
   "display_name": "Python 3",
   "language": "python",
   "name": "python3"
  },
  "language_info": {
   "codemirror_mode": {
    "name": "ipython",
    "version": 3
   },
   "file_extension": ".py",
   "mimetype": "text/x-python",
   "name": "python",
   "nbconvert_exporter": "python",
   "pygments_lexer": "ipython3",
   "version": "3.8.3"
  }
 },
 "nbformat": 4,
 "nbformat_minor": 4
}
