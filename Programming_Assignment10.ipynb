{
 "cells": [
  {
   "cell_type": "code",
   "execution_count": null,
   "metadata": {},
   "outputs": [],
   "source": [
    "1. Write a Python program to find sum of elements in list?"
   ]
  },
  {
   "cell_type": "code",
   "execution_count": 2,
   "metadata": {},
   "outputs": [
    {
     "name": "stdout",
     "output_type": "stream",
     "text": [
      "Sum of elements = 95\n"
     ]
    }
   ],
   "source": [
    "L=[1,2,3,14,45,12,18]\n",
    "sum=0\n",
    "for i in L:\n",
    "    sum=sum+i\n",
    "print(\"Sum of elements =\",sum)"
   ]
  },
  {
   "cell_type": "code",
   "execution_count": null,
   "metadata": {},
   "outputs": [],
   "source": [
    "2. Write a Python program to Multiply all numbers in the list?"
   ]
  },
  {
   "cell_type": "code",
   "execution_count": 4,
   "metadata": {},
   "outputs": [
    {
     "name": "stdout",
     "output_type": "stream",
     "text": [
      "Multiply all numbeers in the list is = 907200\n"
     ]
    }
   ],
   "source": [
    "L=[1,2,3,14,45,12,20]\n",
    "mul=1\n",
    "for i in L:\n",
    "    mul=mul*i\n",
    "print(\"Multiply all numbeers in the list is =\",mul)"
   ]
  },
  {
   "cell_type": "code",
   "execution_count": null,
   "metadata": {},
   "outputs": [],
   "source": [
    "3. Write a Python program to find smallest number in a list?"
   ]
  },
  {
   "cell_type": "code",
   "execution_count": 8,
   "metadata": {},
   "outputs": [
    {
     "name": "stdout",
     "output_type": "stream",
     "text": [
      "Smallest number in a list is= 7\n"
     ]
    }
   ],
   "source": [
    "L=[456,52,60,7,8,9,52,455,45]\n",
    "min=9\n",
    "for i in L:\n",
    "    if i<min:\n",
    "        min=i\n",
    "print(\"Smallest number in a list is=\",min)\n"
   ]
  },
  {
   "cell_type": "code",
   "execution_count": null,
   "metadata": {},
   "outputs": [],
   "source": [
    "4. Write a Python program to find largest number in a list?"
   ]
  },
  {
   "cell_type": "code",
   "execution_count": 12,
   "metadata": {},
   "outputs": [
    {
     "name": "stdout",
     "output_type": "stream",
     "text": [
      "Largest number in a list is= 4525\n"
     ]
    }
   ],
   "source": [
    "L=[456,52,60,7,8,9,52,4525,5]\n",
    "max=0\n",
    "for i in L:\n",
    "    if i>max:\n",
    "        max=i\n",
    "print(\"Largest number in a list is=\",max)\n"
   ]
  },
  {
   "cell_type": "code",
   "execution_count": null,
   "metadata": {},
   "outputs": [],
   "source": [
    "5. Write a Python program to find second largest number in a list?"
   ]
  },
  {
   "cell_type": "code",
   "execution_count": 15,
   "metadata": {},
   "outputs": [
    {
     "name": "stdout",
     "output_type": "stream",
     "text": [
      "second largest number in a list is : 999\n"
     ]
    }
   ],
   "source": [
    "L=[456,52,60,7,8,999,52,4525,5]\n",
    "L.sort()\n",
    "print(\"second largest number in a list is :\",L[-2])\n"
   ]
  },
  {
   "cell_type": "code",
   "execution_count": null,
   "metadata": {},
   "outputs": [],
   "source": [
    "6. Write a Python program to find N largest elements from a list?"
   ]
  },
  {
   "cell_type": "code",
   "execution_count": 19,
   "metadata": {},
   "outputs": [
    {
     "name": "stdout",
     "output_type": "stream",
     "text": [
      "[4525, 999, 456, 60]\n"
     ]
    }
   ],
   "source": [
    "def Nmaxelements(L,N):\n",
    "    final_list=[]\n",
    "    for i in range(0,N):\n",
    "        max=0\n",
    "        for j in range(len(L)):\n",
    "            if L[j]>max:\n",
    "                max=L[j]\n",
    "        L.remove(max)\n",
    "        final_list.append(max)\n",
    "    print(final_list)\n",
    "L=[456,52,60,7,8,999,52,4525,5]\n",
    "N=4\n",
    "Nmaxelements(L,N)"
   ]
  },
  {
   "cell_type": "code",
   "execution_count": null,
   "metadata": {},
   "outputs": [],
   "source": [
    "7. Write a Python program to print even numbers in a list?"
   ]
  },
  {
   "cell_type": "code",
   "execution_count": 21,
   "metadata": {},
   "outputs": [
    {
     "name": "stdout",
     "output_type": "stream",
     "text": [
      "4 6 8 6 4 512 5478 "
     ]
    }
   ],
   "source": [
    "L=[11,211,5,4,6,8,6,5,4,512,515,1451,5478,45]\n",
    "for i in L:\n",
    "    if i%2==0:\n",
    "        print(i ,end=\" \")"
   ]
  },
  {
   "cell_type": "code",
   "execution_count": null,
   "metadata": {},
   "outputs": [],
   "source": [
    "8. Write a Python program to print odd numbers in a List?"
   ]
  },
  {
   "cell_type": "code",
   "execution_count": 22,
   "metadata": {},
   "outputs": [
    {
     "name": "stdout",
     "output_type": "stream",
     "text": [
      "11 211 5 5 515 1451 45 "
     ]
    }
   ],
   "source": [
    "L=[11,211,5,4,6,8,6,5,4,512,515,1451,5478,45]\n",
    "for i in L:\n",
    "    if i%2!=0:\n",
    "        print(i ,end=\" \")"
   ]
  },
  {
   "cell_type": "code",
   "execution_count": null,
   "metadata": {},
   "outputs": [],
   "source": [
    "9. Write a Python program to Remove empty List from List?"
   ]
  },
  {
   "cell_type": "code",
   "execution_count": 23,
   "metadata": {},
   "outputs": [
    {
     "name": "stdout",
     "output_type": "stream",
     "text": [
      "the original list is :[5, 2, [], 8, 5, [], 9, []]\n",
      "List after remove empty list :[5, 2, 8, 5, 9]\n"
     ]
    }
   ],
   "source": [
    "L=[5,2,[],8,5,[],9,[]]\n",
    "print(\"the original list is :\"+ str(L))\n",
    "res=[ele for ele in L if ele!=[]]\n",
    "print(\"List after remove empty list :\" +str(res))"
   ]
  },
  {
   "cell_type": "code",
   "execution_count": null,
   "metadata": {},
   "outputs": [],
   "source": [
    "10. Write a Python program to Cloning or Copying a list?"
   ]
  },
  {
   "cell_type": "code",
   "execution_count": 26,
   "metadata": {},
   "outputs": [
    {
     "name": "stdout",
     "output_type": "stream",
     "text": [
      "Original List : [5, 211, 5, 4, 6, 8, 6, 5, 4, 512, 515]\n",
      "After cloning : [5, 211, 5, 4, 6, 8, 6, 5, 4, 512, 515]\n"
     ]
    }
   ],
   "source": [
    "def cloning(list1):\n",
    "    list_copy=list1[:]\n",
    "    return list_copy\n",
    "list1=[5,211,5,4,6,8,6,5,4,512,515]\n",
    "list2=cloning(list1)\n",
    "print(\"Original List :\",list1)\n",
    "print(\"After cloning :\",list2)"
   ]
  },
  {
   "cell_type": "code",
   "execution_count": null,
   "metadata": {},
   "outputs": [],
   "source": [
    "11. Write a Python program to Count occurrences of an element in a list?"
   ]
  },
  {
   "cell_type": "code",
   "execution_count": 27,
   "metadata": {},
   "outputs": [
    {
     "name": "stdout",
     "output_type": "stream",
     "text": [
      "21 has occurred 4 times\n"
     ]
    }
   ],
   "source": [
    "def countX(list ,x):\n",
    "    count=0\n",
    "    for ele in list:\n",
    "        if ele==x:\n",
    "            count=count+1\n",
    "    return count\n",
    "list=[4,5,6,7,8,2,165,11,2154,54,12,21,21,21,22,21,25]\n",
    "x=21\n",
    "print(\"{} has occurred {} times\".format(x,countX(list,x)))"
   ]
  }
 ],
 "metadata": {
  "kernelspec": {
   "display_name": "Python 3",
   "language": "python",
   "name": "python3"
  },
  "language_info": {
   "codemirror_mode": {
    "name": "ipython",
    "version": 3
   },
   "file_extension": ".py",
   "mimetype": "text/x-python",
   "name": "python",
   "nbconvert_exporter": "python",
   "pygments_lexer": "ipython3",
   "version": "3.8.3"
  }
 },
 "nbformat": 4,
 "nbformat_minor": 4
}
