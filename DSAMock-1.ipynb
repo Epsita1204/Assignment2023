{
 "cells": [
  {
   "cell_type": "code",
   "execution_count": null,
   "metadata": {},
   "outputs": [],
   "source": [
    "Given an integer array nums, move all 0's to the end of it while maintaining the relative order of the non-zero elements."
   ]
  },
  {
   "cell_type": "code",
   "execution_count": 3,
   "metadata": {},
   "outputs": [
    {
     "name": "stdout",
     "output_type": "stream",
     "text": [
      "[1, 3, 12, 0, 0]\n"
     ]
    }
   ],
   "source": [
    "nums=[0,1,0,3,12]\n",
    "next_non_zero=0\n",
    "for i in range(len(nums)):\n",
    "    if nums[i]!=0:\n",
    "        nums[next_non_zero]=nums[i]\n",
    "        next_non_zero+=1\n",
    "while next_non_zero<len(nums):\n",
    "    nums[next_non_zero]=0\n",
    "    next_non_zero+=1\n",
    "print(nums)   "
   ]
  },
  {
   "cell_type": "code",
   "execution_count": 4,
   "metadata": {},
   "outputs": [
    {
     "name": "stdout",
     "output_type": "stream",
     "text": [
      "[0]\n"
     ]
    }
   ],
   "source": [
    "nums=[0]\n",
    "next_non_zero=0\n",
    "for i in range(len(nums)):\n",
    "    if nums[i]!=0:\n",
    "        nums[next_non_zero]=nums[i]\n",
    "        next_non_zero+=1\n",
    "while next_non_zero<len(nums):\n",
    "    nums[next_non_zero]=0\n",
    "    next_non_zero+=1\n",
    "print(nums)   "
   ]
  },
  {
   "cell_type": "code",
   "execution_count": null,
   "metadata": {},
   "outputs": [],
   "source": [
    "Given a string s, find the first non-repeating character in it and return its index. If it does not exist, return -1."
   ]
  },
  {
   "cell_type": "code",
   "execution_count": 6,
   "metadata": {},
   "outputs": [
    {
     "name": "stdout",
     "output_type": "stream",
     "text": [
      "0\n"
     ]
    }
   ],
   "source": [
    "s='leetcode'\n",
    "freq={}\n",
    "for ch in s:\n",
    "    if ch in freq:\n",
    "        freq[ch]+=1\n",
    "    else:\n",
    "        freq[ch]=1\n",
    "for i in range(len(s)):\n",
    "    if freq[s[i]]==1:\n",
    "        print(i)\n",
    "        break\n",
    "    else:\n",
    "        print(-1)\n",
    "        "
   ]
  },
  {
   "cell_type": "code",
   "execution_count": 7,
   "metadata": {},
   "outputs": [
    {
     "name": "stdout",
     "output_type": "stream",
     "text": [
      "-1\n",
      "-1\n",
      "2\n"
     ]
    }
   ],
   "source": [
    "s=\"loveleetcode\"\n",
    "freq={}\n",
    "for ch in s:\n",
    "    if ch in freq:\n",
    "        freq[ch]+=1\n",
    "    else:\n",
    "        freq[ch]=1\n",
    "for i in range(len(s)):\n",
    "    if freq[s[i]]==1:\n",
    "        print(i)\n",
    "        break\n",
    "    else:\n",
    "        print(-1)\n",
    "        "
   ]
  },
  {
   "cell_type": "code",
   "execution_count": null,
   "metadata": {},
   "outputs": [],
   "source": []
  }
 ],
 "metadata": {
  "kernelspec": {
   "display_name": "Python 3",
   "language": "python",
   "name": "python3"
  },
  "language_info": {
   "codemirror_mode": {
    "name": "ipython",
    "version": 3
   },
   "file_extension": ".py",
   "mimetype": "text/x-python",
   "name": "python",
   "nbconvert_exporter": "python",
   "pygments_lexer": "ipython3",
   "version": "3.8.3"
  }
 },
 "nbformat": 4,
 "nbformat_minor": 4
}
