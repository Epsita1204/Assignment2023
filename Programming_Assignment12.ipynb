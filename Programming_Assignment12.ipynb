{
 "cells": [
  {
   "cell_type": "code",
   "execution_count": null,
   "metadata": {},
   "outputs": [],
   "source": [
    "1. Write a Python program to Extract Unique values dictionary values?"
   ]
  },
  {
   "cell_type": "code",
   "execution_count": 4,
   "metadata": {},
   "outputs": [
    {
     "name": "stdout",
     "output_type": "stream",
     "text": [
      "[31, 28, 30]\n"
     ]
    }
   ],
   "source": [
    "d={'JAN':31,'FEB':28,'MAR':31,'APR':30,'MAY':31,'JUNE':30,'JULY':31,'AUG':31,'SEP':30,'OCT':31,'NOV':30,'DEC':31}\n",
    "L=[]\n",
    "for i in d:\n",
    "    if d[i] not in L:\n",
    "        L.append(d[i])\n",
    "print(L)\n",
    "    "
   ]
  },
  {
   "cell_type": "code",
   "execution_count": null,
   "metadata": {},
   "outputs": [],
   "source": [
    "2. Write a Python program to find the sum of all items in a dictionary?"
   ]
  },
  {
   "cell_type": "code",
   "execution_count": 10,
   "metadata": {},
   "outputs": [
    {
     "name": "stdout",
     "output_type": "stream",
     "text": [
      "sum : 365\n"
     ]
    }
   ],
   "source": [
    "def returnsum(d):\n",
    "    sum=0\n",
    "    for i in d:\n",
    "        sum=sum+d[i]\n",
    "    return sum\n",
    "d={'JAN':31,'FEB':28,'MAR':31,'APR':30,'MAY':31,'JUNE':30,'JULY':31,'AUG':31,'SEP':30,'OCT':31,'NOV':30,'DEC':31}\n",
    "print(\"sum :\",returnsum(d))"
   ]
  },
  {
   "cell_type": "code",
   "execution_count": null,
   "metadata": {},
   "outputs": [],
   "source": [
    "3. Write a Python program to Merging two Dictionaries?"
   ]
  },
  {
   "cell_type": "code",
   "execution_count": 13,
   "metadata": {},
   "outputs": [
    {
     "name": "stdout",
     "output_type": "stream",
     "text": [
      "{'c': 85, 'd': 62, 'a': 15, 'b': 25}\n"
     ]
    }
   ],
   "source": [
    "def Merge(dict1,dict2):\n",
    "    return(dict2.update(dict1))\n",
    "dict1={'a':15,'b':25}\n",
    "dict2={'c':85,'d':62}\n",
    "Merge(dict1,dict2)\n",
    "print(dict2)"
   ]
  },
  {
   "cell_type": "code",
   "execution_count": null,
   "metadata": {},
   "outputs": [],
   "source": [
    "4. Write a Python program to convert key-values list to flat dictionary?"
   ]
  },
  {
   "cell_type": "code",
   "execution_count": 17,
   "metadata": {},
   "outputs": [
    {
     "name": "stdout",
     "output_type": "stream",
     "text": [
      "The Original dictionary :{'month': [1, 2, 3], 'name': ['Jan', 'Feb', 'March']}\n",
      "Flattened dictionary :{1: 'Jan', 2: 'Feb', 3: 'March'}\n"
     ]
    }
   ],
   "source": [
    "test_dict={'month':[1,2,3],'name':['Jan','Feb','March']}\n",
    "print(\"The Original dictionary :\"+str(dict))\n",
    "x=list(test_dict.values())\n",
    "a=x[0]\n",
    "b=x[1]\n",
    "d={}\n",
    "for i in range(0,len(a)):\n",
    "    d[a[i]]=b[i]\n",
    "print('Flattened dictionary :'+str(d))"
   ]
  },
  {
   "cell_type": "code",
   "execution_count": null,
   "metadata": {},
   "outputs": [],
   "source": [
    "5. Write a Python program to insertion at the beginning in OrderedDict?"
   ]
  },
  {
   "cell_type": "code",
   "execution_count": 28,
   "metadata": {},
   "outputs": [
    {
     "name": "stdout",
     "output_type": "stream",
     "text": [
      "Resultant Dictionary : OrderedDict([('D', '400'), ('A', '100'), ('B', '200'), ('C', '300')])\n"
     ]
    }
   ],
   "source": [
    "from collections import OrderedDict\n",
    "dic1=OrderedDict([('A','100'),('B','200'),('C','300')])\n",
    "insert=OrderedDict([('D','400')])\n",
    "final=OrderedDict(list(insert.items())+list(dic1.items()))\n",
    "print(\"Resultant Dictionary :\",final)"
   ]
  },
  {
   "cell_type": "code",
   "execution_count": null,
   "metadata": {},
   "outputs": [],
   "source": [
    "6. Write a Python program to check order of character in string using OrderedDict()?"
   ]
  },
  {
   "cell_type": "code",
   "execution_count": 30,
   "metadata": {},
   "outputs": [
    {
     "name": "stdout",
     "output_type": "stream",
     "text": [
      "The order pattern is incorrect\n"
     ]
    }
   ],
   "source": [
    "from collections import OrderedDict\n",
    "def check_order(my_input,my_pattern):\n",
    "    my_dict=OrderedDict.fromkeys(my_input)\n",
    "    pattern_length=0\n",
    "    for key,value in my_dict.items():\n",
    "        if (key==my_pattern[pattern_length]):\n",
    "            pattern_length=pattern_length+1\n",
    "        if (pattern_length==(len(my_pattern))):\n",
    "            return 'The order pattern is correct'\n",
    "        else:\n",
    "            return 'The order pattern is incorrect'\n",
    "        \n",
    "my_input='Hi Epsita'\n",
    "input_pattern='si'\n",
    "print(check_order(my_input,input_pattern))"
   ]
  },
  {
   "cell_type": "code",
   "execution_count": null,
   "metadata": {},
   "outputs": [],
   "source": [
    "7. Write a Python program to sort Python Dictionaries by Key or Value?"
   ]
  },
  {
   "cell_type": "code",
   "execution_count": 32,
   "metadata": {},
   "outputs": [
    {
     "name": "stdout",
     "output_type": "stream",
     "text": [
      "{'APR': 30, 'AUG': 31, 'DEC': 31, 'FEB': 28, 'JAN': 31, 'JULY': 31, 'JUNE': 30, 'MAR': 31, 'MAY': 31, 'NOV': 30, 'OCT': 31, 'SEP': 30}\n"
     ]
    }
   ],
   "source": [
    "dict={'JAN':31,'FEB':28,'MAR':31,'APR':30,'MAY':31,'JUNE':30,'JULY':31,'AUG':31,'SEP':30,'OCT':31,'NOV':30,'DEC':31}\n",
    "Keys =list(dict.keys())\n",
    "Keys.sort()\n",
    "sorted_dict ={i:dict[i] for i in Keys}\n",
    "print(sorted_dict)"
   ]
  },
  {
   "cell_type": "code",
   "execution_count": null,
   "metadata": {},
   "outputs": [],
   "source": []
  }
 ],
 "metadata": {
  "kernelspec": {
   "display_name": "Python 3",
   "language": "python",
   "name": "python3"
  },
  "language_info": {
   "codemirror_mode": {
    "name": "ipython",
    "version": 3
   },
   "file_extension": ".py",
   "mimetype": "text/x-python",
   "name": "python",
   "nbconvert_exporter": "python",
   "pygments_lexer": "ipython3",
   "version": "3.8.3"
  }
 },
 "nbformat": 4,
 "nbformat_minor": 4
}
