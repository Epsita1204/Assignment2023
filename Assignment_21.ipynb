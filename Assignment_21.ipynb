{
 "cells": [
  {
   "cell_type": "code",
   "execution_count": null,
   "metadata": {},
   "outputs": [],
   "source": [
    "1. Add the current date to the text file today.txt as a string."
   ]
  },
  {
   "cell_type": "code",
   "execution_count": 22,
   "metadata": {},
   "outputs": [
    {
     "name": "stdout",
     "output_type": "stream",
     "text": [
      "2023-04-22.txt\n"
     ]
    }
   ],
   "source": [
    "import datetime\n",
    "\n",
    "todays_date = datetime.date.today()\n",
    "today_txt = todays_date.strftime('%Y-%m-%d') + '.txt'\n",
    "print(today_txt)"
   ]
  },
  {
   "cell_type": "code",
   "execution_count": null,
   "metadata": {},
   "outputs": [],
   "source": [
    "2. Read the text file today.txt into the string today_string"
   ]
  },
  {
   "cell_type": "code",
   "execution_count": 23,
   "metadata": {},
   "outputs": [
    {
     "name": "stdout",
     "output_type": "stream",
     "text": [
      "2023-04-19\n"
     ]
    }
   ],
   "source": [
    "f=open('d:\\\\dataset\\\\today_txt.txt','r')\n",
    "data=f.read()\n",
    "f.close()\n",
    "print(data)"
   ]
  },
  {
   "cell_type": "code",
   "execution_count": null,
   "metadata": {},
   "outputs": [],
   "source": [
    "3. Parse the date from today_string."
   ]
  },
  {
   "cell_type": "code",
   "execution_count": 24,
   "metadata": {},
   "outputs": [
    {
     "name": "stdout",
     "output_type": "stream",
     "text": [
      "2018-12-04 10:07:00\n"
     ]
    }
   ],
   "source": [
    "import datetime\n",
    "\n",
    "def convert(date_time):\n",
    "    format = '%b %d %Y %I:%M%p' \n",
    "    datetime_str = datetime.datetime.strptime(date_time, format)\n",
    " \n",
    "    return datetime_str\n",
    " \n",
    "date_time = 'Dec 4 2018 10:07AM'\n",
    "print(convert(date_time))"
   ]
  },
  {
   "cell_type": "code",
   "execution_count": null,
   "metadata": {},
   "outputs": [],
   "source": [
    "4. List the files in your current directory"
   ]
  },
  {
   "cell_type": "code",
   "execution_count": 27,
   "metadata": {},
   "outputs": [
    {
     "name": "stdout",
     "output_type": "stream",
     "text": [
      "['Book1.csv', 'books.csv', 'calculator.png', 'doctor2.csv', 'google.txt', 'Item.txt', 'Item1.txt', 'Item2.txt', 'item3.txt', 'para.txt', 'para1.txt', 'para2.txt', 'para3.txt', 'random.csv', 'random.txt', 'STORY.TXt', 'stu.csv', 'stu.txt', 'stu1.csv', 'stu1.txt', 'stu2.csv', 'stu2.txt', 'stu5.txt', 'Student.csv', 'student.txt', 'student.xls', 'student1.csv', 'TextFile.txt', 'today_txt.txt']\n"
     ]
    }
   ],
   "source": [
    "import os\n",
    "\n",
    "dir_path = r'd:\\\\dataset\\\\'\n",
    "res = []\n",
    "\n",
    "for path in os.listdir(dir_path):\n",
    "    if os.path.isfile(os.path.join(dir_path, path)):\n",
    "        res.append(path)\n",
    "print(res)"
   ]
  },
  {
   "cell_type": "code",
   "execution_count": null,
   "metadata": {},
   "outputs": [],
   "source": [
    "5. Create a list of all of the files in your parent directory (minimum five files should be available)."
   ]
  },
  {
   "cell_type": "code",
   "execution_count": 28,
   "metadata": {},
   "outputs": [
    {
     "name": "stdout",
     "output_type": "stream",
     "text": [
      "['Book1.csv', 'books.csv', 'calculator.png', 'doctor2.csv', 'google.txt', 'Item.txt', 'Item1.txt', 'Item2.txt', 'item3.txt', 'para.txt', 'para1.txt', 'para2.txt', 'para3.txt', 'random.csv', 'random.txt', 'STORY.TXt', 'stu.csv', 'stu.txt', 'stu1.csv', 'stu1.txt', 'stu2.csv', 'stu2.txt', 'stu5.txt', 'Student.csv', 'student.txt', 'student.xls', 'student1.csv', 'TextFile.txt', 'today_txt.txt']\n"
     ]
    }
   ],
   "source": [
    "import os\n",
    "\n",
    "dir_path = r'd:\\\\dataset\\\\'\n",
    "res = []\n",
    "\n",
    "for path in os.listdir(dir_path):\n",
    "    if os.path.isfile(os.path.join(dir_path, path)):\n",
    "        res.append(path)\n",
    "print(res)"
   ]
  },
  {
   "cell_type": "code",
   "execution_count": null,
   "metadata": {},
   "outputs": [],
   "source": [
    "6.Use multiprocessing to create three separate processes. Make each one wait a random number of seconds between one and \n",
    "five, print the current time, and then exit."
   ]
  },
  {
   "cell_type": "code",
   "execution_count": 6,
   "metadata": {},
   "outputs": [
    {
     "name": "stdout",
     "output_type": "stream",
     "text": [
      "ProcessMainProcess finished after 5 seconds at 2023-04-27 20:51:26.739808\n"
     ]
    }
   ],
   "source": [
    "import multiprocessing\n",
    "import random\n",
    "import time\n",
    "import datetime\n",
    "def worker():\n",
    "    sleep_time=random.randint(1,5)\n",
    "    time.sleep(sleep_time)\n",
    "    print(\"Process{} finished after {} seconds at {}\".format(multiprocessing.current_process().name,sleep_time,datetime.datetime.now()))\n",
    "\n",
    "if __name__=='__main__':\n",
    "    processes=[]\n",
    "    for i in range(3):\n",
    "        p=multiprocessing.Process(target=worker,name=\"Process{}\".format(i+1))\n",
    "        processes.append(p)\n",
    "        p.start()\n",
    "        for p in processes:\n",
    "            p.join()\n",
    "worker()\n",
    "        "
   ]
  },
  {
   "cell_type": "code",
   "execution_count": null,
   "metadata": {},
   "outputs": [],
   "source": [
    "7. Create a date object of your day of birth."
   ]
  },
  {
   "cell_type": "code",
   "execution_count": 30,
   "metadata": {},
   "outputs": [
    {
     "name": "stdout",
     "output_type": "stream",
     "text": [
      "2000-04-12 00:00:00\n"
     ]
    }
   ],
   "source": [
    "import datetime\n",
    "x=datetime.datetime(2000,4,12)\n",
    "print(x)"
   ]
  },
  {
   "cell_type": "code",
   "execution_count": null,
   "metadata": {},
   "outputs": [],
   "source": [
    "8. What day of the week was your day of birth?"
   ]
  },
  {
   "cell_type": "code",
   "execution_count": 38,
   "metadata": {},
   "outputs": [
    {
     "name": "stdout",
     "output_type": "stream",
     "text": [
      "Wednesday\n"
     ]
    }
   ],
   "source": [
    "import datetime\n",
    "import calendar\n",
    " \n",
    "def findDay(date):\n",
    "    born = datetime.datetime.strptime(date, '%d %m %Y').weekday()\n",
    "    return (calendar.day_name[born])\n",
    "\n",
    "date = '12 04 2000'\n",
    "print(findDay(date))"
   ]
  },
  {
   "cell_type": "code",
   "execution_count": null,
   "metadata": {},
   "outputs": [],
   "source": [
    "9. When will you be (or when were you) 10,000 days old?"
   ]
  },
  {
   "cell_type": "code",
   "execution_count": 39,
   "metadata": {},
   "outputs": [
    {
     "name": "stdout",
     "output_type": "stream",
     "text": [
      "28\n"
     ]
    }
   ],
   "source": [
    "years = range(2000, 2050)\n",
    "lst_days = []\n",
    "count = 0\n",
    "tot_days = 0\n",
    "for year in years:\n",
    "    if((year % 400 == 0) or  (year % 100 != 0) and  (year % 4 == 0)):\n",
    "        lst_days.append(366)\n",
    "    else:\n",
    "        lst_days.append(365)\n",
    "while tot_days <= 10000:\n",
    "        tot_days = tot_days + lst_days[count]\n",
    "        count = count+1\n",
    "print(count)\n"
   ]
  },
  {
   "cell_type": "code",
   "execution_count": null,
   "metadata": {},
   "outputs": [],
   "source": []
  }
 ],
 "metadata": {
  "kernelspec": {
   "display_name": "Python 3",
   "language": "python",
   "name": "python3"
  },
  "language_info": {
   "codemirror_mode": {
    "name": "ipython",
    "version": 3
   },
   "file_extension": ".py",
   "mimetype": "text/x-python",
   "name": "python",
   "nbconvert_exporter": "python",
   "pygments_lexer": "ipython3",
   "version": "3.8.3"
  }
 },
 "nbformat": 4,
 "nbformat_minor": 4
}
