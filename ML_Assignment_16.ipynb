{
 "cells": [
  {
   "cell_type": "code",
   "execution_count": null,
   "metadata": {},
   "outputs": [],
   "source": [
    "1. In a linear equation, what is the difference between a dependent variable and an independent variable?"
   ]
  },
  {
   "cell_type": "code",
   "execution_count": null,
   "metadata": {},
   "outputs": [],
   "source": [
    "Algebriacally,a linear equation typically takes the form y=mx+b,where m and b are constants,x is the independent variable,y\n",
    "is the dependent variable.The slope tells us how the dependent variable(y) changes for every one unit increase in the \n",
    "independent(x) variable,on average.\n",
    "\n",
    "The variables in astudy of a cause-and-effect relationship are called the independent and dependent variables.The \n",
    "independent variable is the cause .Its value is independent of other variables in your study.The dependent variable is the\n",
    "effect."
   ]
  },
  {
   "cell_type": "code",
   "execution_count": null,
   "metadata": {},
   "outputs": [],
   "source": [
    "2. What is the concept of simple linear regression? Give a specific example."
   ]
  },
  {
   "cell_type": "code",
   "execution_count": null,
   "metadata": {},
   "outputs": [],
   "source": [
    "Simple linear regression is a regression model that estimates the relationship between one independent variable and one \n",
    "dependent variable using a straight line. Both variables should be quantitative.\n",
    "\n",
    "We could use the equation to predict weight if we knew an individual's height. In this example, if an individual was 70 \n",
    "inches tall, we would predict his weight to be: Weight = 80 + 2 x (70) = 220 lbs. In this simple linear regression, we are \n",
    "examining the impact of one independent variable on the outcome."
   ]
  },
  {
   "cell_type": "code",
   "execution_count": null,
   "metadata": {},
   "outputs": [],
   "source": [
    "3. In a linear regression, define the slope."
   ]
  },
  {
   "cell_type": "code",
   "execution_count": null,
   "metadata": {},
   "outputs": [],
   "source": [
    "The slope of a regression line(b) represents the rate of change in y as x changes.Because y is dependent on x,the slope\n",
    "describes the predicted values of y given x.The slope must be calculated before the y-intercept when using a linear\n",
    "regression ,as the intercept is calculated using the slope."
   ]
  },
  {
   "cell_type": "code",
   "execution_count": null,
   "metadata": {},
   "outputs": [],
   "source": [
    "4. Determine the graph's slope, where the lower point on the line is represented as (3, 2) and the higher point is \n",
    "represented as (2, 2)."
   ]
  },
  {
   "cell_type": "code",
   "execution_count": null,
   "metadata": {},
   "outputs": [],
   "source": [
    "The graph's slope, where the lower point on the line is represented as (3, 2) and the higher point is  represented as \n",
    "(2, 2) is 0."
   ]
  },
  {
   "cell_type": "code",
   "execution_count": null,
   "metadata": {},
   "outputs": [],
   "source": [
    "5. In linear regression, what are the conditions for a positive slope?"
   ]
  },
  {
   "cell_type": "code",
   "execution_count": null,
   "metadata": {},
   "outputs": [],
   "source": [
    "If the slope is positive, y increases as x increases, and the function runs \"uphill\" (going left to right). If the slope\n",
    "is negative, y decreases as x increases and the function runs downhill. If the slope is zero, y does not change, thus is\n",
    "constant—a horizontal line."
   ]
  },
  {
   "cell_type": "code",
   "execution_count": null,
   "metadata": {},
   "outputs": [],
   "source": [
    "6. In linear regression, what are the conditions for a negative slope?"
   ]
  },
  {
   "cell_type": "code",
   "execution_count": null,
   "metadata": {},
   "outputs": [],
   "source": [
    "If the slope is negative, y decreases as x increases and the function runs downhill."
   ]
  },
  {
   "cell_type": "code",
   "execution_count": null,
   "metadata": {},
   "outputs": [],
   "source": [
    "7. What is multiple linear regression and how does it work?"
   ]
  },
  {
   "cell_type": "code",
   "execution_count": null,
   "metadata": {},
   "outputs": [],
   "source": [
    "Multiple linear regression is a statistical technique that uses multiple linear regression to model more complex \n",
    "relationships between two or more independent variables and one dependent variable. It is used when there are two or more \n",
    "x variables.The technique enables analysts to determine the variation of the model and the relative contribution of each\n",
    "independent variable in the total variance."
   ]
  },
  {
   "cell_type": "code",
   "execution_count": null,
   "metadata": {},
   "outputs": [],
   "source": [
    "8. In multiple linear regression, define the number of squares due to error."
   ]
  },
  {
   "cell_type": "code",
   "execution_count": null,
   "metadata": {},
   "outputs": [],
   "source": [
    "The mean squared error(MSE) tells you how close a regression line is to a set of points.It does this by taking the\n",
    "distances from the points to the regression line(these distances are the \"errors\") and squaring them.It's called the mean \n",
    "squared error as you're finding the average of a set of errors. "
   ]
  },
  {
   "cell_type": "code",
   "execution_count": null,
   "metadata": {},
   "outputs": [],
   "source": [
    "9. In multiple linear regression, define the number of squares due to regression."
   ]
  },
  {
   "cell_type": "code",
   "execution_count": null,
   "metadata": {},
   "outputs": [],
   "source": [
    "Sum of squares is a statistical technique used in regression analysis to determine the dispersion of data points.In a\n",
    "regression analysis ,the goal is to determine how well a data series can be fitted to a function that might help to explain\n",
    "how the data series was generated."
   ]
  },
  {
   "cell_type": "code",
   "execution_count": null,
   "metadata": {},
   "outputs": [],
   "source": [
    "10. In a regression equation, what is multicollinearity?"
   ]
  },
  {
   "cell_type": "code",
   "execution_count": null,
   "metadata": {},
   "outputs": [],
   "source": [
    "Multicollinearity occurs when two or more independent variables(also known as predictor) are highly correlated with one \n",
    "another in a regression model. This means that an independent variable can be predicted from another independent variable \n",
    "in a regression model."
   ]
  },
  {
   "cell_type": "code",
   "execution_count": null,
   "metadata": {},
   "outputs": [],
   "source": [
    "11. What is heteroskedasticity, and what does it mean?"
   ]
  },
  {
   "cell_type": "code",
   "execution_count": null,
   "metadata": {},
   "outputs": [],
   "source": [
    "Heteroskedasticity refers to the error variance or dependence of scattering within a minimum of one independent variable \n",
    "within a particular sample.A common cause of variances outside the minimum requirement is often attributed to issues of\n",
    "data quality."
   ]
  },
  {
   "cell_type": "code",
   "execution_count": null,
   "metadata": {},
   "outputs": [],
   "source": [
    "12. Describe the concept of ridge regression."
   ]
  },
  {
   "cell_type": "code",
   "execution_count": null,
   "metadata": {},
   "outputs": [],
   "source": [
    "Ridge regression is a model tuning method that is used to analyse any data that suffers from multicollinearity. This method\n",
    "performs L2 regularization. When the issue of multicollinearity occurs, least-squares are unbiased, and variances are \n",
    "large,this results in predicted values being far away from the actual values."
   ]
  },
  {
   "cell_type": "code",
   "execution_count": null,
   "metadata": {},
   "outputs": [],
   "source": [
    "13. Describe the concept of lasso regression."
   ]
  },
  {
   "cell_type": "code",
   "execution_count": null,
   "metadata": {},
   "outputs": [],
   "source": [
    "In statistics and machine learning, lasso (least absolute shrinkage and selection operator; also Lasso or LASSO) is a\n",
    "regression analysis method that performs both variable selection and regularization in order to enhance the prediction \n",
    "accuracy and interpretability of the resulting statistical model."
   ]
  },
  {
   "cell_type": "code",
   "execution_count": null,
   "metadata": {},
   "outputs": [],
   "source": [
    "14. What is polynomial regression and how does it work?"
   ]
  },
  {
   "cell_type": "code",
   "execution_count": null,
   "metadata": {},
   "outputs": [],
   "source": [
    "A polynomial regression model is a machine learning model that can capture non-linear relationships between variables by \n",
    "fitting a non-linear regression line, which may not be possible with simple linear regression. It is used when linear \n",
    "regression models may not adequately capture the complexity of the relationship."
   ]
  },
  {
   "cell_type": "code",
   "execution_count": null,
   "metadata": {},
   "outputs": [],
   "source": [
    "15. Describe the basis function."
   ]
  },
  {
   "cell_type": "code",
   "execution_count": null,
   "metadata": {},
   "outputs": [],
   "source": [
    "This is a generalization of linear regression that essentially replaces each input with a function of the input. \n",
    "(A linear basis function model that uses the identity function is just linear regression.)"
   ]
  },
  {
   "cell_type": "code",
   "execution_count": null,
   "metadata": {},
   "outputs": [],
   "source": [
    "16. Describe how logistic regression works."
   ]
  },
  {
   "cell_type": "code",
   "execution_count": null,
   "metadata": {},
   "outputs": [],
   "source": [
    "Logistic regression uses an equation as the representation, very much like linear regression.Input values(x) are combined \n",
    "linearly using weights or coefficient values(referred to as the Greek capital letter Beta) to predict an output value (y)."
   ]
  },
  {
   "cell_type": "code",
   "execution_count": null,
   "metadata": {},
   "outputs": [],
   "source": []
  }
 ],
 "metadata": {
  "kernelspec": {
   "display_name": "Python 3",
   "language": "python",
   "name": "python3"
  },
  "language_info": {
   "codemirror_mode": {
    "name": "ipython",
    "version": 3
   },
   "file_extension": ".py",
   "mimetype": "text/x-python",
   "name": "python",
   "nbconvert_exporter": "python",
   "pygments_lexer": "ipython3",
   "version": "3.8.3"
  }
 },
 "nbformat": 4,
 "nbformat_minor": 4
}
