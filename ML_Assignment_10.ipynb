{
 "cells": [
  {
   "cell_type": "code",
   "execution_count": null,
   "metadata": {},
   "outputs": [],
   "source": [
    "1. Define the Bayesian interpretation of probability."
   ]
  },
  {
   "cell_type": "code",
   "execution_count": null,
   "metadata": {},
   "outputs": [],
   "source": [
    "Bayesian probability is the study of subjective probabilities or belief in an outcome,compared to the frequentist approach \n",
    "where probabilities are based purely on the past occurrence of the event.A Bayesian Network captures the joint\n",
    "probabilities of the events represented by the model."
   ]
  },
  {
   "cell_type": "code",
   "execution_count": null,
   "metadata": {},
   "outputs": [],
   "source": [
    "2. Define probability of a union of two events with equation."
   ]
  },
  {
   "cell_type": "code",
   "execution_count": null,
   "metadata": {},
   "outputs": [],
   "source": [
    "The general Probability addition rule for the union of two events states that P(A∪B) = P(A) + P(B) - P(A∩B),where A∩B is \n",
    "the intersection of the two sets."
   ]
  },
  {
   "cell_type": "code",
   "execution_count": null,
   "metadata": {},
   "outputs": [],
   "source": [
    "3. What is joint probability? What is its formula?"
   ]
  },
  {
   "cell_type": "code",
   "execution_count": null,
   "metadata": {},
   "outputs": [],
   "source": [
    "Probabilities are combined using multiplication ,therefore the joint probability of independent events is calculated as the\n",
    "probability of event A multiplied by the probability of event B.This can ce stated formally as follows:\n",
    "\n",
    "Joint Probability :P(A and B)=P(A)*P(B)"
   ]
  },
  {
   "cell_type": "code",
   "execution_count": null,
   "metadata": {},
   "outputs": [],
   "source": [
    "4. What is chain rule of probability?"
   ]
  },
  {
   "cell_type": "code",
   "execution_count": null,
   "metadata": {},
   "outputs": [],
   "source": [
    "The chain rule, or general product rule, calculates any component of the joint distribution of a set of random variables \n",
    "using only conditional probabilities. This probability theory is used as a foundation for backpropagation and in creating \n",
    "Bayesian networks."
   ]
  },
  {
   "cell_type": "code",
   "execution_count": null,
   "metadata": {},
   "outputs": [],
   "source": [
    "5. What is conditional probability means? What is the formula of it?"
   ]
  },
  {
   "cell_type": "code",
   "execution_count": null,
   "metadata": {},
   "outputs": [],
   "source": [
    "Conditional probability is defined as the likelihood of an event or outcome occurring, based on the occurrence of a \n",
    "previous event or outcome.\n",
    "\n",
    "Conditional probability is calculated by multiplying the probability of the preceding event by the updated probability of \n",
    "the succeeding, or conditional, event.\n",
    "\n",
    "For example, given that you drew a red card, what’s the probability that it’s a four (p(four|red))=2/26=1/13. So out of \n",
    "the 26 red cards (given a red card), there are two fours so 2/26=1/13."
   ]
  },
  {
   "cell_type": "code",
   "execution_count": null,
   "metadata": {},
   "outputs": [],
   "source": [
    "6. What are continuous random variables?"
   ]
  },
  {
   "cell_type": "code",
   "execution_count": null,
   "metadata": {},
   "outputs": [],
   "source": [
    "A continuous random variables X takes all values in a given interval of numbers.The probability distribution of a \n",
    "continuous random variable is shown by a density curve.The probability that X is between an interval of numbers is the area\n",
    "under the density curve between the interval endpoints.\n"
   ]
  },
  {
   "cell_type": "code",
   "execution_count": null,
   "metadata": {},
   "outputs": [],
   "source": [
    "7. What are Bernoulli distributions? What is the formula of it?"
   ]
  },
  {
   "cell_type": "code",
   "execution_count": null,
   "metadata": {},
   "outputs": [],
   "source": [
    "Bernoulli distribution is a discrete probability distribution where the Bernoulli random variable can have only 0 or 1 as \n",
    "the outcome. p is the probability of success and 1 - p is the probability of failure. \n",
    "\n",
    "The mean of a Bernoulli distribution is E[X] = p and the variance, Var[X] = p(1-p).\n"
   ]
  },
  {
   "cell_type": "code",
   "execution_count": null,
   "metadata": {},
   "outputs": [],
   "source": [
    "8. What is binomial distribution? What is the formula?"
   ]
  },
  {
   "cell_type": "code",
   "execution_count": null,
   "metadata": {},
   "outputs": [],
   "source": [
    "The binomial is a type of distribution that has two possible outcomes(the prefix \"bi\" means two ,or twice).For example, a\n",
    "coin has only two possible outcomes :heads or tails and taking a test could have two possible outcomes:pass or fail.\n",
    "    \n",
    "A Binomial Distribution shows either(S)uccess or (F)ailure."
   ]
  },
  {
   "cell_type": "code",
   "execution_count": null,
   "metadata": {},
   "outputs": [],
   "source": [
    "9. What is Poisson distribution? What is the formula?"
   ]
  },
  {
   "cell_type": "code",
   "execution_count": null,
   "metadata": {},
   "outputs": [],
   "source": [
    "A Poisson distribution is defined as a discrete frequency distribution that gives the probability of the number of\n",
    "independent events that occur in the fixed time.\n",
    "\n",
    "In statistics,a Poisson distribution is a probability distribution that is used to show how many times an event is likely \n",
    "to occur over a specified period.The poisson distribution is a discrete function ,meaning that the variable can only take \n",
    "specific values in a (potentially infinite) list. "
   ]
  },
  {
   "cell_type": "code",
   "execution_count": null,
   "metadata": {},
   "outputs": [],
   "source": [
    "10. Define covariance."
   ]
  },
  {
   "cell_type": "code",
   "execution_count": null,
   "metadata": {},
   "outputs": [],
   "source": [
    "Covaiance is a measure of how much two random variables vary together.It's similar to variance,but where variance tells\n",
    "you how a single variable varies,covariance tells you how two variables vary together."
   ]
  },
  {
   "cell_type": "code",
   "execution_count": null,
   "metadata": {},
   "outputs": [],
   "source": [
    "11. Define correlation."
   ]
  },
  {
   "cell_type": "code",
   "execution_count": null,
   "metadata": {},
   "outputs": [],
   "source": [
    "Correlation explains how one or more variables are related to eachother.These variables can be input data features which\n",
    "have been used to forecast our target variable.It's a bi-variate analysis measure which describes the association between\n",
    "differrent variables."
   ]
  },
  {
   "cell_type": "code",
   "execution_count": null,
   "metadata": {},
   "outputs": [],
   "source": [
    "12. Define sampling with replacement. Give example."
   ]
  },
  {
   "cell_type": "code",
   "execution_count": null,
   "metadata": {},
   "outputs": [],
   "source": [
    "If you sample with replacement, you would choose one person's name, put that person's name back in the hat, and then choose\n",
    "another name. The possibilities for your two-name sample are: John, John. John, Jack."
   ]
  },
  {
   "cell_type": "code",
   "execution_count": null,
   "metadata": {},
   "outputs": [],
   "source": [
    "13. What is sampling without replacement? Give example."
   ]
  },
  {
   "cell_type": "code",
   "execution_count": null,
   "metadata": {},
   "outputs": [],
   "source": [
    "In sampling without replacement ,each sample unit of the population has only one chance too be selected in the sample.For \n",
    "exemple, if one draws a simple random sample such that no unit occurs more than one time in the sample ,the sample is drawn\n",
    "without replacement."
   ]
  },
  {
   "cell_type": "code",
   "execution_count": null,
   "metadata": {},
   "outputs": [],
   "source": [
    "14. What is hypothesis? Give example."
   ]
  },
  {
   "cell_type": "code",
   "execution_count": null,
   "metadata": {},
   "outputs": [],
   "source": [
    "A simple hypothesis might predict a causal relationship between two variables, meaning that one has an effect on the other.\n",
    "Here's an example: More hours spent studying for an exam result in higher grades. Hours spent studying, in this statement,\n",
    "is the independent variable and grades is the dependent variable."
   ]
  },
  {
   "cell_type": "code",
   "execution_count": null,
   "metadata": {},
   "outputs": [],
   "source": []
  }
 ],
 "metadata": {
  "kernelspec": {
   "display_name": "Python 3",
   "language": "python",
   "name": "python3"
  },
  "language_info": {
   "codemirror_mode": {
    "name": "ipython",
    "version": 3
   },
   "file_extension": ".py",
   "mimetype": "text/x-python",
   "name": "python",
   "nbconvert_exporter": "python",
   "pygments_lexer": "ipython3",
   "version": "3.8.3"
  }
 },
 "nbformat": 4,
 "nbformat_minor": 4
}
