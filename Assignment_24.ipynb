{
 "cells": [
  {
   "cell_type": "code",
   "execution_count": null,
   "metadata": {},
   "outputs": [],
   "source": [
    "1. What is the relationship between def statements and lambda expressions ?"
   ]
  },
  {
   "cell_type": "code",
   "execution_count": null,
   "metadata": {},
   "outputs": [],
   "source": [
    "The def keyword is used to define normal functions, while the lambda keyword is used to define anonymous functions. They \n",
    "are,however,limited to a single line of expression."
   ]
  },
  {
   "cell_type": "code",
   "execution_count": null,
   "metadata": {},
   "outputs": [],
   "source": [
    "2. What is the benefit of lambda?"
   ]
  },
  {
   "cell_type": "code",
   "execution_count": null,
   "metadata": {},
   "outputs": [],
   "source": [
    "Lambda helps you use a function only once, and hence, avoids cluttering up the code with function definitions. In short, \n",
    "Python's lambda keyword lets you define a function in a single line of code and use it immediately."
   ]
  },
  {
   "cell_type": "code",
   "execution_count": null,
   "metadata": {},
   "outputs": [],
   "source": [
    "3. Compare and contrast map, filter, and reduce."
   ]
  },
  {
   "cell_type": "code",
   "execution_count": null,
   "metadata": {},
   "outputs": [],
   "source": [
    "reduce() works differently than map() and filter() . It does not return a new list based on the function and iterable \n",
    "we've passed. Instead, it returns a single value. Also, in Python 3 reduce() isn't a built-in function anymore, and it can \n",
    "be found in the functools module.\n",
    "\n",
    "Python's reduce() function doesn't return a new sequence like map() and filter(). Instead, it returns a single value. The \n",
    "syntax is similar to the other two functions: reduce() applies the function to the elements of the sequence, from left to \n",
    "right, starting with the first two elements in the sequence."
   ]
  },
  {
   "cell_type": "code",
   "execution_count": null,
   "metadata": {},
   "outputs": [],
   "source": [
    "4. What are function annotations, and how are they used?"
   ]
  },
  {
   "cell_type": "code",
   "execution_count": null,
   "metadata": {},
   "outputs": [],
   "source": [
    "Function annotations are some random expressions which are written with the functions, and they are evaluated at compile \n",
    "time. They do not exist at run time, and there is no meaning of these expressions to python. They are used and interpreted \n",
    "by a third party or external python libraries."
   ]
  },
  {
   "cell_type": "code",
   "execution_count": null,
   "metadata": {},
   "outputs": [],
   "source": [
    "5. What are recursive functions, and how are they used?"
   ]
  },
  {
   "cell_type": "code",
   "execution_count": null,
   "metadata": {},
   "outputs": [],
   "source": [
    "Recursive functions are functions that calls itself. It is always made up of 2 portions, the base case and the recursive \n",
    "case. The base case is the condition to stop the recursion. The recursive case is the part where the function calls on \n",
    "itself."
   ]
  },
  {
   "cell_type": "code",
   "execution_count": null,
   "metadata": {},
   "outputs": [],
   "source": [
    "6. What are some general design guidelines for coding functions?"
   ]
  },
  {
   "cell_type": "code",
   "execution_count": null,
   "metadata": {},
   "outputs": [],
   "source": [
    "Some general design guidelines for coding functions are :\n",
    "-> Use a tab for indentation. ...\n",
    "-> Pythons' default UTF-8 or ASCII encoding. ...\n",
    "-> Using docstrings. ...\n",
    "-> Don't write more than 79 characters in a line. ...\n",
    "-> Using spaces. ...\n",
    "-> Naming Variables, Constants, Classes and Functions."
   ]
  },
  {
   "cell_type": "code",
   "execution_count": null,
   "metadata": {},
   "outputs": [],
   "source": [
    "7. Name three or more ways that functions can communicate results to a caller."
   ]
  },
  {
   "cell_type": "code",
   "execution_count": null,
   "metadata": {},
   "outputs": [],
   "source": [
    "There are three types of functions in Python: Built-in functions, such as help() to ask for help, min() to get the minimum\n",
    "value, print() to print an object to the terminal,… You can find an overview with more of these functions here."
   ]
  },
  {
   "cell_type": "code",
   "execution_count": null,
   "metadata": {},
   "outputs": [],
   "source": []
  }
 ],
 "metadata": {
  "kernelspec": {
   "display_name": "Python 3",
   "language": "python",
   "name": "python3"
  },
  "language_info": {
   "codemirror_mode": {
    "name": "ipython",
    "version": 3
   },
   "file_extension": ".py",
   "mimetype": "text/x-python",
   "name": "python",
   "nbconvert_exporter": "python",
   "pygments_lexer": "ipython3",
   "version": "3.8.3"
  }
 },
 "nbformat": 4,
 "nbformat_minor": 4
}
