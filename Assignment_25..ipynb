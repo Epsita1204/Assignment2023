{
 "cells": [
  {
   "cell_type": "code",
   "execution_count": null,
   "metadata": {},
   "outputs": [],
   "source": [
    "Q1. What is the distinction between a numpy array and a pandas data frame? Is there a way to convert between the two if \n",
    "there is?"
   ]
  },
  {
   "cell_type": "code",
   "execution_count": null,
   "metadata": {},
   "outputs": [],
   "source": [
    "NumPy library provides objects for multi-dimensional arrays, whereas Pandas is capable of offering an in-memory 2d table \n",
    "object called DataFrame. NumPy consumes less memory as compared to Pandas. Indexing of the Series objects is quite slow \n",
    "as compared to NumPy arrays."
   ]
  },
  {
   "cell_type": "code",
   "execution_count": null,
   "metadata": {},
   "outputs": [],
   "source": [
    "Q2. What can go wrong when an user enters in a stock-ticker symbol, and how do you handle it?"
   ]
  },
  {
   "cell_type": "code",
   "execution_count": null,
   "metadata": {},
   "outputs": [],
   "source": [
    "There are several things that could go wrong when an user enters in a stock-ticker symbol,including:\n",
    "1.Invalid or incorrect ticker symbol\n",
    "2.Incorrect formatting\n",
    "3.Connection error\n",
    "To handle these errors in Python,you can use exception handling techniques.For example:\n",
    "1.If the ticker symbol is invalid or not recognized ,you can raise an exception and handle it with a try/except block.\n",
    "2.If the ticker symbol is entered in incorrect format ,you can use a regular expression to validate it and raise an \n",
    "exception if it is not in the correct format.\n",
    "3.If there is a connection erre,you can catch the exception and display an appropriate message to the user."
   ]
  },
  {
   "cell_type": "code",
   "execution_count": null,
   "metadata": {},
   "outputs": [],
   "source": [
    "Q3. Identify some of the plotting techniques that are used to produce a stock-market chart."
   ]
  },
  {
   "cell_type": "code",
   "execution_count": null,
   "metadata": {},
   "outputs": [],
   "source": [
    "1.Line Chart:A line chart is the most common plotting technique used in the stock market charts.It represents the stock \n",
    "price as a continuous line over the period of time.\n",
    "2.Bar Chart :A bar chart is similar to a line chart but represents the stock price and volume as a set of vertical bars.\n",
    "3.Heatmap :A heatmap is used to show the stock price and volume data as a color-coded grid of cells.\n",
    "    "
   ]
  },
  {
   "cell_type": "code",
   "execution_count": null,
   "metadata": {},
   "outputs": [],
   "source": [
    "Q4. Why is it essential to print a legend on a stock market chart?"
   ]
  },
  {
   "cell_type": "code",
   "execution_count": null,
   "metadata": {},
   "outputs": [],
   "source": [
    "By default, each plot of a Stock chart has a legend, its items representing the series on the plot. In addition, the \n",
    "legend displays information about the points that are currently hovered over or, if none are hovered over, about the last\n",
    "points shown on the plot."
   ]
  },
  {
   "cell_type": "code",
   "execution_count": null,
   "metadata": {},
   "outputs": [],
   "source": [
    "Q5. What is the best way to limit the length of a pandas data frame to less than a year?"
   ]
  },
  {
   "cell_type": "code",
   "execution_count": null,
   "metadata": {},
   "outputs": [],
   "source": [
    "To limit the length of a pandas data frame to less than a year in Python, you can filter the DataFrame by selecting only \n",
    "the rows which are within a specific data range."
   ]
  },
  {
   "cell_type": "code",
   "execution_count": null,
   "metadata": {},
   "outputs": [],
   "source": [
    "Q6. What is the definition of a 180-day moving average?"
   ]
  },
  {
   "cell_type": "code",
   "execution_count": null,
   "metadata": {},
   "outputs": [],
   "source": [
    "A 180 day moving average in Python is the average of the prices or values of a dataset over the previous 180 days,updated \n",
    "everyday.It is a way of smoothing out the fluctuations in the data and identifying the underlying long-termed trend."
   ]
  },
  {
   "cell_type": "code",
   "execution_count": null,
   "metadata": {},
   "outputs": [],
   "source": [
    "Q7. Did the chapter's final example use \"indirect\" importing? If so, how exactly do you do it?"
   ]
  },
  {
   "cell_type": "code",
   "execution_count": null,
   "metadata": {},
   "outputs": [],
   "source": [
    "Indirect importing is when a module is imported into a program from another module.This is done by importing the module \n",
    "that contains the desired module using the import statement."
   ]
  },
  {
   "cell_type": "code",
   "execution_count": null,
   "metadata": {},
   "outputs": [],
   "source": []
  }
 ],
 "metadata": {
  "kernelspec": {
   "display_name": "Python 3",
   "language": "python",
   "name": "python3"
  },
  "language_info": {
   "codemirror_mode": {
    "name": "ipython",
    "version": 3
   },
   "file_extension": ".py",
   "mimetype": "text/x-python",
   "name": "python",
   "nbconvert_exporter": "python",
   "pygments_lexer": "ipython3",
   "version": "3.8.3"
  }
 },
 "nbformat": 4,
 "nbformat_minor": 4
}
