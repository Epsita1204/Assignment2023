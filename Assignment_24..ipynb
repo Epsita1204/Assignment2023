{
 "cells": [
  {
   "cell_type": "code",
   "execution_count": null,
   "metadata": {},
   "outputs": [],
   "source": [
    "Q1. Is it permissible to use several import statements to import the same module? What would the goal be? Can you think of\n",
    "a situation where it would be beneficial?"
   ]
  },
  {
   "cell_type": "code",
   "execution_count": null,
   "metadata": {},
   "outputs": [],
   "source": [
    "The module is only loaded the first time the import statement is executed and there is no performance loss by importing \n",
    "it again.\n",
    "Any duplicate import statement for the same module in the same program is ignored by Python."
   ]
  },
  {
   "cell_type": "code",
   "execution_count": null,
   "metadata": {},
   "outputs": [],
   "source": [
    "Q2. What are some of a module's characteristics? (Name at least one.)"
   ]
  },
  {
   "cell_type": "code",
   "execution_count": null,
   "metadata": {},
   "outputs": [],
   "source": [
    "1.Modules contain instructions, processing logic, and data.\n",
    "2.Modules can be separately compiled and stored in a library.\n",
    "3.Modules can be included in a program.\n",
    "4.Module segments can be used by invoking a name and some parameters.\n",
    "5.Module segments can be used by other modules."
   ]
  },
  {
   "cell_type": "code",
   "execution_count": null,
   "metadata": {},
   "outputs": [],
   "source": [
    "Q3. Circular importing, such as when two modules import each other, can lead to dependencies and bugs that aren't visible. \n",
    "How can you go about creating a program that avoids mutual importing?"
   ]
  },
  {
   "cell_type": "code",
   "execution_count": null,
   "metadata": {},
   "outputs": [],
   "source": [
    "1.Refactor the code.\n",
    "2.Move imports to the buttom\n",
    "3.Use the import statement\n",
    "4.Use a mediator\n",
    "5.Use a third-party package"
   ]
  },
  {
   "cell_type": "code",
   "execution_count": null,
   "metadata": {},
   "outputs": [],
   "source": [
    "Q4. Why is _ _all_ _ in Python?"
   ]
  },
  {
   "cell_type": "code",
   "execution_count": null,
   "metadata": {},
   "outputs": [],
   "source": [
    "__all__ is used to document the public API of a Python module. Although it is optional, __all__ should be used."
   ]
  },
  {
   "cell_type": "code",
   "execution_count": null,
   "metadata": {},
   "outputs": [],
   "source": [
    "Q5. In what situation is it useful to refer to the _ _name_ _ attribute or the string '_ _main_ _'?"
   ]
  },
  {
   "cell_type": "code",
   "execution_count": null,
   "metadata": {},
   "outputs": [],
   "source": [
    "Python files can function as independent applications or as reusable modules. If the file was executed directly, without \n",
    "being imported, then the statement \"if __name__ == \"main\" is used to run some code.\n"
   ]
  },
  {
   "cell_type": "code",
   "execution_count": null,
   "metadata": {},
   "outputs": [],
   "source": [
    "Q6. What are some of the benefits of attaching a program counter to the RPN interpreter application, which interprets an\n",
    "RPN script line by line?"
   ]
  },
  {
   "cell_type": "code",
   "execution_count": null,
   "metadata": {},
   "outputs": [],
   "source": [
    "1.Improved performance:By attaching a program counter to the RPN interpreter,the interpreter can more efficiently track the\n",
    "current line being executed and can quickly move to the next line in the script ,therebyimproving performance.\n",
    "2.Error tracking:With a program counter in place,it is easier to track and identify errors in the script,as the \n",
    "interpreter can pinpoint the exact line where an error occurred and flag it accordingly.\n",
    "3.Debugging:Debugging RPN scripts can be a complex process,but with a program counter in place,it becomes easier to \n",
    "isolate and debug errors ,as the interpreter can step through the script line by line."
   ]
  },
  {
   "cell_type": "code",
   "execution_count": null,
   "metadata": {},
   "outputs": [],
   "source": [
    "Q7. What are the minimum expressions or statements (or both) that you'd need to render a basic programming language like \n",
    "RPN primitive but complete— that is, capable of carrying out any computerised task theoretically possible?"
   ]
  },
  {
   "cell_type": "code",
   "execution_count": null,
   "metadata": {},
   "outputs": [],
   "source": [
    "A basic programming language with Reserve Polish Notation(RPN) would need the following minimun expressions or statements:\n",
    "1.Number and variable assignment\n",
    "2.Operators\n",
    "3.Conditionals\n",
    "4.Loops\n",
    "5.Stack operations\n",
    "6.Input/output\n",
    "7.Functions\n",
    "8.Libraries\n",
    "With these expressions and statements,a RPN-based programming language can perform any computerized task that is \n",
    "theoretically possible in Python."
   ]
  }
 ],
 "metadata": {
  "kernelspec": {
   "display_name": "Python 3",
   "language": "python",
   "name": "python3"
  },
  "language_info": {
   "codemirror_mode": {
    "name": "ipython",
    "version": 3
   },
   "file_extension": ".py",
   "mimetype": "text/x-python",
   "name": "python",
   "nbconvert_exporter": "python",
   "pygments_lexer": "ipython3",
   "version": "3.8.3"
  }
 },
 "nbformat": 4,
 "nbformat_minor": 4
}
