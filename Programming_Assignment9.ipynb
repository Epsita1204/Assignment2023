{
 "cells": [
  {
   "cell_type": "code",
   "execution_count": null,
   "metadata": {},
   "outputs": [],
   "source": [
    "1. Write a Python program to check if the given number is a Disarium Number?"
   ]
  },
  {
   "cell_type": "code",
   "execution_count": 1,
   "metadata": {},
   "outputs": [
    {
     "name": "stdout",
     "output_type": "stream",
     "text": [
      "Enter a no:89\n",
      "89\n",
      "89 is a Disarium no\n"
     ]
    }
   ],
   "source": [
    "n=int(input(\"Enter a no:\"))\n",
    "length=len(str(n))\n",
    "sum=0\n",
    "temp=n\n",
    "a=0\n",
    "while temp>0:\n",
    "    a=temp%10\n",
    "    sum=sum+int(a**length)\n",
    "    temp=temp//10\n",
    "    length=length-1\n",
    "print(sum)\n",
    "if (sum==n):\n",
    "    print(n,'is a Disarium no')\n",
    "else:\n",
    "    print(n,'not a Disarium no')"
   ]
  },
  {
   "cell_type": "code",
   "execution_count": null,
   "metadata": {},
   "outputs": [],
   "source": [
    "2. Write a Python program to print all disarium numbers between 1 to 100?"
   ]
  },
  {
   "cell_type": "code",
   "execution_count": 5,
   "metadata": {},
   "outputs": [
    {
     "name": "stdout",
     "output_type": "stream",
     "text": [
      "1 2 3 4 5 6 7 8 9 89 "
     ]
    }
   ],
   "source": [
    "def check_disarium(number):\n",
    "    no_digits=0\n",
    "    num=number\n",
    "    while (num!=0):\n",
    "        no_digits=no_digits+1\n",
    "        num=num//10\n",
    "    rem=0\n",
    "    disarium_num=0\n",
    "    while (number>0):\n",
    "        rem=number%10\n",
    "        disarium_num=disarium_num+(rem**no_digits)\n",
    "        number=number//10\n",
    "        no_digits=no_digits-1\n",
    "    return disarium_num\n",
    "for i in range(1,101):\n",
    "    if check_disarium(i)==i:\n",
    "        print(i,end=\" \")\n",
    "\n",
    "        "
   ]
  },
  {
   "cell_type": "code",
   "execution_count": null,
   "metadata": {},
   "outputs": [],
   "source": [
    "3. Write a Python program to check if the given number is Happy Number?"
   ]
  },
  {
   "cell_type": "code",
   "execution_count": 2,
   "metadata": {},
   "outputs": [
    {
     "name": "stdout",
     "output_type": "stream",
     "text": [
      "Enter a no:7\n",
      "7 is happy no\n"
     ]
    }
   ],
   "source": [
    "def sumofdigit(n):\n",
    "    res=0\n",
    "    rem=0\n",
    "    while n>0:\n",
    "        rem=n%10\n",
    "        res+=rem**2\n",
    "        n//=10\n",
    "    return res\n",
    "n=int(input('Enter a no:'))\n",
    "result=n\n",
    "while result!=1 and result!=4:\n",
    "    result=sumofdigit(result)\n",
    "if result==1:\n",
    "    print(n,\"is happy no\")\n",
    "else:\n",
    "    print(n,'is not a happy no')"
   ]
  },
  {
   "cell_type": "code",
   "execution_count": null,
   "metadata": {},
   "outputs": [],
   "source": [
    "4. Write a Python program to print all happy numbers between 1 and 100?"
   ]
  },
  {
   "cell_type": "code",
   "execution_count": 11,
   "metadata": {},
   "outputs": [
    {
     "name": "stdout",
     "output_type": "stream",
     "text": [
      "1 7 10 13 19 23 28 31 32 44 49 68 70 79 82 86 91 94 97 100 "
     ]
    }
   ],
   "source": [
    "def sumofdigit(n):\n",
    "    res=0\n",
    "    rem=0\n",
    "    while n>0:\n",
    "        rem=n%10\n",
    "        res+=rem**2\n",
    "        n//=10\n",
    "    return res\n",
    "    result=n\n",
    "    while result!=1 and result!=4:\n",
    "        result=sumofdigit(result)\n",
    "for i in range(1,101):\n",
    "    result=i\n",
    "    while result!=1 and result!=4:\n",
    "        result=sumofdigit(result)\n",
    "    if result==1:\n",
    "        print(i ,end=\" \")"
   ]
  },
  {
   "cell_type": "code",
   "execution_count": null,
   "metadata": {},
   "outputs": [],
   "source": [
    "5. Write a Python program to determine whether the given number is a Harshad Number?"
   ]
  },
  {
   "cell_type": "code",
   "execution_count": 22,
   "metadata": {},
   "outputs": [
    {
     "name": "stdout",
     "output_type": "stream",
     "text": [
      "Enter a no:153\n",
      "153 is a Harshad Number\n"
     ]
    }
   ],
   "source": [
    "n=int(input('Enter a no:'))\n",
    "num=n\n",
    "digit_sum=0\n",
    "while n:\n",
    "    digit_sum+=num%10\n",
    "    n//=10\n",
    "if num%digit_sum==0:\n",
    "    print(num, \"is a Harshad Number\")\n",
    "else:\n",
    "    print(num, \"is not a Harshad Number\")\n",
    "    "
   ]
  },
  {
   "cell_type": "code",
   "execution_count": null,
   "metadata": {},
   "outputs": [],
   "source": [
    "6. Write a Python program to print all pronic numbers between 1 and 100?"
   ]
  },
  {
   "cell_type": "code",
   "execution_count": 2,
   "metadata": {},
   "outputs": [
    {
     "name": "stdout",
     "output_type": "stream",
     "text": [
      "2 6 12 20 30 42 56 72 90 "
     ]
    }
   ],
   "source": [
    "def checkPronic(Number):\n",
    "    i = 0\n",
    "    flag = 0\n",
    "    while i <= Number:\n",
    "        if Number == i * (i + 1):\n",
    "            flag = 1\n",
    "            break\n",
    "        i = i + 1\n",
    "    return flag\n",
    "for i in range(1,101):\n",
    "    if(checkPronic(i) == 1):\n",
    "        print(i, end = ' ')"
   ]
  },
  {
   "cell_type": "code",
   "execution_count": null,
   "metadata": {},
   "outputs": [],
   "source": []
  }
 ],
 "metadata": {
  "kernelspec": {
   "display_name": "Python 3",
   "language": "python",
   "name": "python3"
  },
  "language_info": {
   "codemirror_mode": {
    "name": "ipython",
    "version": 3
   },
   "file_extension": ".py",
   "mimetype": "text/x-python",
   "name": "python",
   "nbconvert_exporter": "python",
   "pygments_lexer": "ipython3",
   "version": "3.8.3"
  }
 },
 "nbformat": 4,
 "nbformat_minor": 4
}
