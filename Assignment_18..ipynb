{
 "cells": [
  {
   "cell_type": "code",
   "execution_count": null,
   "metadata": {},
   "outputs": [],
   "source": [
    "Q1. Describe the differences between text and binary files in a single paragraph."
   ]
  },
  {
   "cell_type": "code",
   "execution_count": null,
   "metadata": {},
   "outputs": [],
   "source": [
    "Text files are used to store data more user friendly. Binary files are used to store data more compactly. In the text \n",
    "file, a special character whose ASCII value is 26 inserted after the last character to mark the end of file. In the binary \n",
    "file no such character is present."
   ]
  },
  {
   "cell_type": "code",
   "execution_count": null,
   "metadata": {},
   "outputs": [],
   "source": [
    "Q2. What are some scenarios where using text files will be the better option? When would you like to use binary files \n",
    "instead of text files?"
   ]
  },
  {
   "cell_type": "code",
   "execution_count": null,
   "metadata": {},
   "outputs": [],
   "source": [
    "Advantages of text files include small size and versatility. Kilobytes or megabytes smaller than the same data stored in\n",
    "other formats, they can be rapidly and massively exchanged via email or disk. Most can be opened on computers running \n",
    "diverse operating systems, using very basic software.\n",
    "\n",
    "One of the advantages of binary files is that they are more efficient.In addition, binary formats also offer advantages \n",
    "in terms of speed of access.\n"
   ]
  },
  {
   "cell_type": "code",
   "execution_count": null,
   "metadata": {},
   "outputs": [],
   "source": [
    "Q3. What are some of the issues with using binary operations to read and write a Python integer directly to disc?"
   ]
  },
  {
   "cell_type": "code",
   "execution_count": null,
   "metadata": {},
   "outputs": [],
   "source": [
    "Using binary operations to read and write a Python integer directly to disc can result in several issues:\n",
    "1.Endianness\n",
    "2.File format compatibility\n",
    "3.Portability and saclability\n",
    "4.Security\n",
    "It is recommended to use a standardized file format or data serialization tool to read and write data to disc in a way \n",
    "that is portable,scalable,and secure.Examples include JSON,CSV, or a database."
   ]
  },
  {
   "cell_type": "code",
   "execution_count": null,
   "metadata": {},
   "outputs": [],
   "source": [
    "Q4. Describe a benefit of using the with keyword instead of explicitly opening a file."
   ]
  },
  {
   "cell_type": "code",
   "execution_count": null,
   "metadata": {},
   "outputs": [],
   "source": [
    "When you use with statement with open function, you do not need to close the file at the end, because with would \n",
    "automatically close it for you. This PEP adds a new statement \" with \" to the Python language to make it possible to \n",
    "factor out standard uses of try/finally statements."
   ]
  },
  {
   "cell_type": "code",
   "execution_count": null,
   "metadata": {},
   "outputs": [],
   "source": [
    "Q5. Does Python have the trailing newline while reading a line of text? Does Python append a newline when you write a line \n",
    "of text?"
   ]
  },
  {
   "cell_type": "code",
   "execution_count": null,
   "metadata": {},
   "outputs": [],
   "source": [
    "Python file method readline()reads one entire line from the file. A trailing newline character is kept in the string.\n",
    "In Python, the new line character “\\n” is used to create a new line. When inserted in a string all the characters after \n",
    "the character are added to a new line."
   ]
  },
  {
   "cell_type": "code",
   "execution_count": null,
   "metadata": {},
   "outputs": [],
   "source": [
    "Q6. What file operations enable for random-access operation?"
   ]
  },
  {
   "cell_type": "code",
   "execution_count": null,
   "metadata": {},
   "outputs": [],
   "source": [
    "Python Random choice() Method\n",
    "The choice() method returns a randomly selected element from the specified sequence."
   ]
  },
  {
   "cell_type": "code",
   "execution_count": null,
   "metadata": {},
   "outputs": [],
   "source": [
    "Q7. When do you think you'll use the struct package the most?"
   ]
  },
  {
   "cell_type": "code",
   "execution_count": null,
   "metadata": {},
   "outputs": [],
   "source": [
    "What this means is that users can parse binary files of data stored in C structs in Python. It is used mostly for handling \n",
    "binary data stored in files or from network connections, among other sources."
   ]
  },
  {
   "cell_type": "code",
   "execution_count": null,
   "metadata": {},
   "outputs": [],
   "source": [
    "Q8. When is pickling the best option?"
   ]
  },
  {
   "cell_type": "code",
   "execution_count": null,
   "metadata": {},
   "outputs": [],
   "source": [
    "Pickle in Python is primarily used in serializing and deserializing a Python object structure."
   ]
  },
  {
   "cell_type": "code",
   "execution_count": null,
   "metadata": {},
   "outputs": [],
   "source": [
    "Q9. When will it be best to use the shelve package?"
   ]
  },
  {
   "cell_type": "code",
   "execution_count": null,
   "metadata": {},
   "outputs": [],
   "source": [
    "The shelve module in Python's standard library is a simple yet effective tool for persistent data storage when using a \n",
    "relational database solution is not required. The shelf object defined in this module is dictionary-like object which is \n",
    "persistently stored in a disk file."
   ]
  },
  {
   "cell_type": "code",
   "execution_count": null,
   "metadata": {},
   "outputs": [],
   "source": [
    "Q10. What is a special restriction when using the shelve package, as opposed to using other data dictionaries?"
   ]
  },
  {
   "cell_type": "code",
   "execution_count": null,
   "metadata": {},
   "outputs": [],
   "source": [
    "The shelf dictionary has certain restrictions. Only string data type can be used as key in this special dictionary object,\n",
    "whereas any picklable Python object can be used as value."
   ]
  },
  {
   "cell_type": "code",
   "execution_count": null,
   "metadata": {},
   "outputs": [],
   "source": []
  }
 ],
 "metadata": {
  "kernelspec": {
   "display_name": "Python 3",
   "language": "python",
   "name": "python3"
  },
  "language_info": {
   "codemirror_mode": {
    "name": "ipython",
    "version": 3
   },
   "file_extension": ".py",
   "mimetype": "text/x-python",
   "name": "python",
   "nbconvert_exporter": "python",
   "pygments_lexer": "ipython3",
   "version": "3.8.3"
  }
 },
 "nbformat": 4,
 "nbformat_minor": 4
}
