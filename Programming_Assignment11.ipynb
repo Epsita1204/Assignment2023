{
 "cells": [
  {
   "cell_type": "code",
   "execution_count": null,
   "metadata": {},
   "outputs": [],
   "source": [
    "1. Write a Python program to find words which are greater than given length k?"
   ]
  },
  {
   "cell_type": "code",
   "execution_count": 9,
   "metadata": {},
   "outputs": [
    {
     "name": "stdout",
     "output_type": "stream",
     "text": [
      "Enter the length :6\n",
      "oriented 8\n",
      "programming 11\n",
      "language 8\n"
     ]
    }
   ],
   "source": [
    "s='Python is a high level object oriented programming language'\n",
    "x=s.split()\n",
    "k=int(input('Enter the length :'))\n",
    "for i in x:\n",
    "    if len(i)>k:\n",
    "        print(i, len(i))"
   ]
  },
  {
   "cell_type": "code",
   "execution_count": null,
   "metadata": {},
   "outputs": [],
   "source": [
    "2. Write a Python program for removing i-th character from a string?"
   ]
  },
  {
   "cell_type": "code",
   "execution_count": 12,
   "metadata": {},
   "outputs": [
    {
     "name": "stdout",
     "output_type": "stream",
     "text": [
      "Enter the no:5\n",
      "Welcoe to python\n"
     ]
    }
   ],
   "source": [
    "def remove(string,i):\n",
    "    a=string[:i]\n",
    "    b=string[i+1:]\n",
    "    return a+b\n",
    "string=\"Welcome to python\"\n",
    "i=int(input('Enter the no:'))\n",
    "print(remove(string,i))"
   ]
  },
  {
   "cell_type": "code",
   "execution_count": null,
   "metadata": {},
   "outputs": [],
   "source": [
    "3. Write a Python program to split and join a string?"
   ]
  },
  {
   "cell_type": "code",
   "execution_count": 14,
   "metadata": {},
   "outputs": [
    {
     "name": "stdout",
     "output_type": "stream",
     "text": [
      "['Python', 'is', 'a', 'high', 'level', 'object', 'oriented', 'programming', 'language']\n"
     ]
    },
    {
     "data": {
      "text/plain": [
       "'P*y*t*h*o*n* *i*s* *a* *h*i*g*h* *l*e*v*e*l* *o*b*j*e*c*t* *o*r*i*e*n*t*e*d* *p*r*o*g*r*a*m*m*i*n*g* *l*a*n*g*u*a*g*e'"
      ]
     },
     "execution_count": 14,
     "metadata": {},
     "output_type": "execute_result"
    }
   ],
   "source": [
    "s='Python is a high level object oriented programming language'\n",
    "x=s.split()\n",
    "print(x)\n",
    "\"*\".join(s)"
   ]
  },
  {
   "cell_type": "code",
   "execution_count": null,
   "metadata": {},
   "outputs": [],
   "source": [
    "4. Write a Python to check if a given string is binary string or not?"
   ]
  },
  {
   "cell_type": "code",
   "execution_count": 15,
   "metadata": {},
   "outputs": [
    {
     "name": "stdout",
     "output_type": "stream",
     "text": [
      "StringA is a binary string\n",
      "StringB is not a binary string\n"
     ]
    }
   ],
   "source": [
    "stringA='0110101010111'\n",
    "b={'0','1'}\n",
    "t=set(stringA)\n",
    "if b==t or t=={'0'} or t=={'1'}:\n",
    "    print('StringA is a binary string')\n",
    "else:\n",
    "    print('StringA is not a binary string')\n",
    "stringB='0120101010111'\n",
    "u=set(stringB)\n",
    "if b==u or u=={'0'} or u=={'1'}:\n",
    "    print(\"StringB is a binary string\")\n",
    "else:\n",
    "    print(\"StringB is not a binary string\")\n",
    "    "
   ]
  },
  {
   "cell_type": "code",
   "execution_count": null,
   "metadata": {},
   "outputs": [],
   "source": [
    "5. Write a Python program to find uncommon words from two Strings?"
   ]
  },
  {
   "cell_type": "code",
   "execution_count": 18,
   "metadata": {},
   "outputs": [
    {
     "name": "stdout",
     "output_type": "stream",
     "text": [
      "['Python', 'language', 'am', 'programming', 'object', 'level', 'oriented', 'high', 'i', 'girl', 'is', 'good']\n"
     ]
    }
   ],
   "source": [
    "def uncommonwords(A,B):\n",
    "    A=A.split()\n",
    "    B=B.split()\n",
    "    x=[]\n",
    "    for i in A:\n",
    "        if i not in B:\n",
    "            x.append(i)\n",
    "    for i in B:\n",
    "        if i not in A:\n",
    "            x.append(i)\n",
    "    x=list(set(x))\n",
    "    return x\n",
    "A='Python is a high level object oriented programming language'\n",
    "B='i am a good girl'\n",
    "print(uncommonwords(A,B))"
   ]
  },
  {
   "cell_type": "code",
   "execution_count": null,
   "metadata": {},
   "outputs": [],
   "source": [
    "6. Write a Python to find all duplicate characters in string?"
   ]
  },
  {
   "cell_type": "code",
   "execution_count": 19,
   "metadata": {},
   "outputs": [
    {
     "name": "stdout",
     "output_type": "stream",
     "text": [
      "['g', 'e', 'k', 's']\n"
     ]
    }
   ],
   "source": [
    "def duplicate_characters(string):\n",
    "    chars={}\n",
    "    for char in string:\n",
    "        if char not in chars:\n",
    "            chars[char]=1\n",
    "        else:\n",
    "            chars[char]+=1\n",
    "    duplicates=[]\n",
    "    for char,count in chars.items():\n",
    "        if count>1:\n",
    "            duplicates.append(char)\n",
    "    return duplicates\n",
    "print(duplicate_characters(\"geeksforgeeks\"))"
   ]
  },
  {
   "cell_type": "code",
   "execution_count": null,
   "metadata": {},
   "outputs": [],
   "source": [
    "7. Write a Python Program to check if a string contains any special character?"
   ]
  },
  {
   "cell_type": "code",
   "execution_count": 20,
   "metadata": {},
   "outputs": [
    {
     "name": "stdout",
     "output_type": "stream",
     "text": [
      "The string contains special characters\n"
     ]
    }
   ],
   "source": [
    "def has_special_char(s):\n",
    "    for c in s:\n",
    "        if not(c.isalpha() or c.isdigit() or c==' '):\n",
    "            return True\n",
    "    return False\n",
    "s='Welcome@topython'\n",
    "if has_special_char(s):\n",
    "    print('The string contains special characters')\n",
    "else:\n",
    "    print('The string does not contain special characters')\n",
    "    "
   ]
  },
  {
   "cell_type": "code",
   "execution_count": null,
   "metadata": {},
   "outputs": [],
   "source": []
  }
 ],
 "metadata": {
  "kernelspec": {
   "display_name": "Python 3",
   "language": "python",
   "name": "python3"
  },
  "language_info": {
   "codemirror_mode": {
    "name": "ipython",
    "version": 3
   },
   "file_extension": ".py",
   "mimetype": "text/x-python",
   "name": "python",
   "nbconvert_exporter": "python",
   "pygments_lexer": "ipython3",
   "version": "3.8.3"
  }
 },
 "nbformat": 4,
 "nbformat_minor": 4
}
