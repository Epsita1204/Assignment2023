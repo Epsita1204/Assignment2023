{
 "cells": [
  {
   "cell_type": "code",
   "execution_count": null,
   "metadata": {},
   "outputs": [],
   "source": [
    "1. Write a Python Program to Find LCM?"
   ]
  },
  {
   "cell_type": "code",
   "execution_count": 8,
   "metadata": {},
   "outputs": [
    {
     "name": "stdout",
     "output_type": "stream",
     "text": [
      "Enter the first no:12\n",
      "Enter the second no:48\n",
      "LCM of the two nos is : 48\n"
     ]
    }
   ],
   "source": [
    "a=int(input('Enter the first no:'))\n",
    "b=int(input('Enter the second no:'))\n",
    "hcf=1\n",
    "for i in range(2,a+1):\n",
    "    if(a%i==0 and b%i==0):\n",
    "        hcf=i\n",
    "lcm=int((a*b)/hcf)\n",
    "print('LCM of the two nos is :',lcm)"
   ]
  },
  {
   "cell_type": "code",
   "execution_count": null,
   "metadata": {},
   "outputs": [],
   "source": [
    "2. Write a Python Program to Find HCF?"
   ]
  },
  {
   "cell_type": "code",
   "execution_count": 9,
   "metadata": {},
   "outputs": [
    {
     "name": "stdout",
     "output_type": "stream",
     "text": [
      "Enter the first no:12\n",
      "Enter the second no:45\n",
      "HCF of the two nos is : 3\n"
     ]
    }
   ],
   "source": [
    "a=int(input('Enter the first no:'))\n",
    "b=int(input('Enter the second no:'))\n",
    "hcf=1\n",
    "for i in range(2,a+1):\n",
    "    if(a%i==0 and b%i==0):\n",
    "        hcf=i\n",
    "print('HCF of the two nos is :',hcf)"
   ]
  },
  {
   "cell_type": "code",
   "execution_count": null,
   "metadata": {},
   "outputs": [],
   "source": [
    "3. Write a Python Program to Convert Decimal to Binary, Octal and Hexadecimal?"
   ]
  },
  {
   "cell_type": "code",
   "execution_count": 5,
   "metadata": {},
   "outputs": [
    {
     "name": "stdout",
     "output_type": "stream",
     "text": [
      "Enter a no :34\n",
      "100010"
     ]
    }
   ],
   "source": [
    "#Convert Decimal to Binary\n",
    "\n",
    "def convertToBinary(n):\n",
    "    if n>1:\n",
    "        convertToBinary(n//2)\n",
    "    print(n%2,end='')\n",
    "n=int(input('Enter a no :'))\n",
    "convertToBinary(n)\n",
    "        "
   ]
  },
  {
   "cell_type": "code",
   "execution_count": 10,
   "metadata": {},
   "outputs": [
    {
     "name": "stdout",
     "output_type": "stream",
     "text": [
      "Enter a no :33\n",
      "041"
     ]
    }
   ],
   "source": [
    "#Convert Decimal to Octal\n",
    "\n",
    "\n",
    "def convertToOctal(n):\n",
    "    if n>1:\n",
    "        convertToOctal(n//8)\n",
    "    print(n%8,end='')\n",
    "n=int(input('Enter a no :'))\n",
    "convertToOctal(n)"
   ]
  },
  {
   "cell_type": "code",
   "execution_count": 12,
   "metadata": {},
   "outputs": [
    {
     "name": "stdout",
     "output_type": "stream",
     "text": [
      "Enter a no :234\n",
      "01410"
     ]
    }
   ],
   "source": [
    "#Convert Decimal to Hexadecimal\n",
    "\n",
    "\n",
    "def convertToHexadecimal(n):\n",
    "    if n>1:\n",
    "        convertToHexadecimal(n//16)\n",
    "    print(n%16,end='')\n",
    "n=int(input('Enter a no :'))\n",
    "convertToHexadecimal(n)"
   ]
  },
  {
   "cell_type": "code",
   "execution_count": 1,
   "metadata": {},
   "outputs": [
    {
     "name": "stdout",
     "output_type": "stream",
     "text": [
      "Enter a decimal no :234\n",
      "Convert Decimal To Octal : 0o352\n",
      "Convert Decimal To Hexadecimal : 0xea\n"
     ]
    }
   ],
   "source": [
    "#Convert Decimal to Octal and Hexadecinal\n",
    "n=int(input('Enter a decimal no :'))\n",
    "print('Convert Decimal To Octal :',oct(n))\n",
    "print('Convert Decimal To Hexadecimal :',hex(n))"
   ]
  },
  {
   "cell_type": "code",
   "execution_count": null,
   "metadata": {},
   "outputs": [],
   "source": [
    "4. Write a Python Program To Find ASCII value of a character?"
   ]
  },
  {
   "cell_type": "code",
   "execution_count": 13,
   "metadata": {},
   "outputs": [
    {
     "name": "stdout",
     "output_type": "stream",
     "text": [
      "Enter the character :i\n",
      "The ASCII value of i is  105\n"
     ]
    }
   ],
   "source": [
    "c=input(\"Enter the character :\")\n",
    "print(\"The ASCII value of \" + c + \" is \",ord(c))"
   ]
  },
  {
   "cell_type": "code",
   "execution_count": null,
   "metadata": {},
   "outputs": [],
   "source": [
    "5. Write a Python Program to Make a Simple Calculator with 4 basic mathematical operations?"
   ]
  },
  {
   "cell_type": "code",
   "execution_count": 18,
   "metadata": {},
   "outputs": [
    {
     "name": "stdout",
     "output_type": "stream",
     "text": [
      "First No :18\n",
      "Second No :12\n",
      "Addition= 30\n",
      "Subtraction= 6\n",
      "Multiplication= 216\n",
      "Division= 1\n"
     ]
    }
   ],
   "source": [
    "def Addition(a,b):\n",
    "    c=a+b\n",
    "    return c\n",
    "def Subtraction(a,b):\n",
    "    d=a-b\n",
    "    return d\n",
    "def Multiplication(a,b):\n",
    "    e=a*b\n",
    "    return e\n",
    "def division(a,b):\n",
    "    f=a//b\n",
    "    return f\n",
    "a=int(input('First No :'))\n",
    "b=int(input('Second No :'))\n",
    "c=Addition(a,b)\n",
    "d=Subtraction(a,b)\n",
    "e=Multiplication(a,b)\n",
    "f=division(a,b)\n",
    "print('Addition=',c)\n",
    "print('Subtraction=',d)\n",
    "print('Multiplication=',e)\n",
    "print('Division=',f)"
   ]
  },
  {
   "cell_type": "code",
   "execution_count": null,
   "metadata": {},
   "outputs": [],
   "source": []
  }
 ],
 "metadata": {
  "kernelspec": {
   "display_name": "Python 3",
   "language": "python",
   "name": "python3"
  },
  "language_info": {
   "codemirror_mode": {
    "name": "ipython",
    "version": 3
   },
   "file_extension": ".py",
   "mimetype": "text/x-python",
   "name": "python",
   "nbconvert_exporter": "python",
   "pygments_lexer": "ipython3",
   "version": "3.8.3"
  }
 },
 "nbformat": 4,
 "nbformat_minor": 4
}
