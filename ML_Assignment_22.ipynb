{
 "cells": [
  {
   "cell_type": "code",
   "execution_count": null,
   "metadata": {},
   "outputs": [],
   "source": [
    "1. Is there any way to combine five different models that have all been trained on the same training data and have all \n",
    "achieved 95 percent precision? If so, how can you go about doing it? If not, what is the reason?"
   ]
  },
  {
   "cell_type": "code",
   "execution_count": null,
   "metadata": {},
   "outputs": [],
   "source": [
    "Hybrid Model:A technique that combines two or more different machine learning models in some way.But we can't get 95 \n",
    "percent precision as all other models give different precision rate accuracy is differed. "
   ]
  },
  {
   "cell_type": "code",
   "execution_count": null,
   "metadata": {},
   "outputs": [],
   "source": [
    "2. What's the difference between hard voting classifiers and soft voting classifiers?"
   ]
  },
  {
   "cell_type": "code",
   "execution_count": null,
   "metadata": {},
   "outputs": [],
   "source": [
    "In classification problems, there are two types of voting: hard voting and soft voting. Hard voting entails picking the \n",
    "prediction with the highest number of votes, whereas soft voting entails combining the probabilities of each prediction in \n",
    "each model and picking the prediction with the highest total probability."
   ]
  },
  {
   "cell_type": "code",
   "execution_count": null,
   "metadata": {},
   "outputs": [],
   "source": [
    "3. Is it possible to distribute a bagging ensemble's training through several servers to speed up the process? Pasting\n",
    "ensembles, boosting ensembles, Random Forests, and stacking ensembles are all options."
   ]
  },
  {
   "cell_type": "code",
   "execution_count": null,
   "metadata": {},
   "outputs": [],
   "source": [
    "When sampling is performed without replacement ,it is called pasting.In other words,both approaches are similar .In both\n",
    "cases you are sampling the training data to build multiple instances of a classifier.\n",
    "Boosting is a general ensemble method that creates a strong classifier from a number of weak classifiers.This is done by \n",
    "building a model from the training data,then creating a second model that attempts to correct the errors from the first \n",
    "model.It is the best starting point for understanding boosting."
   ]
  },
  {
   "cell_type": "code",
   "execution_count": null,
   "metadata": {},
   "outputs": [],
   "source": [
    "4. What is the advantage of evaluating out of the bag?"
   ]
  },
  {
   "cell_type": "code",
   "execution_count": null,
   "metadata": {},
   "outputs": [],
   "source": [
    "The advantage of the OOB method is that it requires less computation and allows one to test the model as it is being \n",
    "trained."
   ]
  },
  {
   "cell_type": "code",
   "execution_count": null,
   "metadata": {},
   "outputs": [],
   "source": [
    "5. What distinguishes Extra-Trees from ordinary Random Forests? What good would this extra randomness do? Is it true that \n",
    "Extra-Tree Random Forests are slower or faster than normal Random Forests?"
   ]
  },
  {
   "cell_type": "code",
   "execution_count": null,
   "metadata": {},
   "outputs": [],
   "source": [
    "Random Forest uses bootstrap replicas ,that is to say,it subsamples the input data with replacement,whereas Extra Trees \n",
    "use the whole original sample.This may increase variance because bootstrapping makes it more diversified.\n",
    "\n",
    "Random Forest adds additional randomness to the model,while growing the trees.Instead of searching for the most important \n",
    "feature while splitting a node,it searches for the best feature among a random subset of features.This results in a wide \n",
    "diversity that generally results in a better model.Extra Trees is much better.\n",
    "This is beacuse instead of looking for the optimal split at each node it does it randomly.\n"
   ]
  },
  {
   "cell_type": "code",
   "execution_count": null,
   "metadata": {},
   "outputs": [],
   "source": [
    "6. Which hyperparameters and how do you tweak if your AdaBoost ensemble underfits the training data?"
   ]
  },
  {
   "cell_type": "code",
   "execution_count": null,
   "metadata": {},
   "outputs": [],
   "source": [
    "If your adaboost ensemble underfits the training data, which hyperparameters should you tweak and how? You can try \n",
    "increasing the number of estimators or reducing the regularization hyperparameters of the base estimator. You may also try \n",
    "slightly increasing the learning rate."
   ]
  },
  {
   "cell_type": "code",
   "execution_count": null,
   "metadata": {},
   "outputs": [],
   "source": [
    "7. Should you raise or decrease the learning rate if your Gradient Boosting ensemble overfits the training set?"
   ]
  },
  {
   "cell_type": "code",
   "execution_count": null,
   "metadata": {},
   "outputs": [],
   "source": [
    "If your gradient boosting ensemble overfits the training set, you should increase or decrease the learning rate.You could \n",
    "also use early stopping to find the right number of predictors(you probably have too many)"
   ]
  },
  {
   "cell_type": "code",
   "execution_count": null,
   "metadata": {},
   "outputs": [],
   "source": []
  }
 ],
 "metadata": {
  "kernelspec": {
   "display_name": "Python 3",
   "language": "python",
   "name": "python3"
  },
  "language_info": {
   "codemirror_mode": {
    "name": "ipython",
    "version": 3
   },
   "file_extension": ".py",
   "mimetype": "text/x-python",
   "name": "python",
   "nbconvert_exporter": "python",
   "pygments_lexer": "ipython3",
   "version": "3.8.3"
  }
 },
 "nbformat": 4,
 "nbformat_minor": 4
}
