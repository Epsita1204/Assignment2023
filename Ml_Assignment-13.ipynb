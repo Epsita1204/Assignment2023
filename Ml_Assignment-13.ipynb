{
 "cells": [
  {
   "cell_type": "code",
   "execution_count": null,
   "metadata": {},
   "outputs": [],
   "source": [
    "1. Provide an example of the concepts of Prior, Posterior, and Likelihood."
   ]
  },
  {
   "cell_type": "code",
   "execution_count": null,
   "metadata": {},
   "outputs": [],
   "source": [
    "Prior:Suppose we are trying to estimate the average weight of a population of adult males.Before we collect any data,our \n",
    "prior belief is that the average weight of this population is 175 pounds.\n",
    "\n",
    "Likelihood:We collect data from a sample of 100 males,and find that the average weight of this sample is 185 pounds.This \n",
    "suggests that the likelihood of the true population weight being 185 pounds is higher than the likelihood of it being 175 \n",
    "pounds.\n",
    "\n",
    "Posterior:After collecting data from our sample ,we update our prior belief and adjust it to a posterior belief that the \n",
    "average weight of the population is likely closer to 185 pounds than 175."
   ]
  },
  {
   "cell_type": "code",
   "execution_count": null,
   "metadata": {},
   "outputs": [],
   "source": [
    "2. What role does Bayes' theorem play in the concept learning principle?"
   ]
  },
  {
   "cell_type": "code",
   "execution_count": null,
   "metadata": {},
   "outputs": [],
   "source": [
    "Bayes theorem plays an important role in the concept learnng principle.It is used to calculate the probability of a concept\n",
    "given evidence.Specifically, it helps to calculate the probability of a concept belonging to a certain class given the \n",
    "evedence that it has certain properties.The probability is then used to help determine which concept is most likely to be\n",
    "the correct one.This hepls to improve the accuracy of concept learning by helping to reduce the chances of incorrect \n",
    "decisions being made."
   ]
  },
  {
   "cell_type": "code",
   "execution_count": null,
   "metadata": {},
   "outputs": [],
   "source": [
    "3. Offer an example of how the Nave Bayes classifier is used in real life."
   ]
  },
  {
   "cell_type": "code",
   "execution_count": null,
   "metadata": {},
   "outputs": [],
   "source": [
    "Naive Bayes is mostly used in real-world applications like sentiment analysis, spam filtering, recommendation systems, \n",
    "etc. They are extremely fast and easy to implement as compared to other machine learning models. However, the biggest \n",
    "drawback of Naive Bayes is the requirement for predictors to be independent."
   ]
  },
  {
   "cell_type": "code",
   "execution_count": null,
   "metadata": {},
   "outputs": [],
   "source": [
    "4. Can the Naive Bayes classifier be used on continuous numeric data? If so, how can you go about doing it?"
   ]
  },
  {
   "cell_type": "code",
   "execution_count": null,
   "metadata": {},
   "outputs": [],
   "source": [
    "Yes,the Naive Bayes classifier can be used on continuous numeric data.To do this, you have to bin the data into discrete \n",
    "intervals or categories.This can be done by defining a function that takes the numeric data and assigns it to different \n",
    "bins.Once the data is binned the Naive Bayes classifier can be used as usual."
   ]
  },
  {
   "cell_type": "code",
   "execution_count": null,
   "metadata": {},
   "outputs": [],
   "source": [
    "5. What are Bayesian Belief Networks, and how do they work? What are their applications? Are they capable of resolving a \n",
    "wide range of issues?"
   ]
  },
  {
   "cell_type": "code",
   "execution_count": null,
   "metadata": {},
   "outputs": [],
   "source": [
    "Bayesian Belief Networks are graphical models used to represent the probabilistic relationships among a set of variables.\n",
    "They are based on Bayes' theorem ,which provides a way of calculating the probability of an event ,based on prior knowledge\n",
    "of conditions that might be related to the event.Bayesian Belief Networks use directed acyclic graphs to represent\n",
    "variables and their conditional dependencies.\n",
    "\n",
    "Bayesian Belief Networks are used in a variety of applications,such as medical diagnosis ,surveillance and risk assessment.\n",
    "They can be used to model complex and uncertain scenarious ,such as the spread of a virus or the outcome of a political \n",
    "election.Bayesian Belief Networks can help to identify relationships between variables and can be used to make predictions \n",
    "about future events.\n",
    "\n",
    "Bayesian Belief Networks are capable of resolving a wide range of issues,but it is important to note that their accuracy is\n",
    "dependent on the quality of the data used to create the model.Bayesian Belief Networks can be used to solve problems in \n",
    "many different fields,including finance,economics,engineering and medicine.However,it is important to remember that they \n",
    "are not a silver bullet, and they require careful analysis and interpretation to be effective.\n"
   ]
  },
  {
   "cell_type": "code",
   "execution_count": null,
   "metadata": {},
   "outputs": [],
   "source": [
    "6. Passengers are checked in an airport screening system to see if there is an intruder. Let I be the\n",
    "random variable that indicates whether someone is an intruder I = 1) or not I = 0), and A be the\n",
    "variable that indicates alarm I = 0). If an intruder is detected with probability P(A = 1|I = 1) = 0.98\n",
    "and a non-intruder is detected with probability P(A = 1|I = 0) = 0.001, an alarm will be triggered,\n",
    "implying the error factor. The likelihood of an intruder in the passenger population is P(I = 1) =\n",
    "0.00001. What are the chances that an alarm would be triggered when an individual is actually an\n",
    "intruder?"
   ]
  },
  {
   "cell_type": "code",
   "execution_count": null,
   "metadata": {},
   "outputs": [],
   "source": [
    "Given\n",
    "P(A = 1|I = 1) = 0.98\n",
    "P(A = 1|I = 0) = 0.001\n",
    "P(I = 1) =0.00001\n",
    "P(A = 1|I = 1)=P(A=1|I=1)P(I=1)/(P(A=1|I=1)P(I=1)+P(A=1|I=0)*P(T=0))\n",
    "Or,\n",
    "0.98000001/(0.98000001+0.001*(1-0.00001))\n",
    "\n",
    "which comes out as 0.0097\n"
   ]
  },
  {
   "cell_type": "code",
   "execution_count": null,
   "metadata": {},
   "outputs": [],
   "source": [
    "7. An antibiotic resistance test (random variable T) has 1% false positives (i.e., 1% of those who are\n",
    "not immune to an antibiotic display a positive result in the test) and 5% false negatives (i.e., 1% of\n",
    "those who are not resistant to an antibiotic show a positive result in the test) (i.e. 5 percent of those\n",
    "actually resistant to an antibiotic test negative). Assume that 2% of those who were screened were\n",
    "antibiotic-resistant. Calculate the likelihood that a person who tests positive is actually immune\n",
    "(random variable D)."
   ]
  },
  {
   "cell_type": "code",
   "execution_count": null,
   "metadata": {},
   "outputs": [],
   "source": [
    "Given,\n",
    "P(Antibiotic resistant)=0.02\n",
    "P(Not antibiotic resistant)=0.98\n",
    "P(Test resulted positive|Not antibiotic resistant)=0.01\n",
    "P(Test resulted negative|Antibiotic resistant)=0.05\n",
    "For P(Antibiotic resistant|Test resulted positive)\n",
    "\n",
    "P(Test resulted positive|Antibiotic resistant)P(Antibiotic resistant)/(Test resulted positive|Antibiotic resistant)P(Antibiotic \n",
    "resistant)P(Test resulted positive|Not antibiotic resistant)P(Not antibiotic resistant)\n",
    "\n",
    "(1-0.05)0.02/((1-0.05)0.02+0.01*0.98)\n",
    "which comes out to be 0.6597\n",
    "\n",
    "\n"
   ]
  },
  {
   "cell_type": "code",
   "execution_count": null,
   "metadata": {},
   "outputs": [],
   "source": [
    "8. In order to prepare for the test, a student knows that there will be one question in the exam that\n",
    "is either form A, B, or C. The chances of getting an A, B, or C on the exam are 30 percent, 20%, and\n",
    "50 percent, respectively. During the planning, the student solved 9 of 10 type A problems, 2 of 10\n",
    "type B problems, and 6 of 10 type C problems.\n",
    "\n",
    "1. What is the likelihood that the student can solve the exam problem?\n",
    "\n",
    "2. Given the student's solution, what is the likelihood that the problem was of form A?"
   ]
  },
  {
   "cell_type": "code",
   "execution_count": null,
   "metadata": {},
   "outputs": [],
   "source": [
    "1. \n",
    "Given,\n",
    "P(A)=0.3\n",
    "P(B)=0.2\n",
    "P(C)=0.5\n",
    "P(Student solved|problem A)=0.9\n",
    "P(Student solved|problem B)=0.2\n",
    "P(Student solved|problem C)=0.6\n",
    "\n",
    "For P(Student solved problem),\n",
    "P(Student solved|problem A)P(A)+P(Student solved|problem B)P(B)+P(Student solved|problem C)P(C)\n",
    "0.9*0.3+0.2*0.2+0.6*0.5\n",
    "which comes out as 0.61\n",
    "\n",
    "\n",
    "2.\n",
    "For, P(Problem solved|problem A)P(A)/(P(Student solved problem))\n",
    "0.9*0.3/(0.61)\n",
    "which is 0.427"
   ]
  },
  {
   "cell_type": "code",
   "execution_count": null,
   "metadata": {},
   "outputs": [],
   "source": [
    "9. A bank installs a CCTV system to track and photograph incoming customers. Despite the constant\n",
    "influx of customers, we divide the timeline into 5 minute bins. There may be a customer coming into\n",
    "the bank with a 5% chance in each 5-minute time period, or there may be no customer (again, for\n",
    "simplicity, we assume that either there is 1 customer or none, not the case of multiple customers). If\n",
    "\n",
    "there is a client, the CCTV will detect them with a 99 percent probability. If there is no customer, the\n",
    "camera can take a false photograph with a 10% chance of detecting movement from other objects.\n",
    "\n",
    "1. How many customers come into the bank on a daily basis (10 hours)?\n",
    "\n",
    "2. On a daily basis, how many fake photographs (photographs taken when there is no customer) and how many missed\n",
    "photographs (photographs taken when there is a customer) are there?\n",
    "\n",
    "3. Explain likelihood that there is a customer if there is a photograph?"
   ]
  },
  {
   "cell_type": "code",
   "execution_count": null,
   "metadata": {},
   "outputs": [],
   "source": [
    "1. Given,\n",
    "P(Customer coming into the bank in each 5-minute time period)=0.05 Since each hour has 12 5-minute time period then there \n",
    "will be a total of 10*12=120 5-minute time periods per day.\n",
    "\n",
    "Therefore ,120*0.05=6 customers can come into the bank on a daily basis.\n",
    "\n",
    "2.Given,\n",
    "P(If there is no customer ,the camera takes a false photograph)=0.1\n",
    "P(If there is a client ,the CCTV will detect them )=0.99\n",
    "For fake photographs,\n",
    "(120-6)*0.1=11.4 or 11 fake photographs.\n",
    "\n",
    "For missed photographs,\n",
    "6*0.1=0.6 or 60% of the times.\n",
    "\n",
    "3. Given,\n",
    "\n",
    "P(If there is a client ,the CCTV will detect them)=0.99\n",
    "P(Customer)=0.05\n",
    "For,P(Customer is there|Photo is taken)\n",
    "0.99*0.05/((0.99*0.05)+0.1(1.0.05))\n",
    "which is 0.34"
   ]
  },
  {
   "cell_type": "code",
   "execution_count": null,
   "metadata": {},
   "outputs": [],
   "source": [
    "10. Create the conditional probability table associated with the node Won Toss in the Bayesian Belief\n",
    "network to represent the conditional independence assumptions of the Nave Bayes classifier for the\n",
    "match winning prediction problem in Section 6.4.4."
   ]
  },
  {
   "cell_type": "code",
   "execution_count": null,
   "metadata": {},
   "outputs": [],
   "source": [
    "Won Toss     P(Win)    P(Lose)\n",
    "Yes           0.6        0.4\n",
    "No            0.4        0.6"
   ]
  },
  {
   "cell_type": "code",
   "execution_count": null,
   "metadata": {},
   "outputs": [],
   "source": []
  }
 ],
 "metadata": {
  "kernelspec": {
   "display_name": "Python 3",
   "language": "python",
   "name": "python3"
  },
  "language_info": {
   "codemirror_mode": {
    "name": "ipython",
    "version": 3
   },
   "file_extension": ".py",
   "mimetype": "text/x-python",
   "name": "python",
   "nbconvert_exporter": "python",
   "pygments_lexer": "ipython3",
   "version": "3.8.3"
  }
 },
 "nbformat": 4,
 "nbformat_minor": 4
}
