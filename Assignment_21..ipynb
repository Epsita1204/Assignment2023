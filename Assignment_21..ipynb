{
 "cells": [
  {
   "cell_type": "code",
   "execution_count": null,
   "metadata": {},
   "outputs": [],
   "source": [
    "Q1. What is a probability distribution, exactly? If the values are meant to be random, how can you predict them at all?"
   ]
  },
  {
   "cell_type": "code",
   "execution_count": null,
   "metadata": {},
   "outputs": [],
   "source": [
    "A probability distribution is a list of all of the possible outcomes of a random variable, along with its corresponding \n",
    "probability values. \n",
    "A probability distribution links each outcome of a random variable or process with its probability of occurrence."
   ]
  },
  {
   "cell_type": "code",
   "execution_count": null,
   "metadata": {},
   "outputs": [],
   "source": [
    "Q2. Is there a distinction between true random numbers and pseudo-random numbers, if there is one? Why are the latter \n",
    "considered “good enough”?"
   ]
  },
  {
   "cell_type": "code",
   "execution_count": null,
   "metadata": {},
   "outputs": [],
   "source": [
    "Software-generated random numbers only are pseudorandom. They are not truly random because the computer uses an algorithm \n",
    "based on a distribution, and are not secure because they rely on deterministic, predictable algorithms.\n",
    "The main advantages of PRNGs are the rapidity and the repeatability of the pseudo-random sequences and requiring less\n",
    "memory for algorithm storage."
   ]
  },
  {
   "cell_type": "code",
   "execution_count": null,
   "metadata": {},
   "outputs": [],
   "source": [
    "Q3. What are the two main factors that influence the behaviour of a \"normal\" probability distribution?"
   ]
  },
  {
   "cell_type": "code",
   "execution_count": null,
   "metadata": {},
   "outputs": [],
   "source": [
    "The two main parameters of a (normal) distribution are the mean and standard deviation. The parameters determine the shape\n",
    "and probabilities of the distribution."
   ]
  },
  {
   "cell_type": "code",
   "execution_count": null,
   "metadata": {},
   "outputs": [],
   "source": [
    "Q4. Provide a real-life example of a normal distribution."
   ]
  },
  {
   "cell_type": "code",
   "execution_count": null,
   "metadata": {},
   "outputs": [],
   "source": [
    "The height of people is an example of normal distribution. Most of the people in a specific population are of average \n",
    "height. The number of people taller and shorter than the average height people is almost equal, and a very small number of \n",
    "people are either extremely tall or extremely short."
   ]
  },
  {
   "cell_type": "code",
   "execution_count": null,
   "metadata": {},
   "outputs": [],
   "source": [
    "Q5. In the short term, how can you expect a probability distribution to behave? What do you think will happen as the \n",
    "number of trials grows?"
   ]
  },
  {
   "cell_type": "code",
   "execution_count": null,
   "metadata": {},
   "outputs": [],
   "source": [
    "To find the expected value, E(X), or mean μ of a discrete random variable X, simply multiply each value of the random \n",
    "variable by its probability and add the products. The formula is given as E(X)=μ=∑xP(x).\n",
    "\n",
    "Taking into account the first trial, we can say that with probability 1-p the expected number of trials to the first \n",
    "success is E+1, while it is just 1 with probability p . This leads to a simple equation: E = p + (1-p)(E+1) = 1 + E(1-p)."
   ]
  },
  {
   "cell_type": "code",
   "execution_count": null,
   "metadata": {},
   "outputs": [],
   "source": [
    "Q6. What kind of object can be shuffled by using random.shuffle?"
   ]
  },
  {
   "cell_type": "code",
   "execution_count": null,
   "metadata": {},
   "outputs": [],
   "source": [
    "Since strings and tuples are immutable, using random. shuffle() on them raises a TypeError . To shuffle strings or tuples, \n",
    "use random."
   ]
  },
  {
   "cell_type": "code",
   "execution_count": null,
   "metadata": {},
   "outputs": [],
   "source": [
    "Q7. Describe the math package's general categories of functions."
   ]
  },
  {
   "cell_type": "code",
   "execution_count": null,
   "metadata": {},
   "outputs": [],
   "source": [
    "Constant Function: The polynomial function of degree zero. Linear Function: The polynomial function of degree one. \n",
    "Quadratic Function: The polynomial function of degree two. Cubic Function: The polynomial function of degree three."
   ]
  },
  {
   "cell_type": "code",
   "execution_count": null,
   "metadata": {},
   "outputs": [],
   "source": [
    "Q8. What is the relationship between exponentiation and logarithms?"
   ]
  },
  {
   "cell_type": "code",
   "execution_count": null,
   "metadata": {},
   "outputs": [],
   "source": [
    "The logarithmic function is the inverse of exponentiation, In logarithms, the power of certain numbers (typically the base\n",
    "number) is raised to obtain another number.\n"
   ]
  },
  {
   "cell_type": "code",
   "execution_count": null,
   "metadata": {},
   "outputs": [],
   "source": [
    "Q9. What are the three logarithmic functions that Python supports?"
   ]
  },
  {
   "cell_type": "code",
   "execution_count": null,
   "metadata": {},
   "outputs": [],
   "source": [
    "The following are the variants of the basic log function in Python:\n",
    "log2(x)\n",
    "log(x, Base)\n",
    "log10(x)"
   ]
  },
  {
   "cell_type": "code",
   "execution_count": null,
   "metadata": {},
   "outputs": [],
   "source": []
  }
 ],
 "metadata": {
  "kernelspec": {
   "display_name": "Python 3",
   "language": "python",
   "name": "python3"
  },
  "language_info": {
   "codemirror_mode": {
    "name": "ipython",
    "version": 3
   },
   "file_extension": ".py",
   "mimetype": "text/x-python",
   "name": "python",
   "nbconvert_exporter": "python",
   "pygments_lexer": "ipython3",
   "version": "3.8.3"
  }
 },
 "nbformat": 4,
 "nbformat_minor": 4
}
