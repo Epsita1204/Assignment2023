{
 "cells": [
  {
   "cell_type": "code",
   "execution_count": null,
   "metadata": {},
   "outputs": [],
   "source": [
    "1. Write a Python program to print \"Hello Python\"?"
   ]
  },
  {
   "cell_type": "code",
   "execution_count": 1,
   "metadata": {},
   "outputs": [
    {
     "name": "stdout",
     "output_type": "stream",
     "text": [
      "Hello Python\n"
     ]
    }
   ],
   "source": [
    "print(\"Hello Python\")"
   ]
  },
  {
   "cell_type": "code",
   "execution_count": null,
   "metadata": {},
   "outputs": [],
   "source": [
    "2. Write a Python program to do arithmetical operations addition and division.?"
   ]
  },
  {
   "cell_type": "code",
   "execution_count": 2,
   "metadata": {},
   "outputs": [
    {
     "name": "stdout",
     "output_type": "stream",
     "text": [
      "First No :50\n",
      "Second No :5\n",
      "Addition= 55\n",
      "Division= 10\n"
     ]
    }
   ],
   "source": [
    "def Addition(a,b):\n",
    "    c=a+b\n",
    "    return c\n",
    "def division(a,b):\n",
    "    d=a//b\n",
    "    return d\n",
    "a=int(input('First No :'))\n",
    "b=int(input('Second No :'))\n",
    "c=Addition(a,b)\n",
    "d=division(a,b)\n",
    "print('Addition=',c)\n",
    "print('Division=',d)"
   ]
  },
  {
   "cell_type": "code",
   "execution_count": null,
   "metadata": {},
   "outputs": [],
   "source": [
    "3. Write a Python program to find the area of a triangle?"
   ]
  },
  {
   "cell_type": "code",
   "execution_count": 7,
   "metadata": {},
   "outputs": [
    {
     "name": "stdout",
     "output_type": "stream",
     "text": [
      "Enter the first side:4\n",
      "Enter the second side:8\n",
      "Enter the third side6\n",
      "Area of a scalene triangle= 11.61895003862225\n"
     ]
    }
   ],
   "source": [
    "import math\n",
    "a=int(input('Enter the first side:'))\n",
    "b=int(input('Enter the second side:'))\n",
    "c=int(input('Enter the third side'))\n",
    "s=(a+b+c)/2\n",
    "A=math.sqrt(s*(s-a)*(s-b)*(s-c))\n",
    "print('Area of a scalene triangle=',A)"
   ]
  },
  {
   "cell_type": "code",
   "execution_count": null,
   "metadata": {},
   "outputs": [],
   "source": [
    "4. Write a Python program to swap two variables?"
   ]
  },
  {
   "cell_type": "code",
   "execution_count": 3,
   "metadata": {},
   "outputs": [
    {
     "name": "stdout",
     "output_type": "stream",
     "text": [
      "First No9\n",
      "Second No5\n",
      "Before Swap a= 9  b= 5\n",
      "after swap a= 5  b= 9\n"
     ]
    }
   ],
   "source": [
    "def swap(a,b):\n",
    "    a,b=b,a\n",
    "    print('after swap a=',a,' b=',b)\n",
    "a=int(input('First No'))\n",
    "b=int(input('Second No'))\n",
    "print('Before Swap a=',a,' b=',b)\n",
    "swap(a,b)"
   ]
  },
  {
   "cell_type": "code",
   "execution_count": null,
   "metadata": {},
   "outputs": [],
   "source": [
    "5. Write a Python program to generate a random number?"
   ]
  },
  {
   "cell_type": "code",
   "execution_count": 6,
   "metadata": {},
   "outputs": [
    {
     "name": "stdout",
     "output_type": "stream",
     "text": [
      "3\n"
     ]
    }
   ],
   "source": [
    "import random\n",
    "print(random.randint(0,9))"
   ]
  }
 ],
 "metadata": {
  "kernelspec": {
   "display_name": "Python 3",
   "language": "python",
   "name": "python3"
  },
  "language_info": {
   "codemirror_mode": {
    "name": "ipython",
    "version": 3
   },
   "file_extension": ".py",
   "mimetype": "text/x-python",
   "name": "python",
   "nbconvert_exporter": "python",
   "pygments_lexer": "ipython3",
   "version": "3.8.3"
  }
 },
 "nbformat": 4,
 "nbformat_minor": 4
}
