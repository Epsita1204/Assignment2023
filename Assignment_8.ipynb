{
 "cells": [
  {
   "cell_type": "code",
   "execution_count": null,
   "metadata": {},
   "outputs": [],
   "source": [
    "Q1. What are the two latest user-defined exception constraints in Python 3.X?"
   ]
  },
  {
   "cell_type": "code",
   "execution_count": null,
   "metadata": {},
   "outputs": [],
   "source": [
    "User-Defined Exceptions in Python-\n",
    "1.class JustException(Exception):def __init__(self,message):print(message)\n",
    "2.raise JustException(\"Raise an Exception\")"
   ]
  },
  {
   "cell_type": "code",
   "execution_count": null,
   "metadata": {},
   "outputs": [],
   "source": [
    "Q2. How are class-based exceptions that have been raised matched to handlers?"
   ]
  },
  {
   "cell_type": "code",
   "execution_count": null,
   "metadata": {},
   "outputs": [],
   "source": [
    "To handle the exception ,we have put the code,result=numerator/denominator inside the try block.Now when an exception \n",
    "occurs ,the rest of the code inside the try block is skipped.The except block catches the exception and statements inside\n",
    "the except block are executed."
   ]
  },
  {
   "cell_type": "code",
   "execution_count": null,
   "metadata": {},
   "outputs": [],
   "source": [
    "Q3. Describe two methods for attaching context information to exception artefacts."
   ]
  },
  {
   "cell_type": "code",
   "execution_count": null,
   "metadata": {},
   "outputs": [],
   "source": [
    "Here are the two methods for attaching context information to exception artefacts :\n",
    "    \n",
    "1.Using the 'args' attribute of the exception object:When an exception is raised ,you can pass additional contexttual \n",
    "information as the argument(s) to the exception.This additional information can be accessed through the 'args' attribute of\n",
    "the exception object when it is caught.\n",
    "2.Using a custom exception class: You can create a custom exception class that inherits from the built-in 'Exception' class\n",
    "and includes additional attributes for the contextual information."
   ]
  },
  {
   "cell_type": "code",
   "execution_count": null,
   "metadata": {},
   "outputs": [],
   "source": [
    "Q4. Describe two methods for specifying the text of an exception object's error message."
   ]
  },
  {
   "cell_type": "code",
   "execution_count": null,
   "metadata": {},
   "outputs": [],
   "source": [
    "Here are the two methods for specifying the text of an exception object's error message :\n",
    "\n",
    "1.Using the message argument: Most built-in exception classes in Python allow you to specify an error message as the first\n",
    "argument when raising the exception.\n",
    "2.Overriding the exception class's __str__ method:All exception classes in Python inherit from the base 'Exception' class,\n",
    "which defines a '__str__' method that returns the string representation of the exception.You can override this method in \n",
    "your custom exception class to define a custom error message."
   ]
  },
  {
   "cell_type": "code",
   "execution_count": null,
   "metadata": {},
   "outputs": [],
   "source": [
    "Q5. Why do you no longer use string-based exceptions?"
   ]
  },
  {
   "cell_type": "code",
   "execution_count": null,
   "metadata": {},
   "outputs": [],
   "source": [
    "1.Lack of specificity\n",
    "2.No way to catch specific exceptions\n",
    "3.Lack of consistency\n",
    "4.No support for traceback"
   ]
  }
 ],
 "metadata": {
  "kernelspec": {
   "display_name": "Python 3",
   "language": "python",
   "name": "python3"
  },
  "language_info": {
   "codemirror_mode": {
    "name": "ipython",
    "version": 3
   },
   "file_extension": ".py",
   "mimetype": "text/x-python",
   "name": "python",
   "nbconvert_exporter": "python",
   "pygments_lexer": "ipython3",
   "version": "3.8.3"
  }
 },
 "nbformat": 4,
 "nbformat_minor": 4
}
